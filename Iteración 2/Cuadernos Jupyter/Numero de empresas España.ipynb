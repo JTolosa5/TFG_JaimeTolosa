{
 "cells": [
  {
   "cell_type": "code",
   "execution_count": 24,
   "metadata": {},
   "outputs": [],
   "source": [
    "import pandas as pd\n",
    "import numpy as np\n",
    "import matplotlib.pyplot as plt"
   ]
  },
  {
   "cell_type": "code",
   "execution_count": 8,
   "metadata": {
    "scrolled": true
   },
   "outputs": [],
   "source": [
    "num_empresas = pd.read_csv('../Datasets/Numero de empresas en espana.csv',sep=',')"
   ]
  },
  {
   "cell_type": "code",
   "execution_count": 9,
   "metadata": {},
   "outputs": [
    {
     "data": {
      "text/html": [
       "<div>\n",
       "<style scoped>\n",
       "    .dataframe tbody tr th:only-of-type {\n",
       "        vertical-align: middle;\n",
       "    }\n",
       "\n",
       "    .dataframe tbody tr th {\n",
       "        vertical-align: top;\n",
       "    }\n",
       "\n",
       "    .dataframe thead th {\n",
       "        text-align: right;\n",
       "    }\n",
       "</style>\n",
       "<table border=\"1\" class=\"dataframe\">\n",
       "  <thead>\n",
       "    <tr style=\"text-align: right;\">\n",
       "      <th></th>\n",
       "      <th>2018</th>\n",
       "      <th>2017</th>\n",
       "      <th>2016</th>\n",
       "      <th>2015</th>\n",
       "      <th>2014</th>\n",
       "      <th>2013</th>\n",
       "      <th>2012</th>\n",
       "      <th>2011</th>\n",
       "      <th>2010</th>\n",
       "      <th>2009</th>\n",
       "      <th>2008</th>\n",
       "    </tr>\n",
       "  </thead>\n",
       "  <tbody>\n",
       "    <tr>\n",
       "      <th>0</th>\n",
       "      <td>3337646.0</td>\n",
       "      <td>3282346.0</td>\n",
       "      <td>3236582.0</td>\n",
       "      <td>3186878.0</td>\n",
       "      <td>3119310.0</td>\n",
       "      <td>3146570.0</td>\n",
       "      <td>3199617.0</td>\n",
       "      <td>3250576.0</td>\n",
       "      <td>3291263.0</td>\n",
       "      <td>3355830.0</td>\n",
       "      <td>3422239.0</td>\n",
       "    </tr>\n",
       "  </tbody>\n",
       "</table>\n",
       "</div>"
      ],
      "text/plain": [
       "        2018       2017       2016       2015       2014       2013  \\\n",
       "0  3337646.0  3282346.0  3236582.0  3186878.0  3119310.0  3146570.0   \n",
       "\n",
       "        2012       2011       2010       2009       2008  \n",
       "0  3199617.0  3250576.0  3291263.0  3355830.0  3422239.0  "
      ]
     },
     "execution_count": 9,
     "metadata": {},
     "output_type": "execute_result"
    }
   ],
   "source": [
    "num_empresas.head()"
   ]
  },
  {
   "cell_type": "code",
   "execution_count": 77,
   "metadata": {},
   "outputs": [],
   "source": [
    "columnas=list(num_empresas.columns)\n",
    "columnas.reverse()\n",
    "datos = list(num_empresas.values[0])\n",
    "datos.reverse()"
   ]
  },
  {
   "cell_type": "code",
   "execution_count": 78,
   "metadata": {},
   "outputs": [
    {
     "data": {
      "text/plain": [
       "['2008',\n",
       " '2009',\n",
       " '2010',\n",
       " '2011',\n",
       " '2012',\n",
       " '2013',\n",
       " '2014',\n",
       " '2015',\n",
       " '2016',\n",
       " '2017',\n",
       " '2018']"
      ]
     },
     "execution_count": 78,
     "metadata": {},
     "output_type": "execute_result"
    }
   ],
   "source": [
    "columnas"
   ]
  },
  {
   "cell_type": "code",
   "execution_count": 79,
   "metadata": {
    "scrolled": true
   },
   "outputs": [
    {
     "data": {
      "image/png": "[encoded data removed]",
      "text/plain": [
       "<Figure size 432x288 with 1 Axes>"
      ]
     },
     "metadata": {
      "needs_background": "light"
     },
     "output_type": "display_data"
    }
   ],
   "source": [
    "%matplotlib inline\n",
    "plt.plot(columnas,datos,'bo')\n",
    "plt.plot(columnas,datos)\n",
    "plt.title('Evolucion del número de empresas en España')\n",
    "plt.ylabel('Numero de empresas')\n",
    "plt.xlabel('Años')\n",
    "plt.savefig('../../TFG_Jaime/Evolucion_del_numero_de_empresas')"
   ]
  },
  {
   "cell_type": "code",
   "execution_count": 35,
   "metadata": {},
   "outputs": [],
   "source": [
    "frase = 'tengo un tractor amarillo que es lo que se lleva ahora'\n",
    "\n",
    "def contarletras(frase,letra):\n",
    "    cont = 0\n",
    "    for i in frase: \n",
    "        if i == letra:\n",
    "            cont += 1\n",
    "    return cont\n"
   ]
  },
  {
   "cell_type": "code",
   "execution_count": 36,
   "metadata": {},
   "outputs": [
    {
     "data": {
      "text/plain": [
       "6"
      ]
     },
     "execution_count": 36,
     "metadata": {},
     "output_type": "execute_result"
    }
   ],
   "source": [
    "contarletras(frase,'a')"
   ]
  },
  {
   "cell_type": "code",
   "execution_count": 44,
   "metadata": {},
   "outputs": [],
   "source": [
    "desempleo = pd.read_csv('../Datasets/tasa de desempleo en espana.csv',sep=',')"
   ]
  },
  {
   "cell_type": "code",
   "execution_count": 45,
   "metadata": {},
   "outputs": [
    {
     "data": {
      "text/html": [
       "<div>\n",
       "<style scoped>\n",
       "    .dataframe tbody tr th:only-of-type {\n",
       "        vertical-align: middle;\n",
       "    }\n",
       "\n",
       "    .dataframe tbody tr th {\n",
       "        vertical-align: top;\n",
       "    }\n",
       "\n",
       "    .dataframe thead th {\n",
       "        text-align: right;\n",
       "    }\n",
       "</style>\n",
       "<table border=\"1\" class=\"dataframe\">\n",
       "  <thead>\n",
       "    <tr style=\"text-align: right;\">\n",
       "      <th></th>\n",
       "      <th>2018T4</th>\n",
       "      <th>2018T3</th>\n",
       "      <th>2018T2</th>\n",
       "      <th>2018T1</th>\n",
       "      <th>2017T4</th>\n",
       "      <th>2017T3</th>\n",
       "      <th>2017T2</th>\n",
       "      <th>2017T1</th>\n",
       "      <th>2016T4</th>\n",
       "      <th>2016T3</th>\n",
       "      <th>...</th>\n",
       "      <th>2004T2</th>\n",
       "      <th>2004T1</th>\n",
       "      <th>2003T4</th>\n",
       "      <th>2003T3</th>\n",
       "      <th>2003T2</th>\n",
       "      <th>2003T1</th>\n",
       "      <th>2002T4</th>\n",
       "      <th>2002T3</th>\n",
       "      <th>2002T2</th>\n",
       "      <th>2002T1</th>\n",
       "    </tr>\n",
       "  </thead>\n",
       "  <tbody>\n",
       "    <tr>\n",
       "      <th>0</th>\n",
       "      <td>14.45</td>\n",
       "      <td>14.55</td>\n",
       "      <td>15.28</td>\n",
       "      <td>16.74</td>\n",
       "      <td>16.55</td>\n",
       "      <td>16.38</td>\n",
       "      <td>17.22</td>\n",
       "      <td>18.75</td>\n",
       "      <td>18.63</td>\n",
       "      <td>18.91</td>\n",
       "      <td>...</td>\n",
       "      <td>11.09</td>\n",
       "      <td>11.5</td>\n",
       "      <td>11.37</td>\n",
       "      <td>11.3</td>\n",
       "      <td>11.28</td>\n",
       "      <td>11.99</td>\n",
       "      <td>11.61</td>\n",
       "      <td>11.49</td>\n",
       "      <td>11.15</td>\n",
       "      <td>11.55</td>\n",
       "    </tr>\n",
       "  </tbody>\n",
       "</table>\n",
       "<p>1 rows × 68 columns</p>\n",
       "</div>"
      ],
      "text/plain": [
       "   2018T4  2018T3  2018T2  2018T1  2017T4  2017T3  2017T2  2017T1  2016T4  \\\n",
       "0   14.45   14.55   15.28   16.74   16.55   16.38   17.22   18.75   18.63   \n",
       "\n",
       "   2016T3   ...    2004T2  2004T1  2003T4  2003T3  2003T2  2003T1  2002T4  \\\n",
       "0   18.91   ...     11.09    11.5   11.37    11.3   11.28   11.99   11.61   \n",
       "\n",
       "   2002T3  2002T2  2002T1  \n",
       "0   11.49   11.15   11.55  \n",
       "\n",
       "[1 rows x 68 columns]"
      ]
     },
     "execution_count": 45,
     "metadata": {},
     "output_type": "execute_result"
    }
   ],
   "source": [
    "desempleo.head()"
   ]
  },
  {
   "cell_type": "code",
   "execution_count": null,
   "metadata": {},
   "outputs": [],
   "source": []
  },
  {
   "cell_type": "code",
   "execution_count": 59,
   "metadata": {},
   "outputs": [
    {
     "name": "stdout",
     "output_type": "stream",
     "text": [
      "[14.45, 14.55, 15.28, 16.74]\n",
      "[16.55, 16.38, 17.22, 18.75]\n",
      "[18.63, 18.91, 20.0, 21.0]\n",
      "[20.9, 21.18, 22.37, 23.78]\n",
      "[23.7, 23.67, 24.47, 25.93]\n",
      "[25.73, 25.65, 26.06, 26.94]\n",
      "[25.77, 24.79, 24.4, 24.19]\n",
      "[22.56, 21.28, 20.64, 21.08]\n",
      "[20.11, 19.59, 19.89, 19.84]\n",
      "[18.66, 17.75, 17.77, 17.24]\n",
      "[13.79, 11.23, 10.36, 9.6]\n",
      "[8.57, 8.01, 7.93, 8.42]\n",
      "[8.26, 8.08, 8.44, 9.03]\n",
      "[8.71, 8.41, 9.32, 10.17]\n",
      "[10.53, 10.74, 11.09, 11.5]\n",
      "[11.37, 11.3, 11.28, 11.99]\n",
      "[11.61, 11.49, 11.15, 11.55]\n"
     ]
    }
   ],
   "source": [
    "cont = 4\n",
    "lista = []\n",
    "lista_p=[]\n",
    "for i in desempleo.values[0]:\n",
    "    if cont % 4 == 3:\n",
    "        lista_p.append(i)\n",
    "        print(lista_p)\n",
    "        lista.append(np.mean(lista_p))\n",
    "        lista_p=[]\n",
    "    else:\n",
    "        lista_p.append(i)\n",
    "    cont+=1\n"
   ]
  },
  {
   "cell_type": "code",
   "execution_count": 60,
   "metadata": {},
   "outputs": [],
   "source": [
    "lista.reverse()"
   ]
  },
  {
   "cell_type": "code",
   "execution_count": 81,
   "metadata": {},
   "outputs": [
    {
     "data": {
      "image/png": "[encoded data removed]",
      "text/plain": [
       "<Figure size 432x288 with 1 Axes>"
      ]
     },
     "metadata": {
      "needs_background": "light"
     },
     "output_type": "display_data"
    }
   ],
   "source": [
    "%matplotlib inline\n",
    "plt.plot(range(2002,2019),lista,'bo')\n",
    "plt.plot(range(2002,2019),lista)\n",
    "plt.title('Evolucion del paro en España')\n",
    "plt.ylabel('Tasa de paro')\n",
    "plt.xlabel('Años')\n",
    "plt.savefig('../../TFG_Jaime/Evolucion del paro')\n"
   ]
  },
  {
   "cell_type": "code",
   "execution_count": null,
   "metadata": {},
   "outputs": [],
   "source": []
  }
 ],
 "metadata": {
  "kernelspec": {
   "display_name": "Python 3",
   "language": "python",
   "name": "python3"
  },
  "language_info": {
   "codemirror_mode": {
    "name": "ipython",
    "version": 3
   },
   "file_extension": ".py",
   "mimetype": "text/x-python",
   "name": "python",
   "nbconvert_exporter": "python",
   "pygments_lexer": "ipython3",
   "version": "3.7.3"
  }
 },
 "nbformat": 4,
 "nbformat_minor": 2
}
