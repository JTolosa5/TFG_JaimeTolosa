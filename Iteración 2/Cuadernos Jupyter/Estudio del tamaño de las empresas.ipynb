{
 "cells": [
  {
   "cell_type": "code",
   "execution_count": 2,
   "metadata": {},
   "outputs": [],
   "source": [
    "import pandas as pd\n",
    "import numpy as np\n",
    "import matplotlib.pyplot as plt"
   ]
  },
  {
   "cell_type": "code",
   "execution_count": 3,
   "metadata": {},
   "outputs": [],
   "source": [
    "Concurso = pd.read_csv('../Datasets/Concursosv2.csv',decimal = ',')"
   ]
  },
  {
   "cell_type": "code",
   "execution_count": 4,
   "metadata": {},
   "outputs": [
    {
     "data": {
      "text/html": [
       "<div>\n",
       "<style scoped>\n",
       "    .dataframe tbody tr th:only-of-type {\n",
       "        vertical-align: middle;\n",
       "    }\n",
       "\n",
       "    .dataframe tbody tr th {\n",
       "        vertical-align: top;\n",
       "    }\n",
       "\n",
       "    .dataframe thead th {\n",
       "        text-align: right;\n",
       "    }\n",
       "</style>\n",
       "<table border=\"1\" class=\"dataframe\">\n",
       "  <thead>\n",
       "    <tr style=\"text-align: right;\">\n",
       "      <th></th>\n",
       "      <th>Nombre</th>\n",
       "      <th>Localidad</th>\n",
       "      <th>Comunidad autónoma</th>\n",
       "      <th>Código NIF</th>\n",
       "      <th>Forma jurídica</th>\n",
       "      <th>Estado</th>\n",
       "      <th>Ultimo año disponible</th>\n",
       "      <th>Código primario CNAE 2009</th>\n",
       "      <th>Ingresos de explotación EUR Año - 2</th>\n",
       "      <th>Ingresos de explotación EUR Año - 3</th>\n",
       "      <th>...</th>\n",
       "      <th>Fondo maniobra % Año - 2</th>\n",
       "      <th>Fondo maniobra % Año - 3</th>\n",
       "      <th>Fondo maniobra % Año - 4</th>\n",
       "      <th>Necesidad fondo maniobra % Año - 2</th>\n",
       "      <th>Necesidad fondo maniobra % Año - 3</th>\n",
       "      <th>Necesidad fondo maniobra % Año - 4</th>\n",
       "      <th>Tesorería % Año - 2</th>\n",
       "      <th>Tesorería % Año - 3</th>\n",
       "      <th>Tesorería % Año - 4</th>\n",
       "      <th>Incidencias Judiciales</th>\n",
       "    </tr>\n",
       "  </thead>\n",
       "  <tbody>\n",
       "    <tr>\n",
       "      <th>0</th>\n",
       "      <td>CORSAN-CORVIAM CONSTRUCCION SA</td>\n",
       "      <td>MADRID</td>\n",
       "      <td>Madrid</td>\n",
       "      <td>A79222709</td>\n",
       "      <td>Sociedad anonima</td>\n",
       "      <td>Concurso</td>\n",
       "      <td>31/12/2017</td>\n",
       "      <td>4110.0</td>\n",
       "      <td>450857000.0</td>\n",
       "      <td>620190000.0</td>\n",
       "      <td>...</td>\n",
       "      <td>NaN</td>\n",
       "      <td>NaN</td>\n",
       "      <td>NaN</td>\n",
       "      <td>-0.30</td>\n",
       "      <td>0.04</td>\n",
       "      <td>0.22</td>\n",
       "      <td>-27.99</td>\n",
       "      <td>24.73</td>\n",
       "      <td>-49.53</td>\n",
       "      <td>50.0</td>\n",
       "    </tr>\n",
       "    <tr>\n",
       "      <th>1</th>\n",
       "      <td>CODYT SA</td>\n",
       "      <td>BARCELONA</td>\n",
       "      <td>Cataluña</td>\n",
       "      <td>A58358177</td>\n",
       "      <td>Sociedad anonima</td>\n",
       "      <td>Concurso</td>\n",
       "      <td>31/12/2009</td>\n",
       "      <td>4634.0</td>\n",
       "      <td>174135481.0</td>\n",
       "      <td>146540648.0</td>\n",
       "      <td>...</td>\n",
       "      <td>50.55</td>\n",
       "      <td>13.56</td>\n",
       "      <td>-11.44</td>\n",
       "      <td>0.54</td>\n",
       "      <td>0.13</td>\n",
       "      <td>-0.13</td>\n",
       "      <td>-45.29</td>\n",
       "      <td>81.96</td>\n",
       "      <td>-46.55</td>\n",
       "      <td>1.0</td>\n",
       "    </tr>\n",
       "    <tr>\n",
       "      <th>2</th>\n",
       "      <td>O W BUNKER SPAIN SL</td>\n",
       "      <td>MADRID</td>\n",
       "      <td>Madrid</td>\n",
       "      <td>B84546415</td>\n",
       "      <td>Sociedad limitada</td>\n",
       "      <td>Concurso</td>\n",
       "      <td>31/12/2013</td>\n",
       "      <td>4612.0</td>\n",
       "      <td>155778559.0</td>\n",
       "      <td>163773900.0</td>\n",
       "      <td>...</td>\n",
       "      <td>458.06</td>\n",
       "      <td>-78.31</td>\n",
       "      <td>2203.57</td>\n",
       "      <td>-0.83</td>\n",
       "      <td>16.37</td>\n",
       "      <td>-0.92</td>\n",
       "      <td>6.32</td>\n",
       "      <td>-16.31</td>\n",
       "      <td>147.09</td>\n",
       "      <td>1.0</td>\n",
       "    </tr>\n",
       "    <tr>\n",
       "      <th>3</th>\n",
       "      <td>THYSSEN ROS CASARES SA</td>\n",
       "      <td>PUIG</td>\n",
       "      <td>Comunidad Valenciana</td>\n",
       "      <td>A46467965</td>\n",
       "      <td>Sociedad anonima</td>\n",
       "      <td>Concurso</td>\n",
       "      <td>30/09/2012</td>\n",
       "      <td>2432.0</td>\n",
       "      <td>107899956.0</td>\n",
       "      <td>91167053.0</td>\n",
       "      <td>...</td>\n",
       "      <td>41.55</td>\n",
       "      <td>-52.40</td>\n",
       "      <td>28.70</td>\n",
       "      <td>0.37</td>\n",
       "      <td>-0.62</td>\n",
       "      <td>0.30</td>\n",
       "      <td>776.05</td>\n",
       "      <td>250.35</td>\n",
       "      <td>-60.82</td>\n",
       "      <td>1.0</td>\n",
       "    </tr>\n",
       "    <tr>\n",
       "      <th>4</th>\n",
       "      <td>ADVEO ESPAÑA SA.</td>\n",
       "      <td>TRES CANTOS</td>\n",
       "      <td>Madrid</td>\n",
       "      <td>A82351867</td>\n",
       "      <td>Sociedad anonima</td>\n",
       "      <td>Concurso</td>\n",
       "      <td>31/12/2016</td>\n",
       "      <td>1723.0</td>\n",
       "      <td>219255000.0</td>\n",
       "      <td>328176000.0</td>\n",
       "      <td>...</td>\n",
       "      <td>24.63</td>\n",
       "      <td>167.34</td>\n",
       "      <td>3.13</td>\n",
       "      <td>0.17</td>\n",
       "      <td>-14.39</td>\n",
       "      <td>-0.44</td>\n",
       "      <td>-27.39</td>\n",
       "      <td>686.21</td>\n",
       "      <td>-94.15</td>\n",
       "      <td>1.0</td>\n",
       "    </tr>\n",
       "  </tbody>\n",
       "</table>\n",
       "<p>5 rows × 282 columns</p>\n",
       "</div>"
      ],
      "text/plain": [
       "                           Nombre    Localidad    Comunidad autónoma  \\\n",
       "0  CORSAN-CORVIAM CONSTRUCCION SA       MADRID                Madrid   \n",
       "1                        CODYT SA    BARCELONA              Cataluña   \n",
       "2             O W BUNKER SPAIN SL       MADRID                Madrid   \n",
       "3          THYSSEN ROS CASARES SA         PUIG  Comunidad Valenciana   \n",
       "4                ADVEO ESPAÑA SA.  TRES CANTOS                Madrid   \n",
       "\n",
       "  Código NIF     Forma jurídica    Estado Ultimo año disponible  \\\n",
       "0  A79222709   Sociedad anonima  Concurso            31/12/2017   \n",
       "1  A58358177   Sociedad anonima  Concurso            31/12/2009   \n",
       "2  B84546415  Sociedad limitada  Concurso            31/12/2013   \n",
       "3  A46467965   Sociedad anonima  Concurso            30/09/2012   \n",
       "4  A82351867   Sociedad anonima  Concurso            31/12/2016   \n",
       "\n",
       "  Código primario CNAE 2009 Ingresos de explotación EUR Año - 2  \\\n",
       "0                    4110.0                         450857000.0   \n",
       "1                    4634.0                         174135481.0   \n",
       "2                    4612.0                         155778559.0   \n",
       "3                    2432.0                         107899956.0   \n",
       "4                    1723.0                         219255000.0   \n",
       "\n",
       "  Ingresos de explotación EUR Año - 3  ... Fondo maniobra % Año - 2  \\\n",
       "0                         620190000.0  ...                      NaN   \n",
       "1                         146540648.0  ...                    50.55   \n",
       "2                         163773900.0  ...                   458.06   \n",
       "3                          91167053.0  ...                    41.55   \n",
       "4                         328176000.0  ...                    24.63   \n",
       "\n",
       "  Fondo maniobra % Año - 3 Fondo maniobra % Año - 4  \\\n",
       "0                      NaN                      NaN   \n",
       "1                    13.56                   -11.44   \n",
       "2                   -78.31                  2203.57   \n",
       "3                   -52.40                    28.70   \n",
       "4                   167.34                     3.13   \n",
       "\n",
       "  Necesidad fondo maniobra % Año - 2 Necesidad fondo maniobra % Año - 3  \\\n",
       "0                              -0.30                               0.04   \n",
       "1                               0.54                               0.13   \n",
       "2                              -0.83                              16.37   \n",
       "3                               0.37                              -0.62   \n",
       "4                               0.17                             -14.39   \n",
       "\n",
       "  Necesidad fondo maniobra % Año - 4 Tesorería % Año - 2 Tesorería % Año - 3  \\\n",
       "0                               0.22              -27.99               24.73   \n",
       "1                              -0.13              -45.29               81.96   \n",
       "2                              -0.92                6.32              -16.31   \n",
       "3                               0.30              776.05              250.35   \n",
       "4                              -0.44              -27.39              686.21   \n",
       "\n",
       "  Tesorería % Año - 4 Incidencias Judiciales  \n",
       "0              -49.53                   50.0  \n",
       "1              -46.55                    1.0  \n",
       "2              147.09                    1.0  \n",
       "3              -60.82                    1.0  \n",
       "4              -94.15                    1.0  \n",
       "\n",
       "[5 rows x 282 columns]"
      ]
     },
     "execution_count": 4,
     "metadata": {},
     "output_type": "execute_result"
    }
   ],
   "source": [
    "Concurso.head(5)"
   ]
  },
  {
   "cell_type": "code",
   "execution_count": 4,
   "metadata": {},
   "outputs": [
    {
     "data": {
      "text/plain": [
       "['Nombre',\n",
       " 'Localidad',\n",
       " 'Comunidad autónoma',\n",
       " 'Código NIF',\n",
       " 'Forma jurídica',\n",
       " 'Estado',\n",
       " 'Ultimo año disponible',\n",
       " 'Código primario CNAE 2009',\n",
       " 'Ingresos de explotación EUR Año - 2',\n",
       " 'Ingresos de explotación EUR Año - 3',\n",
       " 'Ingresos de explotación EUR Año - 4',\n",
       " 'Result. ordinarios antes Impuestos EUR Año - 2',\n",
       " 'Result. ordinarios antes Impuestos EUR Año - 3',\n",
       " 'Result. ordinarios antes Impuestos EUR Año - 4',\n",
       " 'Resultado del Ejercicio EUR Año - 2',\n",
       " 'Resultado del Ejercicio EUR Año - 3',\n",
       " 'Resultado del Ejercicio EUR Año - 4',\n",
       " 'Total Activo EUR Año - 2',\n",
       " 'Total Activo EUR Año - 3',\n",
       " 'Total Activo EUR Año - 4',\n",
       " 'Fondos propios EUR Año - 2',\n",
       " 'Fondos propios EUR Año - 3',\n",
       " 'Fondos propios EUR Año - 4',\n",
       " 'Rentabilidad económica (%) % Año - 2',\n",
       " 'Rentabilidad económica (%) % Año - 3',\n",
       " 'Rentabilidad económica (%) % Año - 4',\n",
       " 'Rentabilidad financiera (%) % Año - 2',\n",
       " 'Rentabilidad financiera (%) % Año - 3',\n",
       " 'Rentabilidad financiera (%) % Año - 4',\n",
       " 'Liquidez general % Año - 2',\n",
       " 'Liquidez general % Año - 3',\n",
       " 'Liquidez general % Año - 4',\n",
       " 'Endeudamiento (%) % Año - 2',\n",
       " 'Endeudamiento (%) % Año - 3',\n",
       " 'Endeudamiento (%) % Año - 4',\n",
       " 'Número empleados Año - 2',\n",
       " 'Número empleados Año - 3',\n",
       " 'Número empleados Año - 4',\n",
       " 'Inmovilizado EUR Año - 2',\n",
       " 'Inmovilizado EUR Año - 3',\n",
       " 'Inmovilizado EUR Año - 4',\n",
       " 'Inmovilizado inmaterial EUR Año - 2',\n",
       " 'Inmovilizado inmaterial EUR Año - 3',\n",
       " 'Inmovilizado inmaterial EUR Año - 4',\n",
       " 'Inmovilizado material EUR Año - 2',\n",
       " 'Inmovilizado material EUR Año - 3',\n",
       " 'Inmovilizado material EUR Año - 4',\n",
       " 'Otros activos fijos EUR Año - 2',\n",
       " 'Otros activos fijos EUR Año - 3',\n",
       " 'Otros activos fijos EUR Año - 4',\n",
       " 'Activo circulante EUR Año - 2',\n",
       " 'Activo circulante EUR Año - 3',\n",
       " 'Activo circulante EUR Año - 4',\n",
       " 'Existencias EUR Año - 2',\n",
       " 'Existencias EUR Año - 3',\n",
       " 'Existencias EUR Año - 4',\n",
       " 'Deudores EUR Año - 2',\n",
       " 'Deudores EUR Año - 3',\n",
       " 'Deudores EUR Año - 4',\n",
       " 'Otros activos líquidos EUR Año - 2',\n",
       " 'Otros activos líquidos EUR Año - 3',\n",
       " 'Otros activos líquidos EUR Año - 4',\n",
       " 'Tesorería EUR Año - 2',\n",
       " 'Tesorería EUR Año - 3',\n",
       " 'Tesorería EUR Año - 4',\n",
       " 'Total activo EUR Año - 2',\n",
       " 'Total activo EUR Año - 3',\n",
       " 'Total activo EUR Año - 4',\n",
       " 'Fondos propios EUR Año - 2.1',\n",
       " 'Fondos propios EUR Año - 3.1',\n",
       " 'Fondos propios EUR Año - 4.1',\n",
       " 'Capital suscrito EUR Año - 2',\n",
       " 'Capital suscrito EUR Año - 3',\n",
       " 'Capital suscrito EUR Año - 4',\n",
       " 'Otros fondos propios EUR Año - 2',\n",
       " 'Otros fondos propios EUR Año - 3',\n",
       " 'Otros fondos propios EUR Año - 4',\n",
       " 'Pasivo fijo EUR Año - 2',\n",
       " 'Pasivo fijo EUR Año - 3',\n",
       " 'Pasivo fijo EUR Año - 4',\n",
       " 'Acreedores a L. P. EUR Año - 2',\n",
       " 'Acreedores a L. P. EUR Año - 3',\n",
       " 'Acreedores a L. P. EUR Año - 4',\n",
       " 'Otros pasivos fijos EUR Año - 2',\n",
       " 'Otros pasivos fijos EUR Año - 3',\n",
       " 'Otros pasivos fijos EUR Año - 4',\n",
       " 'Provisiones EUR Año - 2',\n",
       " 'Provisiones EUR Año - 3',\n",
       " 'Provisiones EUR Año - 4',\n",
       " 'Pasivo líquido EUR Año - 2',\n",
       " 'Pasivo líquido EUR Año - 3',\n",
       " 'Pasivo líquido EUR Año - 4',\n",
       " 'Deudas financieras EUR Año - 2',\n",
       " 'Deudas financieras EUR Año - 3',\n",
       " 'Deudas financieras EUR Año - 4',\n",
       " 'Acreedores comerciales EUR Año - 2',\n",
       " 'Acreedores comerciales EUR Año - 3',\n",
       " 'Acreedores comerciales EUR Año - 4',\n",
       " 'Otros pasivos líquidos EUR Año - 2',\n",
       " 'Otros pasivos líquidos EUR Año - 3',\n",
       " 'Otros pasivos líquidos EUR Año - 4',\n",
       " 'Total pasivo y capital propio EUR Año - 2',\n",
       " 'Total pasivo y capital propio EUR Año - 3',\n",
       " 'Total pasivo y capital propio EUR Año - 4',\n",
       " 'Fondo de maniobra EUR Año - 2',\n",
       " 'Fondo de maniobra EUR Año - 3',\n",
       " 'Fondo de maniobra EUR Año - 4',\n",
       " 'Número empleados Año - 2.1',\n",
       " 'Número empleados Año - 3.1',\n",
       " 'Número empleados Año - 4.1',\n",
       " 'Ingresos de explotación EUR Año - 2.1',\n",
       " 'Ingresos de explotación EUR Año - 3.1',\n",
       " 'Ingresos de explotación EUR Año - 4.1',\n",
       " 'Importe neto Cifra de Ventas EUR Año - 2',\n",
       " 'Importe neto Cifra de Ventas EUR Año - 3',\n",
       " 'Importe neto Cifra de Ventas EUR Año - 4',\n",
       " 'Consumo de mercaderías y de materias EUR Año - 2',\n",
       " 'Consumo de mercaderías y de materias EUR Año - 3',\n",
       " 'Consumo de mercaderías y de materias EUR Año - 4',\n",
       " 'Resultado bruto EUR Año - 2',\n",
       " 'Resultado bruto EUR Año - 3',\n",
       " 'Resultado bruto EUR Año - 4',\n",
       " 'Otros gastos de explotación EUR Año - 2',\n",
       " 'Otros gastos de explotación EUR Año - 3',\n",
       " 'Otros gastos de explotación EUR Año - 4',\n",
       " 'Resultado Explotación EUR Año - 2',\n",
       " 'Resultado Explotación EUR Año - 3',\n",
       " 'Resultado Explotación EUR Año - 4',\n",
       " 'Ingresos financieros EUR Año - 2',\n",
       " 'Ingresos financieros EUR Año - 3',\n",
       " 'Ingresos financieros EUR Año - 4',\n",
       " 'Gastos financieros EUR Año - 2',\n",
       " 'Gastos financieros EUR Año - 3',\n",
       " 'Gastos financieros EUR Año - 4',\n",
       " 'Resultado financiero EUR Año - 2',\n",
       " 'Resultado financiero EUR Año - 3',\n",
       " 'Resultado financiero EUR Año - 4',\n",
       " 'Result. ordinarios antes Impuestos EUR Año - 2.1',\n",
       " 'Result. ordinarios antes Impuestos EUR Año - 3.1',\n",
       " 'Result. ordinarios antes Impuestos EUR Año - 4.1',\n",
       " 'Impuestos sobre sociedades EUR Año - 2',\n",
       " 'Impuestos sobre sociedades EUR Año - 3',\n",
       " 'Impuestos sobre sociedades EUR Año - 4',\n",
       " 'Resultado Actividades Ordinarias EUR Año - 2',\n",
       " 'Resultado Actividades Ordinarias EUR Año - 3',\n",
       " 'Resultado Actividades Ordinarias EUR Año - 4',\n",
       " 'Ingresos extraordinarios EUR Año - 2',\n",
       " 'Ingresos extraordinarios EUR Año - 3',\n",
       " 'Ingresos extraordinarios EUR Año - 4',\n",
       " 'Gastos extraordinarios EUR Año - 2',\n",
       " 'Gastos extraordinarios EUR Año - 3',\n",
       " 'Gastos extraordinarios EUR Año - 4',\n",
       " 'Resultados actividades extraordinarias EUR Año - 2',\n",
       " 'Resultados actividades extraordinarias EUR Año - 3',\n",
       " 'Resultados actividades extraordinarias EUR Año - 4',\n",
       " 'Resultado del Ejercicio EUR Año - 2.1',\n",
       " 'Resultado del Ejercicio EUR Año - 3.1',\n",
       " 'Resultado del Ejercicio EUR Año - 4.1',\n",
       " 'Materiales EUR Año - 2',\n",
       " 'Materiales EUR Año - 3',\n",
       " 'Materiales EUR Año - 4',\n",
       " 'Gastos de personal EUR Año - 2',\n",
       " 'Gastos de personal EUR Año - 3',\n",
       " 'Gastos de personal EUR Año - 4',\n",
       " 'Dotaciones para amortiz. de inmovil. EUR Año - 2',\n",
       " 'Dotaciones para amortiz. de inmovil. EUR Año - 3',\n",
       " 'Dotaciones para amortiz. de inmovil. EUR Año - 4',\n",
       " 'Other operating items Año - 2',\n",
       " 'Other operating items Año - 3',\n",
       " 'Other operating items Año - 4',\n",
       " 'Gastos financieros y gastos asimilados EUR Año - 2',\n",
       " 'Gastos financieros y gastos asimilados EUR Año - 3',\n",
       " 'Gastos financieros y gastos asimilados EUR Año - 4',\n",
       " 'Cash flow EUR Año - 2',\n",
       " 'Cash flow EUR Año - 3',\n",
       " 'Cash flow EUR Año - 4',\n",
       " 'Valor agregado EUR Año - 2',\n",
       " 'Valor agregado EUR Año - 3',\n",
       " 'Valor agregado EUR Año - 4',\n",
       " 'EBIT EUR Año - 2',\n",
       " 'EBIT EUR Año - 3',\n",
       " 'EBIT EUR Año - 4',\n",
       " 'EBITDA EUR Año - 2',\n",
       " 'EBITDA EUR Año - 3',\n",
       " 'EBITDA EUR Año - 4',\n",
       " 'Rentabilidad sobre recursos propios (%) % Año - 2',\n",
       " 'Rentabilidad sobre recursos propios (%) % Año - 3',\n",
       " 'Rentabilidad sobre recursos propios (%) % Año - 4',\n",
       " 'Rentabilidad sobre capital empleado (%) % Año - 2',\n",
       " 'Rentabilidad sobre capital empleado (%) % Año - 3',\n",
       " 'Rentabilidad sobre capital empleado (%) % Año - 4',\n",
       " 'Rentabilidad sobre el activo total (%) % Año - 2',\n",
       " 'Rentabilidad sobre el activo total (%) % Año - 3',\n",
       " 'Rentabilidad sobre el activo total (%) % Año - 4',\n",
       " 'Margen de beneficio (%) % Año - 2',\n",
       " 'Margen de beneficio (%) % Año - 3',\n",
       " 'Margen de beneficio (%) % Año - 4',\n",
       " 'Rotación de activos netos % Año - 2',\n",
       " 'Rotación de activos netos % Año - 3',\n",
       " 'Rotación de activos netos % Año - 4',\n",
       " 'Ratio de cobertura de intereses % Año - 2',\n",
       " 'Ratio de cobertura de intereses % Año - 3',\n",
       " 'Ratio de cobertura de intereses % Año - 4',\n",
       " 'Rotación de las existencias % Año - 2',\n",
       " 'Rotación de las existencias % Año - 3',\n",
       " 'Rotación de las existencias % Año - 4',\n",
       " 'Período de cobro (días) días Año - 2',\n",
       " 'Período de cobro (días) días Año - 3',\n",
       " 'Período de cobro (días) días Año - 4',\n",
       " 'Período de crédito (días) días Año - 2',\n",
       " 'Período de crédito (días) días Año - 3',\n",
       " 'Período de crédito (días) días Año - 4',\n",
       " 'Ratio de solvencia % Año - 2',\n",
       " 'Ratio de solvencia % Año - 3',\n",
       " 'Ratio de solvencia % Año - 4',\n",
       " 'Ratio de liquidez % Año - 2',\n",
       " 'Ratio de liquidez % Año - 3',\n",
       " 'Ratio de liquidez % Año - 4',\n",
       " 'Ratios de autonomía financiera a medio y largo plazo % Año - 2',\n",
       " 'Ratios de autonomía financiera a medio y largo plazo % Año - 3',\n",
       " 'Ratios de autonomía financiera a medio y largo plazo % Año - 4',\n",
       " 'Coeficiente de solvencia (%) % Año - 2',\n",
       " 'Coeficiente de solvencia (%) % Año - 3',\n",
       " 'Coeficiente de solvencia (%) % Año - 4',\n",
       " 'Apalancamiento (%) % Año - 2',\n",
       " 'Apalancamiento (%) % Año - 3',\n",
       " 'Apalancamiento (%) % Año - 4',\n",
       " 'Beneficio por empleado mil Año - 2',\n",
       " 'Beneficio por empleado mil Año - 3',\n",
       " 'Beneficio por empleado mil Año - 4',\n",
       " 'Ingresos de explotación por empleado mil Año - 2',\n",
       " 'Ingresos de explotación por empleado mil Año - 3',\n",
       " 'Ingresos de explotación por empleado mil Año - 4',\n",
       " 'Costes de los trabajadores / Ingresos de explotación (%) % Año - 2',\n",
       " 'Costes de los trabajadores / Ingresos de explotación (%) % Año - 3',\n",
       " 'Costes de los trabajadores / Ingresos de explotación (%) % Año - 4',\n",
       " 'Coste medio de los empleados mil Año - 2',\n",
       " 'Coste medio de los empleados mil Año - 3',\n",
       " 'Coste medio de los empleados mil Año - 4',\n",
       " 'Recursos propios por empleado mil Año - 2',\n",
       " 'Recursos propios por empleado mil Año - 3',\n",
       " 'Recursos propios por empleado mil Año - 4',\n",
       " 'Capital circulante por empleado mil Año - 2',\n",
       " 'Capital circulante por empleado mil Año - 3',\n",
       " 'Capital circulante por empleado mil Año - 4',\n",
       " 'Total activos por empleado mil Año - 2',\n",
       " 'Total activos por empleado mil Año - 3',\n",
       " 'Total activos por empleado mil Año - 4',\n",
       " 'Importe neto Cifra de Ventas % Año - 2',\n",
       " 'Importe neto Cifra de Ventas % Año - 3',\n",
       " 'Importe neto Cifra de Ventas % Año - 4',\n",
       " 'Resultados antes de impuestos % Año - 2',\n",
       " 'Resultados antes de impuestos % Año - 3',\n",
       " 'Resultados antes de impuestos % Año - 4',\n",
       " 'Consumos de explotación % Año - 2',\n",
       " 'Consumos de explotación % Año - 3',\n",
       " 'Consumos de explotación % Año - 4',\n",
       " 'Gastos de personal % Año - 2',\n",
       " 'Gastos de personal % Año - 3',\n",
       " 'Gastos de personal % Año - 4',\n",
       " 'Inmovilizado % Año - 2',\n",
       " 'Inmovilizado % Año - 3',\n",
       " 'Inmovilizado % Año - 4',\n",
       " 'Total activo % Año - 2',\n",
       " 'Total activo % Año - 3',\n",
       " 'Total activo % Año - 4',\n",
       " 'Fondos propios % Año - 2',\n",
       " 'Fondos propios % Año - 3',\n",
       " 'Fondos propios % Año - 4',\n",
       " 'Acreedores a largo plazo % Año - 2',\n",
       " 'Acreedores a largo plazo % Año - 3',\n",
       " 'Acreedores a largo plazo % Año - 4',\n",
       " 'Fondo maniobra % Año - 2',\n",
       " 'Fondo maniobra % Año - 3',\n",
       " 'Fondo maniobra % Año - 4',\n",
       " 'Necesidad fondo maniobra % Año - 2',\n",
       " 'Necesidad fondo maniobra % Año - 3',\n",
       " 'Necesidad fondo maniobra % Año - 4',\n",
       " 'Tesorería % Año - 2',\n",
       " 'Tesorería % Año - 3',\n",
       " 'Tesorería % Año - 4',\n",
       " 'Incidencias Judiciales']"
      ]
     },
     "execution_count": 4,
     "metadata": {},
     "output_type": "execute_result"
    }
   ],
   "source": [
    "[i for i in Concurso.columns]"
   ]
  },
  {
   "cell_type": "code",
   "execution_count": 5,
   "metadata": {},
   "outputs": [],
   "source": [
    "total_assets = Concurso[['Total activo EUR Año - 2','Total activo EUR Año - 3','Total activo EUR Año - 4']]"
   ]
  },
  {
   "cell_type": "code",
   "execution_count": 6,
   "metadata": {},
   "outputs": [
    {
     "data": {
      "text/html": [
       "<div>\n",
       "<style scoped>\n",
       "    .dataframe tbody tr th:only-of-type {\n",
       "        vertical-align: middle;\n",
       "    }\n",
       "\n",
       "    .dataframe tbody tr th {\n",
       "        vertical-align: top;\n",
       "    }\n",
       "\n",
       "    .dataframe thead th {\n",
       "        text-align: right;\n",
       "    }\n",
       "</style>\n",
       "<table border=\"1\" class=\"dataframe\">\n",
       "  <thead>\n",
       "    <tr style=\"text-align: right;\">\n",
       "      <th></th>\n",
       "      <th>Total activo EUR Año - 2</th>\n",
       "      <th>Total activo EUR Año - 3</th>\n",
       "      <th>Total activo EUR Año - 4</th>\n",
       "    </tr>\n",
       "  </thead>\n",
       "  <tbody>\n",
       "    <tr>\n",
       "      <th>0</th>\n",
       "      <td>1229047000.0</td>\n",
       "      <td>1243579000.0</td>\n",
       "      <td>1237442000.0</td>\n",
       "    </tr>\n",
       "    <tr>\n",
       "      <th>1</th>\n",
       "      <td>83405756.0</td>\n",
       "      <td>69117609.0</td>\n",
       "      <td>54616399.0</td>\n",
       "    </tr>\n",
       "    <tr>\n",
       "      <th>2</th>\n",
       "      <td>16032640.0</td>\n",
       "      <td>16218209.0</td>\n",
       "      <td>8629706.0</td>\n",
       "    </tr>\n",
       "    <tr>\n",
       "      <th>3</th>\n",
       "      <td>63122716.0</td>\n",
       "      <td>46944847.0</td>\n",
       "      <td>77198561.0</td>\n",
       "    </tr>\n",
       "    <tr>\n",
       "      <th>4</th>\n",
       "      <td>259734000.0</td>\n",
       "      <td>249408000.0</td>\n",
       "      <td>109168000.0</td>\n",
       "    </tr>\n",
       "  </tbody>\n",
       "</table>\n",
       "</div>"
      ],
      "text/plain": [
       "  Total activo EUR Año - 2 Total activo EUR Año - 3 Total activo EUR Año - 4\n",
       "0             1229047000.0             1243579000.0             1237442000.0\n",
       "1               83405756.0               69117609.0               54616399.0\n",
       "2               16032640.0               16218209.0                8629706.0\n",
       "3               63122716.0               46944847.0               77198561.0\n",
       "4              259734000.0              249408000.0              109168000.0"
      ]
     },
     "execution_count": 6,
     "metadata": {},
     "output_type": "execute_result"
    }
   ],
   "source": [
    "total_assets.head(5)"
   ]
  },
  {
   "cell_type": "code",
   "execution_count": 7,
   "metadata": {},
   "outputs": [
    {
     "data": {
      "text/plain": [
       "Total activo EUR Año - 2    object\n",
       "Total activo EUR Año - 3    object\n",
       "Total activo EUR Año - 4    object\n",
       "dtype: object"
      ]
     },
     "execution_count": 7,
     "metadata": {},
     "output_type": "execute_result"
    }
   ],
   "source": [
    "total_assets.dtypes"
   ]
  },
  {
   "cell_type": "code",
   "execution_count": 8,
   "metadata": {},
   "outputs": [
    {
     "data": {
      "text/html": [
       "<div>\n",
       "<style scoped>\n",
       "    .dataframe tbody tr th:only-of-type {\n",
       "        vertical-align: middle;\n",
       "    }\n",
       "\n",
       "    .dataframe tbody tr th {\n",
       "        vertical-align: top;\n",
       "    }\n",
       "\n",
       "    .dataframe thead th {\n",
       "        text-align: right;\n",
       "    }\n",
       "</style>\n",
       "<table border=\"1\" class=\"dataframe\">\n",
       "  <thead>\n",
       "    <tr style=\"text-align: right;\">\n",
       "      <th></th>\n",
       "      <th>Total activo EUR Año - 2</th>\n",
       "      <th>Total activo EUR Año - 3</th>\n",
       "      <th>Total activo EUR Año - 4</th>\n",
       "    </tr>\n",
       "  </thead>\n",
       "  <tbody>\n",
       "    <tr>\n",
       "      <th>count</th>\n",
       "      <td>4953</td>\n",
       "      <td>4635</td>\n",
       "      <td>4277</td>\n",
       "    </tr>\n",
       "    <tr>\n",
       "      <th>unique</th>\n",
       "      <td>4948</td>\n",
       "      <td>4620</td>\n",
       "      <td>4268</td>\n",
       "    </tr>\n",
       "    <tr>\n",
       "      <th>top</th>\n",
       "      <td>3006.0</td>\n",
       "      <td>3006.0</td>\n",
       "      <td>3006.0</td>\n",
       "    </tr>\n",
       "    <tr>\n",
       "      <th>freq</th>\n",
       "      <td>3</td>\n",
       "      <td>6</td>\n",
       "      <td>6</td>\n",
       "    </tr>\n",
       "  </tbody>\n",
       "</table>\n",
       "</div>"
      ],
      "text/plain": [
       "       Total activo EUR Año - 2 Total activo EUR Año - 3  \\\n",
       "count                      4953                     4635   \n",
       "unique                     4948                     4620   \n",
       "top                      3006.0                   3006.0   \n",
       "freq                          3                        6   \n",
       "\n",
       "       Total activo EUR Año - 4  \n",
       "count                      4277  \n",
       "unique                     4268  \n",
       "top                      3006.0  \n",
       "freq                          6  "
      ]
     },
     "execution_count": 8,
     "metadata": {},
     "output_type": "execute_result"
    }
   ],
   "source": [
    "total_assets.describe()"
   ]
  },
  {
   "cell_type": "code",
   "execution_count": 9,
   "metadata": {},
   "outputs": [],
   "source": [
    "#np.log(total_assets.iloc[1,0])"
   ]
  },
  {
   "cell_type": "code",
   "execution_count": 10,
   "metadata": {},
   "outputs": [
    {
     "name": "stderr",
     "output_type": "stream",
     "text": [
      "/usr/local/anaconda/lib/python3.7/site-packages/ipykernel_launcher.py:2: SettingWithCopyWarning: \n",
      "A value is trying to be set on a copy of a slice from a DataFrame.\n",
      "Try using .loc[row_indexer,col_indexer] = value instead\n",
      "\n",
      "See the caveats in the documentation: http://pandas.pydata.org/pandas-docs/stable/indexing.html#indexing-view-versus-copy\n",
      "  \n"
     ]
    }
   ],
   "source": [
    "for i in total_assets:\n",
    "    total_assets[i] = total_assets.astype(np.float32)"
   ]
  },
  {
   "cell_type": "code",
   "execution_count": 11,
   "metadata": {},
   "outputs": [],
   "source": [
    "total_assets_log = pd.DataFrame(np.log(total_assets.values),columns=total_assets.columns)"
   ]
  },
  {
   "cell_type": "code",
   "execution_count": 12,
   "metadata": {},
   "outputs": [
    {
     "data": {
      "text/html": [
       "<div>\n",
       "<style scoped>\n",
       "    .dataframe tbody tr th:only-of-type {\n",
       "        vertical-align: middle;\n",
       "    }\n",
       "\n",
       "    .dataframe tbody tr th {\n",
       "        vertical-align: top;\n",
       "    }\n",
       "\n",
       "    .dataframe thead th {\n",
       "        text-align: right;\n",
       "    }\n",
       "</style>\n",
       "<table border=\"1\" class=\"dataframe\">\n",
       "  <thead>\n",
       "    <tr style=\"text-align: right;\">\n",
       "      <th></th>\n",
       "      <th>Total activo EUR Año - 2</th>\n",
       "      <th>Total activo EUR Año - 3</th>\n",
       "      <th>Total activo EUR Año - 4</th>\n",
       "    </tr>\n",
       "  </thead>\n",
       "  <tbody>\n",
       "    <tr>\n",
       "      <th>0</th>\n",
       "      <td>20.929504</td>\n",
       "      <td>20.929504</td>\n",
       "      <td>20.929504</td>\n",
       "    </tr>\n",
       "    <tr>\n",
       "      <th>1</th>\n",
       "      <td>18.239227</td>\n",
       "      <td>18.239227</td>\n",
       "      <td>18.239227</td>\n",
       "    </tr>\n",
       "    <tr>\n",
       "      <th>2</th>\n",
       "      <td>16.590137</td>\n",
       "      <td>16.590137</td>\n",
       "      <td>16.590137</td>\n",
       "    </tr>\n",
       "    <tr>\n",
       "      <th>3</th>\n",
       "      <td>17.960590</td>\n",
       "      <td>17.960590</td>\n",
       "      <td>17.960590</td>\n",
       "    </tr>\n",
       "    <tr>\n",
       "      <th>4</th>\n",
       "      <td>19.375168</td>\n",
       "      <td>19.375168</td>\n",
       "      <td>19.375168</td>\n",
       "    </tr>\n",
       "  </tbody>\n",
       "</table>\n",
       "</div>"
      ],
      "text/plain": [
       "   Total activo EUR Año - 2  Total activo EUR Año - 3  \\\n",
       "0                 20.929504                 20.929504   \n",
       "1                 18.239227                 18.239227   \n",
       "2                 16.590137                 16.590137   \n",
       "3                 17.960590                 17.960590   \n",
       "4                 19.375168                 19.375168   \n",
       "\n",
       "   Total activo EUR Año - 4  \n",
       "0                 20.929504  \n",
       "1                 18.239227  \n",
       "2                 16.590137  \n",
       "3                 17.960590  \n",
       "4                 19.375168  "
      ]
     },
     "execution_count": 12,
     "metadata": {},
     "output_type": "execute_result"
    }
   ],
   "source": [
    "total_assets_log.head()"
   ]
  },
  {
   "cell_type": "code",
   "execution_count": 13,
   "metadata": {},
   "outputs": [
    {
     "data": {
      "text/plain": [
       "4862"
      ]
     },
     "execution_count": 13,
     "metadata": {},
     "output_type": "execute_result"
    }
   ],
   "source": [
    "len(total_assets.iloc[:,0][(total_assets.iloc[:,0] <=126631582) & (total_assets.iloc[:,0] >=10777)])"
   ]
  },
  {
   "cell_type": "code",
   "execution_count": 14,
   "metadata": {},
   "outputs": [
    {
     "data": {
      "image/png": "[encoded data removed]",
      "text/plain": [
       "<Figure size 720x720 with 1 Axes>"
      ]
     },
     "metadata": {
      "needs_background": "light"
     },
     "output_type": "display_data"
    }
   ],
   "source": [
    "from mpl_toolkits.mplot3d import axes3d\n",
    "import matplotlib.pyplot as plt\n",
    "\n",
    "fig = plt.figure(figsize=(10,10))\n",
    "ax1 = fig.add_subplot(111,projection='3d')\n",
    "\n",
    "ax1.plot_wireframe(np.array([list(total_assets_log.iloc[:,0].values)]),\n",
    "                   np.array([list(total_assets_log.iloc[:,1].values)]),\n",
    "                   np.array([list(total_assets_log.iloc[:,2].values)]))\n",
    "plt.title('Logaritmo natural del activo total durante 3 ejercicios')\n",
    "plt.savefig('3d_activototal.png')\n",
    "plt.show()"
   ]
  },
  {
   "cell_type": "code",
   "execution_count": 15,
   "metadata": {},
   "outputs": [
    {
     "data": {
      "image/png": "[encoded data removed]",
      "text/plain": [
       "<Figure size 360x360 with 1 Axes>"
      ]
     },
     "metadata": {
      "needs_background": "light"
     },
     "output_type": "display_data"
    }
   ],
   "source": [
    "fig = plt.figure(figsize=(5,5))\n",
    "\n",
    "plt.plot(total_assets.iloc[:,0],total_assets_log.iloc[:,0],'ro')\n",
    "plt.show()"
   ]
  },
  {
   "cell_type": "code",
   "execution_count": 22,
   "metadata": {},
   "outputs": [
    {
     "name": "stderr",
     "output_type": "stream",
     "text": [
      "/usr/local/anaconda/lib/python3.7/site-packages/numpy/lib/histograms.py:824: RuntimeWarning: invalid value encountered in greater_equal\n",
      "  keep = (tmp_a >= first_edge)\n",
      "/usr/local/anaconda/lib/python3.7/site-packages/numpy/lib/histograms.py:825: RuntimeWarning: invalid value encountered in less_equal\n",
      "  keep &= (tmp_a <= last_edge)\n"
     ]
    },
    {
     "data": {
      "image/png": "[encoded data removed]",
      "text/plain": [
       "<Figure size 432x288 with 1 Axes>"
      ]
     },
     "metadata": {
      "needs_background": "light"
     },
     "output_type": "display_data"
    }
   ],
   "source": [
    "plt.hist(total_assets.iloc[:,0].values,bins=50,range=(0,0.2e9))\n",
    "plt.axis(ymin=0,ymax=400)\n",
    "plt.title('Distribución de las empresas según su activo total')\n",
    "plt.xlabel('Activo total')\n",
    "plt.ylabel('Número de empresas')\n",
    "plt.savefig('Distribución del activo total.')"
   ]
  },
  {
   "cell_type": "code",
   "execution_count": 17,
   "metadata": {},
   "outputs": [
    {
     "data": {
      "text/plain": [
       "count    4.953000e+03\n",
       "mean     6.946050e+06\n",
       "std      5.048535e+07\n",
       "min      3.700000e+01\n",
       "25%      3.620490e+05\n",
       "50%      1.134637e+06\n",
       "75%      3.769444e+06\n",
       "max      2.319254e+09\n",
       "Name: Total activo EUR Año - 2, dtype: float64"
      ]
     },
     "execution_count": 17,
     "metadata": {},
     "output_type": "execute_result"
    }
   ],
   "source": [
    "total_assets.iloc[:,0].describe()\n"
   ]
  },
  {
   "cell_type": "code",
   "execution_count": 18,
   "metadata": {},
   "outputs": [
    {
     "data": {
      "text/plain": [
       "array([3.70000000e+01, 1.00037000e+05, 2.00037000e+05, ...,\n",
       "       2.31900004e+09, 2.31910004e+09, 2.31920004e+09])"
      ]
     },
     "execution_count": 18,
     "metadata": {},
     "output_type": "execute_result"
    }
   ],
   "source": [
    "np.arange(3.700000e+01,2.319254e+09,100000)"
   ]
  },
  {
   "cell_type": "code",
   "execution_count": 27,
   "metadata": {},
   "outputs": [
    {
     "data": {
      "image/png": "[encoded data removed]",
      "text/plain": [
       "<Figure size 432x288 with 1 Axes>"
      ]
     },
     "metadata": {
      "needs_background": "light"
     },
     "output_type": "display_data"
    }
   ],
   "source": [
    "plt.boxplot(total_assets_log.values[:,0][~np.isnan(total_assets_log.values[:,0])])\n",
    "plt.title('Diagrama de cajas del logaritmo natural del activo total.')\n",
    "plt.savefig('Digrama_cajas.png')\n",
    "plt.show()"
   ]
  },
  {
   "cell_type": "code",
   "execution_count": 19,
   "metadata": {},
   "outputs": [
    {
     "data": {
      "image/png": "[encoded data removed]",
      "text/plain": [
       "<Figure size 432x288 with 1 Axes>"
      ]
     },
     "metadata": {
      "needs_background": "light"
     },
     "output_type": "display_data"
    },
    {
     "data": {
      "image/png": "[encoded data removed]",
      "text/plain": [
       "<Figure size 432x288 with 1 Axes>"
      ]
     },
     "metadata": {
      "needs_background": "light"
     },
     "output_type": "display_data"
    },
    {
     "data": {
      "image/png": "[encoded data removed]",
      "text/plain": [
       "<Figure size 432x288 with 1 Axes>"
      ]
     },
     "metadata": {
      "needs_background": "light"
     },
     "output_type": "display_data"
    }
   ],
   "source": [
    "%matplotlib inline\n",
    "fig1, ax1 = plt.subplots()\n",
    "fig2, ax2 = plt.subplots()\n",
    "fig3, ax3 = plt.subplots()\n",
    "\n",
    "ax1.boxplot(total_assets_log.values[:,0][~np.isnan(total_assets_log.values[:,0])])\n",
    "ax2.boxplot(total_assets_log.values[:,1][~np.isnan(total_assets_log.values[:,1])])\n",
    "ax3.boxplot(total_assets_log.values[:,2][~np.isnan(total_assets_log.values[:,2])])\n",
    "\n",
    "plt.show()"
   ]
  },
  {
   "cell_type": "code",
   "execution_count": 20,
   "metadata": {},
   "outputs": [
    {
     "data": {
      "text/html": [
       "<div>\n",
       "<style scoped>\n",
       "    .dataframe tbody tr th:only-of-type {\n",
       "        vertical-align: middle;\n",
       "    }\n",
       "\n",
       "    .dataframe tbody tr th {\n",
       "        vertical-align: top;\n",
       "    }\n",
       "\n",
       "    .dataframe thead th {\n",
       "        text-align: right;\n",
       "    }\n",
       "</style>\n",
       "<table border=\"1\" class=\"dataframe\">\n",
       "  <thead>\n",
       "    <tr style=\"text-align: right;\">\n",
       "      <th></th>\n",
       "      <th>Total activo EUR Año - 2</th>\n",
       "      <th>Total activo EUR Año - 3</th>\n",
       "      <th>Total activo EUR Año - 4</th>\n",
       "    </tr>\n",
       "  </thead>\n",
       "  <tbody>\n",
       "    <tr>\n",
       "      <th>count</th>\n",
       "      <td>4953.000000</td>\n",
       "      <td>4953.000000</td>\n",
       "      <td>4953.000000</td>\n",
       "    </tr>\n",
       "    <tr>\n",
       "      <th>mean</th>\n",
       "      <td>13.950974</td>\n",
       "      <td>13.950974</td>\n",
       "      <td>13.950974</td>\n",
       "    </tr>\n",
       "    <tr>\n",
       "      <th>std</th>\n",
       "      <td>1.847807</td>\n",
       "      <td>1.847807</td>\n",
       "      <td>1.847807</td>\n",
       "    </tr>\n",
       "    <tr>\n",
       "      <th>min</th>\n",
       "      <td>3.610918</td>\n",
       "      <td>3.610918</td>\n",
       "      <td>3.610918</td>\n",
       "    </tr>\n",
       "    <tr>\n",
       "      <th>25%</th>\n",
       "      <td>12.799535</td>\n",
       "      <td>12.799535</td>\n",
       "      <td>12.799535</td>\n",
       "    </tr>\n",
       "    <tr>\n",
       "      <th>50%</th>\n",
       "      <td>13.941823</td>\n",
       "      <td>13.941823</td>\n",
       "      <td>13.941823</td>\n",
       "    </tr>\n",
       "    <tr>\n",
       "      <th>75%</th>\n",
       "      <td>15.142438</td>\n",
       "      <td>15.142438</td>\n",
       "      <td>15.142438</td>\n",
       "    </tr>\n",
       "    <tr>\n",
       "      <th>max</th>\n",
       "      <td>21.564512</td>\n",
       "      <td>21.564512</td>\n",
       "      <td>21.564512</td>\n",
       "    </tr>\n",
       "  </tbody>\n",
       "</table>\n",
       "</div>"
      ],
      "text/plain": [
       "       Total activo EUR Año - 2  Total activo EUR Año - 3  \\\n",
       "count               4953.000000               4953.000000   \n",
       "mean                  13.950974                 13.950974   \n",
       "std                    1.847807                  1.847807   \n",
       "min                    3.610918                  3.610918   \n",
       "25%                   12.799535                 12.799535   \n",
       "50%                   13.941823                 13.941823   \n",
       "75%                   15.142438                 15.142438   \n",
       "max                   21.564512                 21.564512   \n",
       "\n",
       "       Total activo EUR Año - 4  \n",
       "count               4953.000000  \n",
       "mean                  13.950974  \n",
       "std                    1.847807  \n",
       "min                    3.610918  \n",
       "25%                   12.799535  \n",
       "50%                   13.941823  \n",
       "75%                   15.142438  \n",
       "max                   21.564512  "
      ]
     },
     "execution_count": 20,
     "metadata": {},
     "output_type": "execute_result"
    }
   ],
   "source": [
    "total_assets_log.describe()"
   ]
  },
  {
   "cell_type": "code",
   "execution_count": null,
   "metadata": {},
   "outputs": [],
   "source": []
  },
  {
   "cell_type": "code",
   "execution_count": 21,
   "metadata": {},
   "outputs": [
    {
     "data": {
      "text/plain": [
       "(18.6567925, 9.285180500000001)"
      ]
     },
     "execution_count": 21,
     "metadata": {},
     "output_type": "execute_result"
    }
   ],
   "source": [
    "f1 = 15.142438+(15.142438-12.799535)*1.5\n",
    "f2 = 12.799535-(15.142438-12.799535)*1.5\n",
    "f1,f2"
   ]
  },
  {
   "cell_type": "code",
   "execution_count": 22,
   "metadata": {},
   "outputs": [
    {
     "data": {
      "text/plain": [
       "(126631582.07105848, 10777.118411894473)"
      ]
     },
     "execution_count": 22,
     "metadata": {},
     "output_type": "execute_result"
    }
   ],
   "source": [
    "np.exp(f1),np.exp(f2)"
   ]
  },
  {
   "cell_type": "code",
   "execution_count": 23,
   "metadata": {},
   "outputs": [
    {
     "data": {
      "text/plain": [
       "2319254016.0"
      ]
     },
     "execution_count": 23,
     "metadata": {},
     "output_type": "execute_result"
    }
   ],
   "source": [
    "max(total_assets.iloc[:,0])"
   ]
  },
  {
   "cell_type": "code",
   "execution_count": 24,
   "metadata": {},
   "outputs": [
    {
     "data": {
      "text/html": [
       "<div>\n",
       "<style scoped>\n",
       "    .dataframe tbody tr th:only-of-type {\n",
       "        vertical-align: middle;\n",
       "    }\n",
       "\n",
       "    .dataframe tbody tr th {\n",
       "        vertical-align: top;\n",
       "    }\n",
       "\n",
       "    .dataframe thead th {\n",
       "        text-align: right;\n",
       "    }\n",
       "</style>\n",
       "<table border=\"1\" class=\"dataframe\">\n",
       "  <thead>\n",
       "    <tr style=\"text-align: right;\">\n",
       "      <th></th>\n",
       "      <th>Total activo EUR Año - 2</th>\n",
       "      <th>Total activo EUR Año - 3</th>\n",
       "      <th>Total activo EUR Año - 4</th>\n",
       "    </tr>\n",
       "  </thead>\n",
       "  <tbody>\n",
       "    <tr>\n",
       "      <th>count</th>\n",
       "      <td>4.953000e+03</td>\n",
       "      <td>4.953000e+03</td>\n",
       "      <td>4.953000e+03</td>\n",
       "    </tr>\n",
       "    <tr>\n",
       "      <th>mean</th>\n",
       "      <td>6.946050e+06</td>\n",
       "      <td>6.946050e+06</td>\n",
       "      <td>6.946050e+06</td>\n",
       "    </tr>\n",
       "    <tr>\n",
       "      <th>std</th>\n",
       "      <td>5.048535e+07</td>\n",
       "      <td>5.048535e+07</td>\n",
       "      <td>5.048535e+07</td>\n",
       "    </tr>\n",
       "    <tr>\n",
       "      <th>min</th>\n",
       "      <td>3.700000e+01</td>\n",
       "      <td>3.700000e+01</td>\n",
       "      <td>3.700000e+01</td>\n",
       "    </tr>\n",
       "    <tr>\n",
       "      <th>25%</th>\n",
       "      <td>3.620490e+05</td>\n",
       "      <td>3.620490e+05</td>\n",
       "      <td>3.620490e+05</td>\n",
       "    </tr>\n",
       "    <tr>\n",
       "      <th>50%</th>\n",
       "      <td>1.134637e+06</td>\n",
       "      <td>1.134637e+06</td>\n",
       "      <td>1.134637e+06</td>\n",
       "    </tr>\n",
       "    <tr>\n",
       "      <th>75%</th>\n",
       "      <td>3.769444e+06</td>\n",
       "      <td>3.769444e+06</td>\n",
       "      <td>3.769444e+06</td>\n",
       "    </tr>\n",
       "    <tr>\n",
       "      <th>max</th>\n",
       "      <td>2.319254e+09</td>\n",
       "      <td>2.319254e+09</td>\n",
       "      <td>2.319254e+09</td>\n",
       "    </tr>\n",
       "  </tbody>\n",
       "</table>\n",
       "</div>"
      ],
      "text/plain": [
       "       Total activo EUR Año - 2  Total activo EUR Año - 3  \\\n",
       "count              4.953000e+03              4.953000e+03   \n",
       "mean               6.946050e+06              6.946050e+06   \n",
       "std                5.048535e+07              5.048535e+07   \n",
       "min                3.700000e+01              3.700000e+01   \n",
       "25%                3.620490e+05              3.620490e+05   \n",
       "50%                1.134637e+06              1.134637e+06   \n",
       "75%                3.769444e+06              3.769444e+06   \n",
       "max                2.319254e+09              2.319254e+09   \n",
       "\n",
       "       Total activo EUR Año - 4  \n",
       "count              4.953000e+03  \n",
       "mean               6.946050e+06  \n",
       "std                5.048535e+07  \n",
       "min                3.700000e+01  \n",
       "25%                3.620490e+05  \n",
       "50%                1.134637e+06  \n",
       "75%                3.769444e+06  \n",
       "max                2.319254e+09  "
      ]
     },
     "execution_count": 24,
     "metadata": {},
     "output_type": "execute_result"
    }
   ],
   "source": [
    "total_assets.describe()"
   ]
  },
  {
   "cell_type": "code",
   "execution_count": 29,
   "metadata": {},
   "outputs": [
    {
     "name": "stdout",
     "output_type": "stream",
     "text": [
      "Percentil 25%:12.799534797668457\n",
      "Percentil 75%:15.142437934875488\n",
      "media:13.950973510742188\n",
      "Bigote_1:18.656792640686035 Bigote_2:9.28518009185791\n"
     ]
    },
    {
     "data": {
      "text/plain": [
       "(12.799534797668457,\n",
       " 15.142437934875488,\n",
       " 13.950973510742188,\n",
       " 18.656792640686035,\n",
       " 9.28518009185791)"
      ]
     },
     "execution_count": 29,
     "metadata": {},
     "output_type": "execute_result"
    }
   ],
   "source": [
    "obtener_datos_boxplots(total_assets_log,0)"
   ]
  },
  {
   "cell_type": "markdown",
   "metadata": {},
   "source": [
    "Esta es la tercera iteraccion de puesto que nos hemos equivocado en la magnitud y cogimos empresas que tenian 1000 veces mas activo total esta vez se ha hecho y obtuvimos muchas mas empresas con lo cual debemos de usar otras variables que puedan ser representativas "
   ]
  },
  {
   "cell_type": "code",
   "execution_count": 59,
   "metadata": {},
   "outputs": [],
   "source": [
    "def dibujar_boxplots(dataset):\n",
    "    fig1, ax1 = plt.subplots()\n",
    "    fig2, ax2 = plt.subplots()\n",
    "    fig3, ax3 = plt.subplots()\n",
    "\n",
    "    ax1.boxplot(ing_exp.values[:,0][~np.isnan(ing_exp.values[:,0])])\n",
    "    ax2.boxplot(ing_exp.values[:,1][~np.isnan(ing_exp.values[:,1])])\n",
    "    ax3.boxplot(ing_exp.values[:,2][~np.isnan(ing_exp.values[:,2])])\n",
    "\n",
    "    plt.show()"
   ]
  },
  {
   "cell_type": "code",
   "execution_count": 28,
   "metadata": {},
   "outputs": [],
   "source": [
    "def obtener_datos_boxplots(dataset,num):\n",
    "    \n",
    "    v5 = dataset.describe().iloc[:,num]['25%']\n",
    "    s5 = dataset.describe().iloc[:,num]['75%']\n",
    "    mean = dataset.describe().iloc[:,num]['mean']\n",
    "    \n",
    "    b1 = s5 + (s5 - v5)*1.5\n",
    "    b2 = v5 - (s5 - v5)*1.5\n",
    "    \n",
    "    print('Percentil 25%:'+str(v5)+'\\n'+\n",
    "          'Percentil 75%:'+str(s5)+'\\n'+\n",
    "          'media:'+str(mean)+'\\n'+\n",
    "          'Bigote_1:'+str(b1)+' Bigote_2:'+str(b2))\n",
    "    \n",
    "    \n",
    "    return v5,s5,mean,b1,b2\n",
    "    \n",
    "    "
   ]
  },
  {
   "cell_type": "code",
   "execution_count": 44,
   "metadata": {},
   "outputs": [
    {
     "name": "stdout",
     "output_type": "stream",
     "text": [
      "Percentil 25%:248725.5\n",
      "Percentil 75%:2126511.0\n",
      "media:3095453.25\n",
      "Bigote_1:4943189.25 Bigote_2:-2567952.75\n"
     ]
    },
    {
     "data": {
      "text/plain": [
       "(248725.5, 2126511.0, 3095453.25, 4943189.25, -2567952.75)"
      ]
     },
     "execution_count": 44,
     "metadata": {},
     "output_type": "execute_result"
    }
   ],
   "source": [
    "obtener_datos_boxplots(ing_exp,0)"
   ]
  },
  {
   "cell_type": "code",
   "execution_count": 62,
   "metadata": {},
   "outputs": [
    {
     "name": "stdout",
     "output_type": "stream",
     "text": [
      "Percentil 25%:-58028.0\n",
      "Percentil 75%:17073.0\n",
      "media:-246805.3125\n",
      "Bigote_1:129724.5 Bigote_2:-170679.5\n"
     ]
    },
    {
     "data": {
      "text/plain": [
       "(-58028.0, 17073.0, -246805.3125, 129724.5, -170679.5)"
      ]
     },
     "execution_count": 62,
     "metadata": {},
     "output_type": "execute_result"
    }
   ],
   "source": [
    "obtener_datos_boxplots(resul_ejer,0)"
   ]
  },
  {
   "cell_type": "markdown",
   "metadata": {},
   "source": [
    "## Tercera iteracción"
   ]
  },
  {
   "cell_type": "markdown",
   "metadata": {},
   "source": [
    "## Ingresos de explotacion"
   ]
  },
  {
   "cell_type": "code",
   "execution_count": 27,
   "metadata": {},
   "outputs": [],
   "source": [
    "ing_exp = Concurso[['Ingresos de explotación EUR Año - 2',\n",
    "                    'Ingresos de explotación EUR Año - 3',\n",
    "                    'Ingresos de explotación EUR Año - 4']]"
   ]
  },
  {
   "cell_type": "code",
   "execution_count": 28,
   "metadata": {},
   "outputs": [
    {
     "name": "stderr",
     "output_type": "stream",
     "text": [
      "/usr/local/anaconda/lib/python3.7/site-packages/ipykernel_launcher.py:2: SettingWithCopyWarning: \n",
      "A value is trying to be set on a copy of a slice from a DataFrame.\n",
      "Try using .loc[row_indexer,col_indexer] = value instead\n",
      "\n",
      "See the caveats in the documentation: http://pandas.pydata.org/pandas-docs/stable/indexing.html#indexing-view-versus-copy\n",
      "  \n"
     ]
    }
   ],
   "source": [
    "for i in ing_exp:\n",
    "    ing_exp[i] = ing_exp[i].astype(np.float32)\n",
    "    "
   ]
  },
  {
   "cell_type": "code",
   "execution_count": 29,
   "metadata": {},
   "outputs": [
    {
     "data": {
      "text/plain": [
       "[450856992.0,\n",
       " 174135488.0,\n",
       " 155778560.0,\n",
       " 107899952.0,\n",
       " 219255008.0,\n",
       " 159474112.0,\n",
       " 21170604.0,\n",
       " 55438704.0,\n",
       " 92397000.0,\n",
       " 78937096.0,\n",
       " 81511072.0,\n",
       " 265651664.0,\n",
       " 86320640.0,\n",
       " 57764352.0,\n",
       " 26612904.0,\n",
       " 949872000.0,\n",
       " 78859728.0,\n",
       " 55543628.0,\n",
       " nan,\n",
       " 286061.0,\n",
       " 75658232.0,\n",
       " 30434070.0,\n",
       " 24389000.0,\n",
       " 56077992.0,\n",
       " 61552560.0,\n",
       " 28134478.0,\n",
       " 45807884.0,\n",
       " 40051132.0,\n",
       " 45258056.0,\n",
       " 33593684.0,\n",
       " 34652488.0,\n",
       " 35515840.0,\n",
       " 865049.0,\n",
       " 2754000.0,\n",
       " 24873956.0,\n",
       " 27686970.0,\n",
       " 64033048.0,\n",
       " 51835272.0,\n",
       " 23350832.0,\n",
       " 36875832.0,\n",
       " 24811428.0,\n",
       " nan,\n",
       " 29203356.0,\n",
       " 48733788.0,\n",
       " 34340956.0,\n",
       " 66898248.0,\n",
       " 30095586.0,\n",
       " 36521008.0,\n",
       " 19018268.0,\n",
       " nan,\n",
       " 13837116.0,\n",
       " 30222746.0,\n",
       " 22865056.0,\n",
       " 23904988.0,\n",
       " 24129372.0,\n",
       " 993392.0,\n",
       " 30179218.0,\n",
       " 25919288.0,\n",
       " 62594000.0,\n",
       " 23197880.0,\n",
       " 35243184.0,\n",
       " nan,\n",
       " 29435284.0,\n",
       " 34158096.0,\n",
       " 426047.0,\n",
       " 11682074.0,\n",
       " 49382324.0,\n",
       " 32336404.0,\n",
       " 10968333.0,\n",
       " 51280000.0,\n",
       " 18901804.0,\n",
       " 6961551.0,\n",
       " 22783846.0,\n",
       " 14925580.0,\n",
       " 20491224.0,\n",
       " 7580496.0,\n",
       " 25027424.0,\n",
       " 5796034.0,\n",
       " 34546500.0,\n",
       " 28480658.0,\n",
       " 27472154.0,\n",
       " nan,\n",
       " 17575940.0,\n",
       " 23099388.0,\n",
       " 2667907.0,\n",
       " 22125540.0,\n",
       " 40537800.0,\n",
       " 18873624.0,\n",
       " 18381846.0,\n",
       " 27663896.0,\n",
       " 21550882.0,\n",
       " nan,\n",
       " 75956488.0,\n",
       " 26629328.0,\n",
       " 22598920.0,\n",
       " nan,\n",
       " 21336300.0,\n",
       " 1556431.0,\n",
       " 32232656.0,\n",
       " 15844255.0,\n",
       " 20207452.0,\n",
       " 24689200.0,\n",
       " 23039476.0,\n",
       " 27202712.0,\n",
       " 23467510.0,\n",
       " 15614933.0,\n",
       " 21609784.0,\n",
       " 16272940.0,\n",
       " 17424804.0,\n",
       " 11945908.0,\n",
       " 17000608.0,\n",
       " 13595470.0,\n",
       " 22806988.0,\n",
       " 733906.0,\n",
       " 28862888.0,\n",
       " 13599964.0,\n",
       " 19790068.0,\n",
       " 20177550.0,\n",
       " 17138656.0,\n",
       " 85078.0,\n",
       " 14970731.0,\n",
       " 20506228.0,\n",
       " nan,\n",
       " 11330044.0,\n",
       " 18672920.0,\n",
       " 4581101.0,\n",
       " 13606938.0,\n",
       " 15300027.0,\n",
       " 15091186.0,\n",
       " 22969968.0,\n",
       " 21520548.0,\n",
       " 20271028.0,\n",
       " 14189429.0,\n",
       " nan,\n",
       " 14526392.0,\n",
       " 13406772.0,\n",
       " 15909156.0,\n",
       " 16319313.0,\n",
       " 14230265.0,\n",
       " 11253400.0,\n",
       " 7910880.0,\n",
       " 1472045.0,\n",
       " 19264320.0,\n",
       " 12656818.0,\n",
       " 26610180.0,\n",
       " 19033700.0,\n",
       " 9955563.0,\n",
       " 704742.0,\n",
       " 14994852.0,\n",
       " 14144673.0,\n",
       " 13501496.0,\n",
       " 122171.0,\n",
       " 25007464.0,\n",
       " 10113764.0,\n",
       " 8922363.0,\n",
       " 13504143.0,\n",
       " 14066570.0,\n",
       " 9398281.0,\n",
       " 306147.0,\n",
       " 5925284.0,\n",
       " 15240150.0,\n",
       " 12519237.0,\n",
       " 7312045.0,\n",
       " 15043239.0,\n",
       " 12250318.0,\n",
       " 18931564.0,\n",
       " 13338005.0,\n",
       " 14785161.0,\n",
       " 34923928.0,\n",
       " 19166.0,\n",
       " 1194607.0,\n",
       " 9231449.0,\n",
       " 3938579.0,\n",
       " 4776218.0,\n",
       " 1286673.0,\n",
       " 9678024.0,\n",
       " 3323154.0,\n",
       " 29123004.0,\n",
       " 23297852.0,\n",
       " 11706315.0,\n",
       " 1392872.0,\n",
       " 4046894.0,\n",
       " 6204053.0,\n",
       " 1516430.0,\n",
       " 13793474.0,\n",
       " 14273591.0,\n",
       " 9890180.0,\n",
       " 11621621.0,\n",
       " 3511720.0,\n",
       " nan,\n",
       " 12446486.0,\n",
       " 5084603.0,\n",
       " 9803816.0,\n",
       " 11812081.0,\n",
       " 868770.0,\n",
       " nan,\n",
       " 16070753.0,\n",
       " 5269334.0,\n",
       " 10573520.0,\n",
       " 17141716.0,\n",
       " 5430421.0,\n",
       " 11535968.0,\n",
       " 9133490.0,\n",
       " 4619691.0,\n",
       " 18467624.0,\n",
       " 6667359.0,\n",
       " 20951708.0,\n",
       " 99485000.0,\n",
       " 3537991.0,\n",
       " 10776328.0,\n",
       " 9452431.0,\n",
       " 8190226.0,\n",
       " 14156203.0,\n",
       " 9859791.0,\n",
       " 44794856.0,\n",
       " 7749568.0,\n",
       " nan,\n",
       " 9222068.0,\n",
       " 9803873.0,\n",
       " 2011438.0,\n",
       " 737166.0,\n",
       " 12682873.0,\n",
       " 8178715.0,\n",
       " 8755355.0,\n",
       " 8071356.0,\n",
       " 9234647.0,\n",
       " 5732195.0,\n",
       " nan,\n",
       " 7687020.0,\n",
       " 7409009.0,\n",
       " 8699061.0,\n",
       " 5789153.0,\n",
       " 10113145.0,\n",
       " 8223665.0,\n",
       " 10991259.0,\n",
       " 17330932.0,\n",
       " 8955883.0,\n",
       " 7136097.0,\n",
       " 8198993.0,\n",
       " 42762.0,\n",
       " 10586348.0,\n",
       " 12829926.0,\n",
       " 14741396.0,\n",
       " 9101042.0,\n",
       " nan,\n",
       " 13193293.0,\n",
       " 8097922.0,\n",
       " 13753450.0,\n",
       " 7441300.0,\n",
       " 13929721.0,\n",
       " 5744480.0,\n",
       " 11300430.0,\n",
       " 8211447.0,\n",
       " 6846366.0,\n",
       " 440.0,\n",
       " 7807379.0,\n",
       " 8767437.0,\n",
       " 23776448.0,\n",
       " 8895864.0,\n",
       " 9666460.0,\n",
       " 239912.0,\n",
       " 9803777.0,\n",
       " 8703640.0,\n",
       " 8954344.0,\n",
       " 9388735.0,\n",
       " 7515504.0,\n",
       " 8729251.0,\n",
       " nan,\n",
       " 14354913.0,\n",
       " 13602308.0,\n",
       " 13290362.0,\n",
       " 4668346.0,\n",
       " nan,\n",
       " 13667.0,\n",
       " 12629773.0,\n",
       " 620753.0,\n",
       " 14366714.0,\n",
       " 8825602.0,\n",
       " 9920890.0,\n",
       " 7936300.0,\n",
       " 1328846.0,\n",
       " 6985996.0,\n",
       " 6060366.0,\n",
       " nan,\n",
       " 4890800.0,\n",
       " 5381932.0,\n",
       " 6036477.0,\n",
       " 5621895.0,\n",
       " 5994640.0,\n",
       " 16894524.0,\n",
       " nan,\n",
       " 18735496.0,\n",
       " 4923398.0,\n",
       " 7803607.0,\n",
       " 20436388.0,\n",
       " nan,\n",
       " 8164001.0,\n",
       " 11098768.0,\n",
       " 1836743.0,\n",
       " 1467700.0,\n",
       " 7732579.0,\n",
       " 6878823.0,\n",
       " 5014465.0,\n",
       " 12344228.0,\n",
       " 33436148.0,\n",
       " 7760850.0,\n",
       " 5249438.0,\n",
       " 18341958.0,\n",
       " 8558308.0,\n",
       " 11139622.0,\n",
       " 2398176.0,\n",
       " 8482803.0,\n",
       " 12150690.0,\n",
       " 3644141.0,\n",
       " 3975134.0,\n",
       " 4463322.0,\n",
       " 3526237.0,\n",
       " nan,\n",
       " 9769897.0,\n",
       " 4967680.0,\n",
       " 5263978.0,\n",
       " 6719298.0,\n",
       " nan,\n",
       " 3511054.0,\n",
       " 9235902.0,\n",
       " 5364484.0,\n",
       " 5544632.0,\n",
       " nan,\n",
       " 9915197.0,\n",
       " 9125692.0,\n",
       " 9839683.0,\n",
       " 7754850.0,\n",
       " 1999395.0,\n",
       " 4362740.0,\n",
       " 9443921.0,\n",
       " 3559741.0,\n",
       " 4551095.0,\n",
       " 10370826.0,\n",
       " 8402195.0,\n",
       " 3070214.0,\n",
       " 5865102.0,\n",
       " 1279341.0,\n",
       " 5691959.0,\n",
       " 5861840.0,\n",
       " 8554263.0,\n",
       " 8124045.0,\n",
       " 12608658.0,\n",
       " nan,\n",
       " nan,\n",
       " 486635.0,\n",
       " 2565261.0,\n",
       " 14273561.0,\n",
       " 7246845.0,\n",
       " 5763022.0,\n",
       " 89622.0,\n",
       " 10336225.0,\n",
       " 804142.0,\n",
       " 7711452.0,\n",
       " 6817026.0,\n",
       " 5600430.0,\n",
       " 14516.0,\n",
       " 760236.0,\n",
       " 5595064.0,\n",
       " 9363340.0,\n",
       " 18316556.0,\n",
       " 3958667.0,\n",
       " 8913443.0,\n",
       " 4911540.0,\n",
       " 1297528.0,\n",
       " 8409200.0,\n",
       " 4519985.0,\n",
       " 4095930.0,\n",
       " 9469733.0,\n",
       " 10180012.0,\n",
       " 10571842.0,\n",
       " 6335883.0,\n",
       " 5385450.0,\n",
       " 11075000.0,\n",
       " 3901254.0,\n",
       " 1198459.0,\n",
       " 8694761.0,\n",
       " 1815645.0,\n",
       " 16909590.0,\n",
       " 8032985.0,\n",
       " 5153884.0,\n",
       " 5138960.0,\n",
       " 10379519.0,\n",
       " 8323389.0,\n",
       " nan,\n",
       " 6613799.0,\n",
       " 4088926.0,\n",
       " 2996786.0,\n",
       " 317086.0,\n",
       " 9434162.0,\n",
       " 5492494.0,\n",
       " 1750619.0,\n",
       " 2025890.0,\n",
       " 5556938.0,\n",
       " 10488541.0,\n",
       " 4824382.0,\n",
       " 21139236.0,\n",
       " 6322578.0,\n",
       " 7439168.0,\n",
       " 9705635.0,\n",
       " 4602330.0,\n",
       " 1252340.0,\n",
       " 5303049.0,\n",
       " 3824180.0,\n",
       " 4535778.0,\n",
       " 7982090.0,\n",
       " 21122264.0,\n",
       " 2345706.0,\n",
       " nan,\n",
       " 7166352.0,\n",
       " 6528067.0,\n",
       " 5129017.0,\n",
       " 5179171.0,\n",
       " 2126775.0,\n",
       " 3314122.0,\n",
       " 5247038.0,\n",
       " nan,\n",
       " 2180497.0,\n",
       " 6119142.0,\n",
       " 2820259.0,\n",
       " 4209436.0,\n",
       " 2101736.0,\n",
       " 3815954.0,\n",
       " 4537615.0,\n",
       " 2859790.0,\n",
       " 3115935.0,\n",
       " 11866407.0,\n",
       " 770000.0,\n",
       " 19771000.0,\n",
       " 6755085.0,\n",
       " 5076075.0,\n",
       " 4522868.0,\n",
       " 3734916.0,\n",
       " 5257011.0,\n",
       " nan,\n",
       " nan,\n",
       " 1283532.0,\n",
       " 7174535.0,\n",
       " 2851495.0,\n",
       " 260459.0,\n",
       " 4631914.0,\n",
       " 5690488.0,\n",
       " 9308073.0,\n",
       " 5150486.0,\n",
       " 974624.0,\n",
       " 8471675.0,\n",
       " nan,\n",
       " 3397419.0,\n",
       " 71236.0,\n",
       " 4363313.0,\n",
       " 1032891.0,\n",
       " 22521154.0,\n",
       " nan,\n",
       " 12764280.0,\n",
       " 4020603.0,\n",
       " 4016094.0,\n",
       " 5885266.0,\n",
       " 3147833.0,\n",
       " 5031409.0,\n",
       " 2921874.0,\n",
       " 2122174.0,\n",
       " 10555197.0,\n",
       " 4635078.0,\n",
       " 682467.0,\n",
       " 11319776.0,\n",
       " 5880328.0,\n",
       " 4251735.0,\n",
       " 685568.0,\n",
       " 12933707.0,\n",
       " 492327.0,\n",
       " 4889034.0,\n",
       " 5190803.0,\n",
       " 7712339.0,\n",
       " 1702363.0,\n",
       " 1961419.0,\n",
       " nan,\n",
       " 3866700.0,\n",
       " 4356111.0,\n",
       " 4795.0,\n",
       " 4285727.0,\n",
       " 7173150.0,\n",
       " 578052.0,\n",
       " 3949146.0,\n",
       " 3594610.0,\n",
       " 6826778.0,\n",
       " 4025412.0,\n",
       " 1889861.0,\n",
       " 7935582.0,\n",
       " 4435124.0,\n",
       " 11849397.0,\n",
       " 6077130.0,\n",
       " 1442727.0,\n",
       " 1567433.0,\n",
       " 4598586.0,\n",
       " 5184324.0,\n",
       " 4776967.0,\n",
       " 3447195.0,\n",
       " 4743013.0,\n",
       " 1664893.0,\n",
       " 5140999.0,\n",
       " 3308192.0,\n",
       " 4464590.0,\n",
       " 7291455.0,\n",
       " 434155.0,\n",
       " nan,\n",
       " 7742194.0,\n",
       " 5215227.0,\n",
       " 5993531.0,\n",
       " 2678482.0,\n",
       " 4322133.0,\n",
       " 4395014.0,\n",
       " 5286224.0,\n",
       " 2800264.0,\n",
       " 2726555.0,\n",
       " 4964065.0,\n",
       " 5109396.0,\n",
       " 6176692.0,\n",
       " 4629845.0,\n",
       " 5117609.0,\n",
       " 3902427.0,\n",
       " 4407383.0,\n",
       " 5114527.0,\n",
       " 4084820.0,\n",
       " 4412895.0,\n",
       " 4732785.0,\n",
       " 3013775.0,\n",
       " 5549929.0,\n",
       " 3724860.0,\n",
       " 4463878.0,\n",
       " 13986359.0,\n",
       " 2501678.0,\n",
       " 4675415.0,\n",
       " 3333782.0,\n",
       " 1478280.0,\n",
       " 4401027.0,\n",
       " 3194401.0,\n",
       " 7731743.0,\n",
       " 4768452.0,\n",
       " nan,\n",
       " 1983212.0,\n",
       " nan,\n",
       " 2269392.0,\n",
       " 4147000.0,\n",
       " 4948380.0,\n",
       " 6528068.0,\n",
       " 6443683.0,\n",
       " 4718.0,\n",
       " 4833536.0,\n",
       " nan,\n",
       " 2871002.0,\n",
       " 3184115.0,\n",
       " nan,\n",
       " 6117983.0,\n",
       " 6191382.0,\n",
       " 5727950.0,\n",
       " 6784051.0,\n",
       " 3061022.0,\n",
       " 4494972.0,\n",
       " 2619311.0,\n",
       " 361984.0,\n",
       " 3433641.0,\n",
       " 3497814.0,\n",
       " nan,\n",
       " 3804192.0,\n",
       " 14155936.0,\n",
       " 6592268.0,\n",
       " 4201233.0,\n",
       " 2856776.0,\n",
       " 7138779.0,\n",
       " 14957319.0,\n",
       " 4007517.0,\n",
       " 3716156.0,\n",
       " 1076207.0,\n",
       " 600.0,\n",
       " 2500926.0,\n",
       " 2551022.0,\n",
       " 5821621.0,\n",
       " nan,\n",
       " 12688000.0,\n",
       " 2738292.0,\n",
       " 4613004.0,\n",
       " 7002890.0,\n",
       " 5487327.0,\n",
       " 9171292.0,\n",
       " 3123805.0,\n",
       " nan,\n",
       " 21030.0,\n",
       " nan,\n",
       " 6456803.0,\n",
       " 3146616.0,\n",
       " 5423182.0,\n",
       " 2362314.0,\n",
       " 1998886.0,\n",
       " 892626.0,\n",
       " 3304988.0,\n",
       " 3886602.0,\n",
       " 9108687.0,\n",
       " nan,\n",
       " 3370670.0,\n",
       " 1702245.0,\n",
       " 3478702.0,\n",
       " 5149357.0,\n",
       " 3693012.0,\n",
       " 3847515.0,\n",
       " 5112484.0,\n",
       " 5900570.0,\n",
       " 3302496.0,\n",
       " 3331853.0,\n",
       " 5940723.0,\n",
       " 8739339.0,\n",
       " 4515225.0,\n",
       " 3034931.0,\n",
       " 4853422.0,\n",
       " 3635765.0,\n",
       " 4374755.0,\n",
       " 3636538.0,\n",
       " nan,\n",
       " 2680228.0,\n",
       " 2599399.0,\n",
       " 14631955.0,\n",
       " 4745601.0,\n",
       " 2844470.0,\n",
       " 6926961.0,\n",
       " 4946673.0,\n",
       " 5820042.0,\n",
       " 2508822.0,\n",
       " 1350550.0,\n",
       " 4403099.0,\n",
       " 20447700.0,\n",
       " 1492793.0,\n",
       " 1775509.0,\n",
       " 1660009.0,\n",
       " 2365140.0,\n",
       " 3477121.0,\n",
       " 2645790.0,\n",
       " 2360162.0,\n",
       " 2854570.0,\n",
       " 3038039.0,\n",
       " 3336799.0,\n",
       " 10320828.0,\n",
       " 83558080.0,\n",
       " 2702301.0,\n",
       " 3900404.0,\n",
       " 3391959.0,\n",
       " 5366525.0,\n",
       " 5239933.0,\n",
       " 2947020.0,\n",
       " 2925093.0,\n",
       " 5788170.0,\n",
       " 2053801.0,\n",
       " 21608456.0,\n",
       " 2023962.0,\n",
       " 4049003.0,\n",
       " 2721456.0,\n",
       " 4975304.0,\n",
       " 3947299.0,\n",
       " 2710307.0,\n",
       " 1182189.0,\n",
       " 680295.0,\n",
       " 3178288.0,\n",
       " nan,\n",
       " 6157439.0,\n",
       " 1880141.0,\n",
       " 2945258.0,\n",
       " 3669068.0,\n",
       " 9404000.0,\n",
       " 4896583.0,\n",
       " 4147300.0,\n",
       " nan,\n",
       " 1279908.0,\n",
       " 1422322.0,\n",
       " 5100861.0,\n",
       " 3404182.0,\n",
       " 7747759.0,\n",
       " 2420876.0,\n",
       " 1968642.0,\n",
       " nan,\n",
       " 5353765.0,\n",
       " 2633462.0,\n",
       " 2363257.0,\n",
       " 2827208.0,\n",
       " 3511767.0,\n",
       " 4265113.0,\n",
       " 3255831.0,\n",
       " 13821734.0,\n",
       " 3130288.0,\n",
       " 3876967.0,\n",
       " 2092880.0,\n",
       " 2549541.0,\n",
       " 4842870.0,\n",
       " 3428148.0,\n",
       " 5559758.0,\n",
       " 3663678.0,\n",
       " 11940053.0,\n",
       " 3038929.0,\n",
       " 5140534.0,\n",
       " 2043241.0,\n",
       " 4581548.0,\n",
       " nan,\n",
       " 20862252.0,\n",
       " 1175860.0,\n",
       " 1593552.0,\n",
       " 2000.0,\n",
       " 3460558.0,\n",
       " 2224784.0,\n",
       " 954532.0,\n",
       " 1891290.0,\n",
       " 1395886.0,\n",
       " 2098724.0,\n",
       " 4425974.0,\n",
       " 4138050.0,\n",
       " 5749750.0,\n",
       " 3931690.0,\n",
       " 3068353.0,\n",
       " 2287176.0,\n",
       " 1424908.0,\n",
       " 1271272.0,\n",
       " 4083155.0,\n",
       " 904943.0,\n",
       " 1824861.0,\n",
       " 4555107.0,\n",
       " 2847216.0,\n",
       " 1793246.0,\n",
       " 2878741.0,\n",
       " 2500675.0,\n",
       " 2132644.0,\n",
       " 6780056.0,\n",
       " 4178792.0,\n",
       " nan,\n",
       " 3509349.0,\n",
       " 3883665.0,\n",
       " 5607406.0,\n",
       " 1946060.0,\n",
       " 5012698.0,\n",
       " 4463437.0,\n",
       " 1878249.0,\n",
       " 3869173.0,\n",
       " 5510747.0,\n",
       " 8842615.0,\n",
       " 5007590.0,\n",
       " 3677727.0,\n",
       " 1717408.0,\n",
       " 3359388.0,\n",
       " 3133737.0,\n",
       " 2682857.0,\n",
       " 3004631.0,\n",
       " 2860221.0,\n",
       " 6815072.0,\n",
       " 2532941.0,\n",
       " 3847638.0,\n",
       " 219455.0,\n",
       " 4760911.0,\n",
       " 4150433.0,\n",
       " 4470701.0,\n",
       " 4099130.0,\n",
       " 1930335.0,\n",
       " 3024000.0,\n",
       " 3512355.0,\n",
       " 4380410.0,\n",
       " 5855652.0,\n",
       " 4332084.0,\n",
       " nan,\n",
       " 2804641.0,\n",
       " 1800314.0,\n",
       " 1409336.0,\n",
       " nan,\n",
       " 1622200.0,\n",
       " 12629006.0,\n",
       " 948106.0,\n",
       " 3430224.0,\n",
       " 2909730.0,\n",
       " 3707319.0,\n",
       " 6832238.0,\n",
       " 5940107.0,\n",
       " 7203613.0,\n",
       " 4710753.0,\n",
       " 1994858.0,\n",
       " 744884.0,\n",
       " 3120920.0,\n",
       " 3156473.0,\n",
       " nan,\n",
       " 3836202.0,\n",
       " 3810399.0,\n",
       " 3096025.0,\n",
       " 1692990.0,\n",
       " nan,\n",
       " 3458983.0,\n",
       " 37065.0,\n",
       " 3746908.0,\n",
       " 2573576.0,\n",
       " 3512617.0,\n",
       " nan,\n",
       " 875897.0,\n",
       " 2631383.0,\n",
       " 7176754.0,\n",
       " 3393427.0,\n",
       " 609569.0,\n",
       " 2029247.0,\n",
       " 16287000.0,\n",
       " 4363378.0,\n",
       " 8354772.0,\n",
       " 0.0,\n",
       " 2898830.0,\n",
       " nan,\n",
       " 4193818.0,\n",
       " 1884629.0,\n",
       " 2859712.0,\n",
       " 440320.0,\n",
       " 2036285.0,\n",
       " 1874813.0,\n",
       " 1937097.0,\n",
       " 2260691.0,\n",
       " 27773656.0,\n",
       " 3277826.0,\n",
       " 4037405.0,\n",
       " 2724253.0,\n",
       " 2629466.0,\n",
       " 2244766.0,\n",
       " 2776897.0,\n",
       " 4580116.0,\n",
       " 3303970.0,\n",
       " 3311049.0,\n",
       " 2422011.0,\n",
       " 3025031.0,\n",
       " 891108.0,\n",
       " nan,\n",
       " 7605000.0,\n",
       " 5525702.0,\n",
       " 3267923.0,\n",
       " 2152006.0,\n",
       " 1386523.0,\n",
       " 831429.0,\n",
       " nan,\n",
       " nan,\n",
       " 2496005.0,\n",
       " 6246000.0,\n",
       " 2940181.0,\n",
       " 8502401.0,\n",
       " nan,\n",
       " 5549961.0,\n",
       " 3334515.0,\n",
       " 3336578.0,\n",
       " 1199183.0,\n",
       " 2280105.0,\n",
       " 2546883.0,\n",
       " 3250806.0,\n",
       " 2600381.0,\n",
       " 3642054.0,\n",
       " nan,\n",
       " 2587951.0,\n",
       " 2057250.0,\n",
       " 1140497.0,\n",
       " 1675408.0,\n",
       " 4404674.0,\n",
       " 1104756.0,\n",
       " nan,\n",
       " 1773374.0,\n",
       " 1579822.0,\n",
       " 4080459.0,\n",
       " 1627813.0,\n",
       " 2444435.0,\n",
       " 5161792.0,\n",
       " 625633.0,\n",
       " 15889.0,\n",
       " 5467243.0,\n",
       " 3821868.0,\n",
       " 4351213.0,\n",
       " 3454977.0,\n",
       " 2642973.0,\n",
       " 3339000.0,\n",
       " 3060093.0,\n",
       " 4928160.0,\n",
       " 2777105.0,\n",
       " nan,\n",
       " 1482551.0,\n",
       " 3094264.0,\n",
       " 3429049.0,\n",
       " 976562.0,\n",
       " 4691276.0,\n",
       " 3084591.0,\n",
       " 408430.0,\n",
       " 636405.0,\n",
       " 2079761.0,\n",
       " 2546304.0,\n",
       " 2093200.0,\n",
       " 8046355.0,\n",
       " 2859866.0,\n",
       " 8783218.0,\n",
       " 1731724.0,\n",
       " 2210529.0,\n",
       " 70346.0,\n",
       " 25299836.0,\n",
       " 2989837.0,\n",
       " 2324161.0,\n",
       " 3533305.0,\n",
       " 3328082.0,\n",
       " 163892.0,\n",
       " 2216775.0,\n",
       " 2229914.0,\n",
       " 2090113.0,\n",
       " 2998472.0,\n",
       " 3204179.0,\n",
       " 20495.0,\n",
       " 3598852.0,\n",
       " 2005291.0,\n",
       " 1933983.0,\n",
       " 3358000.0,\n",
       " 5577498.0,\n",
       " 3045081.0,\n",
       " 2688742.0,\n",
       " 2076396.0,\n",
       " 3599813.0,\n",
       " 472561.0,\n",
       " 2455926.0,\n",
       " 4251942.0,\n",
       " 4345163.0,\n",
       " 1055426.0,\n",
       " 3229463.0,\n",
       " nan,\n",
       " nan,\n",
       " 2861145.0,\n",
       " 1086862.0,\n",
       " nan,\n",
       " 14533803.0,\n",
       " 3521077.0,\n",
       " 1684104.0,\n",
       " 3081137.0,\n",
       " 1340907.0,\n",
       " 2713484.0,\n",
       " 2114308.0,\n",
       " 3630710.0,\n",
       " 2125070.0,\n",
       " 9800896.0,\n",
       " 685881.0,\n",
       " 1945315.0,\n",
       " 232791.0,\n",
       " 1649226.0,\n",
       " 3151134.0,\n",
       " 5974052.0,\n",
       " 3195645.0,\n",
       " 2797359.0,\n",
       " 31525256.0,\n",
       " 2442978.0,\n",
       " 2973377.0,\n",
       " 383993.0,\n",
       " 2486679.0,\n",
       " 2911672.0,\n",
       " 2362967.0,\n",
       " 2345851.0,\n",
       " 3128323.0,\n",
       " nan,\n",
       " 3650791.0,\n",
       " 1432928.0,\n",
       " 2480519.0,\n",
       " 4991663.0,\n",
       " 3676155.0,\n",
       " 2820937.0,\n",
       " 2926068.0,\n",
       " 1532004.0,\n",
       " 2793927.0,\n",
       " 1362943.0,\n",
       " 1571459.0,\n",
       " 2681060.0,\n",
       " 1818745.0,\n",
       " 2093313.0,\n",
       " 2159710.0,\n",
       " 861985.0,\n",
       " 2775518.0,\n",
       " 2380269.0,\n",
       " 3842877.0,\n",
       " 9703343.0,\n",
       " 1363187.0,\n",
       " 1967300.0,\n",
       " 2663461.0,\n",
       " 2430446.0,\n",
       " 1313865.0,\n",
       " 1547861.0,\n",
       " 2548512.0,\n",
       " 4775673.0,\n",
       " 1332132.0,\n",
       " 91853056.0,\n",
       " 3062510.0,\n",
       " 2436942.0,\n",
       " 1046153.0,\n",
       " 2383796.0,\n",
       " 6764021.0,\n",
       " nan,\n",
       " 2125979.0,\n",
       " 5018612.0,\n",
       " 602565.0,\n",
       " 2536201.0,\n",
       " 2023108.0,\n",
       " 3995761.0,\n",
       " 624621.0,\n",
       " 6355437.0,\n",
       " 2233003.0,\n",
       " ...]"
      ]
     },
     "execution_count": 29,
     "metadata": {},
     "output_type": "execute_result"
    }
   ],
   "source": [
    "[i for i in ing_exp.loc[-1000:,'Ingresos de explotación EUR Año - 2']]"
   ]
  },
  {
   "cell_type": "code",
   "execution_count": 34,
   "metadata": {},
   "outputs": [
    {
     "data": {
      "text/plain": [
       "mean     3236374.75\n",
       "std     16446924.00\n",
       "Name: Ingresos de explotación EUR Año - 3, dtype: float64"
      ]
     },
     "execution_count": 34,
     "metadata": {},
     "output_type": "execute_result"
    }
   ],
   "source": [
    "ing_exp.describe().iloc[:,1][['mean','std']]"
   ]
  },
  {
   "cell_type": "code",
   "execution_count": 31,
   "metadata": {},
   "outputs": [
    {
     "name": "stderr",
     "output_type": "stream",
     "text": [
      "/usr/local/anaconda/lib/python3.7/site-packages/ipykernel_launcher.py:1: RuntimeWarning: invalid value encountered in less_equal\n",
      "  \"\"\"Entry point for launching an IPython kernel.\n"
     ]
    },
    {
     "data": {
      "text/plain": [
       "(array([294., 166., 142., 151., 107.,  93., 117., 101., 111.,  95.]),\n",
       " array([     0. ,  32489.7,  64979.4,  97469.1, 129958.8, 162448.5,\n",
       "        194938.2, 227427.9, 259917.6, 292407.3, 324897. ], dtype=float32),\n",
       " <a list of 10 Patch objects>)"
      ]
     },
     "execution_count": 31,
     "metadata": {},
     "output_type": "execute_result"
    },
    {
     "data": {
      "image/png": "[encoded data removed]",
      "text/plain": [
       "<Figure size 432x288 with 1 Axes>"
      ]
     },
     "metadata": {
      "needs_background": "light"
     },
     "output_type": "display_data"
    }
   ],
   "source": [
    "plt.hist(ing_exp['Ingresos de explotación EUR Año - 2'][ing_exp.values[:,0]<=0.000325e+9])"
   ]
  },
  {
   "cell_type": "code",
   "execution_count": 28,
   "metadata": {},
   "outputs": [
    {
     "data": {
      "text/plain": [
       "(-2567952.75, 4943189.25)"
      ]
     },
     "execution_count": 28,
     "metadata": {},
     "output_type": "execute_result"
    }
   ],
   "source": [
    "2.487255e+05-(2.126511e+06-2.487255e+05)*1.5,2.126511e+06+(2.126511e+06-2.487255e+05)*1.5"
   ]
  },
  {
   "cell_type": "code",
   "execution_count": 42,
   "metadata": {},
   "outputs": [
    {
     "name": "stderr",
     "output_type": "stream",
     "text": [
      "/usr/local/anaconda/lib/python3.7/site-packages/ipykernel_launcher.py:5: RuntimeWarning: invalid value encountered in less_equal\n",
      "  \"\"\"\n"
     ]
    },
    {
     "data": {
      "image/png": "[encoded data removed]",
      "text/plain": [
       "<Figure size 432x288 with 1 Axes>"
      ]
     },
     "metadata": {
      "needs_background": "light"
     },
     "output_type": "display_data"
    },
    {
     "data": {
      "image/png": "[encoded data removed]",
      "text/plain": [
       "<Figure size 432x288 with 1 Axes>"
      ]
     },
     "metadata": {
      "needs_background": "light"
     },
     "output_type": "display_data"
    },
    {
     "data": {
      "image/png": "[encoded data removed]",
      "text/plain": [
       "<Figure size 432x288 with 1 Axes>"
      ]
     },
     "metadata": {
      "needs_background": "light"
     },
     "output_type": "display_data"
    }
   ],
   "source": [
    "fig1, ax1 = plt.subplots()\n",
    "fig2, ax2 = plt.subplots()\n",
    "fig3, ax3 = plt.subplots()\n",
    "\n",
    "ax1.boxplot(ing_exp.values[:,0][(~np.isnan(ing_exp.values[:,0])) & (ing_exp.values[:,0]<=0.00325e+9)])\n",
    "ax2.boxplot(ing_exp.values[:,1][~np.isnan(ing_exp.values[:,1])])\n",
    "ax3.boxplot(ing_exp.values[:,2][~np.isnan(ing_exp.values[:,2])])\n",
    "\n",
    "plt.show()"
   ]
  },
  {
   "cell_type": "markdown",
   "metadata": {},
   "source": [
    "## Resultado del ejercicio"
   ]
  },
  {
   "cell_type": "code",
   "execution_count": 45,
   "metadata": {},
   "outputs": [],
   "source": [
    "resul_ejer = Concurso[['Resultado del Ejercicio EUR Año - 2',\n",
    "                    'Resultado del Ejercicio EUR Año - 3',\n",
    "                    'Resultado del Ejercicio EUR Año - 4']]"
   ]
  },
  {
   "cell_type": "code",
   "execution_count": 46,
   "metadata": {},
   "outputs": [
    {
     "name": "stderr",
     "output_type": "stream",
     "text": [
      "/usr/local/anaconda/lib/python3.7/site-packages/ipykernel_launcher.py:2: SettingWithCopyWarning: \n",
      "A value is trying to be set on a copy of a slice from a DataFrame.\n",
      "Try using .loc[row_indexer,col_indexer] = value instead\n",
      "\n",
      "See the caveats in the documentation: http://pandas.pydata.org/pandas-docs/stable/indexing.html#indexing-view-versus-copy\n",
      "  \n"
     ]
    }
   ],
   "source": [
    "for i in resul_ejer:\n",
    "    resul_ejer[i] = resul_ejer[i].astype(np.float32)"
   ]
  },
  {
   "cell_type": "code",
   "execution_count": 47,
   "metadata": {},
   "outputs": [
    {
     "data": {
      "text/html": [
       "<div>\n",
       "<style scoped>\n",
       "    .dataframe tbody tr th:only-of-type {\n",
       "        vertical-align: middle;\n",
       "    }\n",
       "\n",
       "    .dataframe tbody tr th {\n",
       "        vertical-align: top;\n",
       "    }\n",
       "\n",
       "    .dataframe thead th {\n",
       "        text-align: right;\n",
       "    }\n",
       "</style>\n",
       "<table border=\"1\" class=\"dataframe\">\n",
       "  <thead>\n",
       "    <tr style=\"text-align: right;\">\n",
       "      <th></th>\n",
       "      <th>Resultado del Ejercicio EUR Año - 2</th>\n",
       "      <th>Resultado del Ejercicio EUR Año - 3</th>\n",
       "      <th>Resultado del Ejercicio EUR Año - 4</th>\n",
       "    </tr>\n",
       "  </thead>\n",
       "  <tbody>\n",
       "    <tr>\n",
       "      <th>count</th>\n",
       "      <td>4.869000e+03</td>\n",
       "      <td>4.562000e+03</td>\n",
       "      <td>4.219000e+03</td>\n",
       "    </tr>\n",
       "    <tr>\n",
       "      <th>mean</th>\n",
       "      <td>-2.468053e+05</td>\n",
       "      <td>-2.423843e+05</td>\n",
       "      <td>-1.229829e+05</td>\n",
       "    </tr>\n",
       "    <tr>\n",
       "      <th>std</th>\n",
       "      <td>3.195581e+06</td>\n",
       "      <td>5.406206e+06</td>\n",
       "      <td>3.395175e+06</td>\n",
       "    </tr>\n",
       "    <tr>\n",
       "      <th>min</th>\n",
       "      <td>-1.284960e+08</td>\n",
       "      <td>-3.078200e+08</td>\n",
       "      <td>-1.476621e+08</td>\n",
       "    </tr>\n",
       "    <tr>\n",
       "      <th>25%</th>\n",
       "      <td>-5.802800e+04</td>\n",
       "      <td>-4.106450e+04</td>\n",
       "      <td>-2.881200e+04</td>\n",
       "    </tr>\n",
       "    <tr>\n",
       "      <th>50%</th>\n",
       "      <td>6.450000e+02</td>\n",
       "      <td>1.614500e+03</td>\n",
       "      <td>2.959000e+03</td>\n",
       "    </tr>\n",
       "    <tr>\n",
       "      <th>75%</th>\n",
       "      <td>1.707300e+04</td>\n",
       "      <td>2.082850e+04</td>\n",
       "      <td>2.738650e+04</td>\n",
       "    </tr>\n",
       "    <tr>\n",
       "      <th>max</th>\n",
       "      <td>2.231291e+07</td>\n",
       "      <td>6.364700e+07</td>\n",
       "      <td>8.284409e+07</td>\n",
       "    </tr>\n",
       "  </tbody>\n",
       "</table>\n",
       "</div>"
      ],
      "text/plain": [
       "       Resultado del Ejercicio EUR Año - 2  \\\n",
       "count                         4.869000e+03   \n",
       "mean                         -2.468053e+05   \n",
       "std                           3.195581e+06   \n",
       "min                          -1.284960e+08   \n",
       "25%                          -5.802800e+04   \n",
       "50%                           6.450000e+02   \n",
       "75%                           1.707300e+04   \n",
       "max                           2.231291e+07   \n",
       "\n",
       "       Resultado del Ejercicio EUR Año - 3  \\\n",
       "count                         4.562000e+03   \n",
       "mean                         -2.423843e+05   \n",
       "std                           5.406206e+06   \n",
       "min                          -3.078200e+08   \n",
       "25%                          -4.106450e+04   \n",
       "50%                           1.614500e+03   \n",
       "75%                           2.082850e+04   \n",
       "max                           6.364700e+07   \n",
       "\n",
       "       Resultado del Ejercicio EUR Año - 4  \n",
       "count                         4.219000e+03  \n",
       "mean                         -1.229829e+05  \n",
       "std                           3.395175e+06  \n",
       "min                          -1.476621e+08  \n",
       "25%                          -2.881200e+04  \n",
       "50%                           2.959000e+03  \n",
       "75%                           2.738650e+04  \n",
       "max                           8.284409e+07  "
      ]
     },
     "execution_count": 47,
     "metadata": {},
     "output_type": "execute_result"
    }
   ],
   "source": [
    "resul_ejer.describe()"
   ]
  },
  {
   "cell_type": "code",
   "execution_count": 48,
   "metadata": {},
   "outputs": [
    {
     "data": {
      "image/png": "[encoded data removed]",
      "text/plain": [
       "<Figure size 432x288 with 1 Axes>"
      ]
     },
     "metadata": {
      "needs_background": "light"
     },
     "output_type": "display_data"
    },
    {
     "data": {
      "image/png": "[encoded data removed]",
      "text/plain": [
       "<Figure size 432x288 with 1 Axes>"
      ]
     },
     "metadata": {
      "needs_background": "light"
     },
     "output_type": "display_data"
    },
    {
     "data": {
      "image/png": "[encoded data removed]",
      "text/plain": [
       "<Figure size 432x288 with 1 Axes>"
      ]
     },
     "metadata": {
      "needs_background": "light"
     },
     "output_type": "display_data"
    }
   ],
   "source": [
    "fig1, ax1 = plt.subplots()\n",
    "fig2, ax2 = plt.subplots()\n",
    "fig3, ax3 = plt.subplots()\n",
    "\n",
    "ax1.boxplot(resul_ejer.values[:,0][~np.isnan(resul_ejer.values[:,0])])\n",
    "ax2.boxplot(resul_ejer.values[:,1][~np.isnan(resul_ejer.values[:,1])])\n",
    "ax3.boxplot(resul_ejer.values[:,2][~np.isnan(resul_ejer.values[:,2])])\n",
    "\n",
    "plt.show()"
   ]
  },
  {
   "cell_type": "code",
   "execution_count": 49,
   "metadata": {},
   "outputs": [
    {
     "name": "stderr",
     "output_type": "stream",
     "text": [
      "/usr/local/anaconda/lib/python3.7/site-packages/ipykernel_launcher.py:3: RuntimeWarning: invalid value encountered in less_equal\n",
      "  This is separate from the ipykernel package so we can avoid doing imports until\n"
     ]
    },
    {
     "data": {
      "text/plain": [
       "{'whiskers': [<matplotlib.lines.Line2D at 0x7fa17009ae48>,\n",
       "  <matplotlib.lines.Line2D at 0x7fa1711bd4a8>],\n",
       " 'caps': [<matplotlib.lines.Line2D at 0x7fa1711bd7f0>,\n",
       "  <matplotlib.lines.Line2D at 0x7fa1711bdb38>],\n",
       " 'boxes': [<matplotlib.lines.Line2D at 0x7fa17009ad30>],\n",
       " 'medians': [<matplotlib.lines.Line2D at 0x7fa1711bde80>],\n",
       " 'fliers': [<matplotlib.lines.Line2D at 0x7fa1711bdf60>],\n",
       " 'means': []}"
      ]
     },
     "execution_count": 49,
     "metadata": {},
     "output_type": "execute_result"
    },
    {
     "data": {
      "image/png": "[encoded data removed]",
      "text/plain": [
       "<Figure size 432x288 with 1 Axes>"
      ]
     },
     "metadata": {
      "needs_background": "light"
     },
     "output_type": "display_data"
    }
   ],
   "source": [
    "plt.boxplot(resul_ejer.values[:,0][(~np.isnan(resul_ejer.values[:,0]))\n",
    "                                  & (resul_ejer.values[:,0]<=0.1e+8) \n",
    "                                  & (resul_ejer.values[:,0]<=-0.1e+8)])"
   ]
  },
  {
   "cell_type": "code",
   "execution_count": 50,
   "metadata": {},
   "outputs": [
    {
     "data": {
      "text/plain": [
       "(-170679.5, 129724.5)"
      ]
     },
     "execution_count": 50,
     "metadata": {},
     "output_type": "execute_result"
    }
   ],
   "source": [
    "(-5.802800e+04)-(1.707300e+04-(-5.802800e+04))*1.5,1.707300e+04+(1.707300e+04-(-5.802800e+04))*1.5"
   ]
  },
  {
   "cell_type": "code",
   "execution_count": 51,
   "metadata": {},
   "outputs": [
    {
     "data": {
      "text/plain": [
       "['Nombre',\n",
       " 'Localidad',\n",
       " 'Comunidad autónoma',\n",
       " 'Código NIF',\n",
       " 'Forma jurídica',\n",
       " 'Estado',\n",
       " 'Ultimo año disponible',\n",
       " 'Código primario CNAE 2009',\n",
       " 'Ingresos de explotación EUR Año - 2',\n",
       " 'Ingresos de explotación EUR Año - 3',\n",
       " 'Ingresos de explotación EUR Año - 4',\n",
       " 'Result. ordinarios antes Impuestos EUR Año - 2',\n",
       " 'Result. ordinarios antes Impuestos EUR Año - 3',\n",
       " 'Result. ordinarios antes Impuestos EUR Año - 4',\n",
       " 'Resultado del Ejercicio EUR Año - 2',\n",
       " 'Resultado del Ejercicio EUR Año - 3',\n",
       " 'Resultado del Ejercicio EUR Año - 4',\n",
       " 'Total Activo EUR Año - 2',\n",
       " 'Total Activo EUR Año - 3',\n",
       " 'Total Activo EUR Año - 4',\n",
       " 'Fondos propios EUR Año - 2',\n",
       " 'Fondos propios EUR Año - 3',\n",
       " 'Fondos propios EUR Año - 4',\n",
       " 'Rentabilidad económica (%) % Año - 2',\n",
       " 'Rentabilidad económica (%) % Año - 3',\n",
       " 'Rentabilidad económica (%) % Año - 4',\n",
       " 'Rentabilidad financiera (%) % Año - 2',\n",
       " 'Rentabilidad financiera (%) % Año - 3',\n",
       " 'Rentabilidad financiera (%) % Año - 4',\n",
       " 'Liquidez general % Año - 2',\n",
       " 'Liquidez general % Año - 3',\n",
       " 'Liquidez general % Año - 4',\n",
       " 'Endeudamiento (%) % Año - 2',\n",
       " 'Endeudamiento (%) % Año - 3',\n",
       " 'Endeudamiento (%) % Año - 4',\n",
       " 'Número empleados Año - 2',\n",
       " 'Número empleados Año - 3',\n",
       " 'Número empleados Año - 4',\n",
       " 'Inmovilizado EUR Año - 2',\n",
       " 'Inmovilizado EUR Año - 3',\n",
       " 'Inmovilizado EUR Año - 4',\n",
       " 'Inmovilizado inmaterial EUR Año - 2',\n",
       " 'Inmovilizado inmaterial EUR Año - 3',\n",
       " 'Inmovilizado inmaterial EUR Año - 4',\n",
       " 'Inmovilizado material EUR Año - 2',\n",
       " 'Inmovilizado material EUR Año - 3',\n",
       " 'Inmovilizado material EUR Año - 4',\n",
       " 'Otros activos fijos EUR Año - 2',\n",
       " 'Otros activos fijos EUR Año - 3',\n",
       " 'Otros activos fijos EUR Año - 4',\n",
       " 'Activo circulante EUR Año - 2',\n",
       " 'Activo circulante EUR Año - 3',\n",
       " 'Activo circulante EUR Año - 4',\n",
       " 'Existencias EUR Año - 2',\n",
       " 'Existencias EUR Año - 3',\n",
       " 'Existencias EUR Año - 4',\n",
       " 'Deudores EUR Año - 2',\n",
       " 'Deudores EUR Año - 3',\n",
       " 'Deudores EUR Año - 4',\n",
       " 'Otros activos líquidos EUR Año - 2',\n",
       " 'Otros activos líquidos EUR Año - 3',\n",
       " 'Otros activos líquidos EUR Año - 4',\n",
       " 'Tesorería EUR Año - 2',\n",
       " 'Tesorería EUR Año - 3',\n",
       " 'Tesorería EUR Año - 4',\n",
       " 'Total activo EUR Año - 2',\n",
       " 'Total activo EUR Año - 3',\n",
       " 'Total activo EUR Año - 4',\n",
       " 'Fondos propios EUR Año - 2.1',\n",
       " 'Fondos propios EUR Año - 3.1',\n",
       " 'Fondos propios EUR Año - 4.1',\n",
       " 'Capital suscrito EUR Año - 2',\n",
       " 'Capital suscrito EUR Año - 3',\n",
       " 'Capital suscrito EUR Año - 4',\n",
       " 'Otros fondos propios EUR Año - 2',\n",
       " 'Otros fondos propios EUR Año - 3',\n",
       " 'Otros fondos propios EUR Año - 4',\n",
       " 'Pasivo fijo EUR Año - 2',\n",
       " 'Pasivo fijo EUR Año - 3',\n",
       " 'Pasivo fijo EUR Año - 4',\n",
       " 'Acreedores a L. P. EUR Año - 2',\n",
       " 'Acreedores a L. P. EUR Año - 3',\n",
       " 'Acreedores a L. P. EUR Año - 4',\n",
       " 'Otros pasivos fijos EUR Año - 2',\n",
       " 'Otros pasivos fijos EUR Año - 3',\n",
       " 'Otros pasivos fijos EUR Año - 4',\n",
       " 'Provisiones EUR Año - 2',\n",
       " 'Provisiones EUR Año - 3',\n",
       " 'Provisiones EUR Año - 4',\n",
       " 'Pasivo líquido EUR Año - 2',\n",
       " 'Pasivo líquido EUR Año - 3',\n",
       " 'Pasivo líquido EUR Año - 4',\n",
       " 'Deudas financieras EUR Año - 2',\n",
       " 'Deudas financieras EUR Año - 3',\n",
       " 'Deudas financieras EUR Año - 4',\n",
       " 'Acreedores comerciales EUR Año - 2',\n",
       " 'Acreedores comerciales EUR Año - 3',\n",
       " 'Acreedores comerciales EUR Año - 4',\n",
       " 'Otros pasivos líquidos EUR Año - 2',\n",
       " 'Otros pasivos líquidos EUR Año - 3',\n",
       " 'Otros pasivos líquidos EUR Año - 4',\n",
       " 'Total pasivo y capital propio EUR Año - 2',\n",
       " 'Total pasivo y capital propio EUR Año - 3',\n",
       " 'Total pasivo y capital propio EUR Año - 4',\n",
       " 'Fondo de maniobra EUR Año - 2',\n",
       " 'Fondo de maniobra EUR Año - 3',\n",
       " 'Fondo de maniobra EUR Año - 4',\n",
       " 'Número empleados Año - 2.1',\n",
       " 'Número empleados Año - 3.1',\n",
       " 'Número empleados Año - 4.1',\n",
       " 'Ingresos de explotación EUR Año - 2.1',\n",
       " 'Ingresos de explotación EUR Año - 3.1',\n",
       " 'Ingresos de explotación EUR Año - 4.1',\n",
       " 'Importe neto Cifra de Ventas EUR Año - 2',\n",
       " 'Importe neto Cifra de Ventas EUR Año - 3',\n",
       " 'Importe neto Cifra de Ventas EUR Año - 4',\n",
       " 'Consumo de mercaderías y de materias EUR Año - 2',\n",
       " 'Consumo de mercaderías y de materias EUR Año - 3',\n",
       " 'Consumo de mercaderías y de materias EUR Año - 4',\n",
       " 'Resultado bruto EUR Año - 2',\n",
       " 'Resultado bruto EUR Año - 3',\n",
       " 'Resultado bruto EUR Año - 4',\n",
       " 'Otros gastos de explotación EUR Año - 2',\n",
       " 'Otros gastos de explotación EUR Año - 3',\n",
       " 'Otros gastos de explotación EUR Año - 4',\n",
       " 'Resultado Explotación EUR Año - 2',\n",
       " 'Resultado Explotación EUR Año - 3',\n",
       " 'Resultado Explotación EUR Año - 4',\n",
       " 'Ingresos financieros EUR Año - 2',\n",
       " 'Ingresos financieros EUR Año - 3',\n",
       " 'Ingresos financieros EUR Año - 4',\n",
       " 'Gastos financieros EUR Año - 2',\n",
       " 'Gastos financieros EUR Año - 3',\n",
       " 'Gastos financieros EUR Año - 4',\n",
       " 'Resultado financiero EUR Año - 2',\n",
       " 'Resultado financiero EUR Año - 3',\n",
       " 'Resultado financiero EUR Año - 4',\n",
       " 'Result. ordinarios antes Impuestos EUR Año - 2.1',\n",
       " 'Result. ordinarios antes Impuestos EUR Año - 3.1',\n",
       " 'Result. ordinarios antes Impuestos EUR Año - 4.1',\n",
       " 'Impuestos sobre sociedades EUR Año - 2',\n",
       " 'Impuestos sobre sociedades EUR Año - 3',\n",
       " 'Impuestos sobre sociedades EUR Año - 4',\n",
       " 'Resultado Actividades Ordinarias EUR Año - 2',\n",
       " 'Resultado Actividades Ordinarias EUR Año - 3',\n",
       " 'Resultado Actividades Ordinarias EUR Año - 4',\n",
       " 'Ingresos extraordinarios EUR Año - 2',\n",
       " 'Ingresos extraordinarios EUR Año - 3',\n",
       " 'Ingresos extraordinarios EUR Año - 4',\n",
       " 'Gastos extraordinarios EUR Año - 2',\n",
       " 'Gastos extraordinarios EUR Año - 3',\n",
       " 'Gastos extraordinarios EUR Año - 4',\n",
       " 'Resultados actividades extraordinarias EUR Año - 2',\n",
       " 'Resultados actividades extraordinarias EUR Año - 3',\n",
       " 'Resultados actividades extraordinarias EUR Año - 4',\n",
       " 'Resultado del Ejercicio EUR Año - 2.1',\n",
       " 'Resultado del Ejercicio EUR Año - 3.1',\n",
       " 'Resultado del Ejercicio EUR Año - 4.1',\n",
       " 'Materiales EUR Año - 2',\n",
       " 'Materiales EUR Año - 3',\n",
       " 'Materiales EUR Año - 4',\n",
       " 'Gastos de personal EUR Año - 2',\n",
       " 'Gastos de personal EUR Año - 3',\n",
       " 'Gastos de personal EUR Año - 4',\n",
       " 'Dotaciones para amortiz. de inmovil. EUR Año - 2',\n",
       " 'Dotaciones para amortiz. de inmovil. EUR Año - 3',\n",
       " 'Dotaciones para amortiz. de inmovil. EUR Año - 4',\n",
       " 'Other operating items Año - 2',\n",
       " 'Other operating items Año - 3',\n",
       " 'Other operating items Año - 4',\n",
       " 'Gastos financieros y gastos asimilados EUR Año - 2',\n",
       " 'Gastos financieros y gastos asimilados EUR Año - 3',\n",
       " 'Gastos financieros y gastos asimilados EUR Año - 4',\n",
       " 'Cash flow EUR Año - 2',\n",
       " 'Cash flow EUR Año - 3',\n",
       " 'Cash flow EUR Año - 4',\n",
       " 'Valor agregado EUR Año - 2',\n",
       " 'Valor agregado EUR Año - 3',\n",
       " 'Valor agregado EUR Año - 4',\n",
       " 'EBIT EUR Año - 2',\n",
       " 'EBIT EUR Año - 3',\n",
       " 'EBIT EUR Año - 4',\n",
       " 'EBITDA EUR Año - 2',\n",
       " 'EBITDA EUR Año - 3',\n",
       " 'EBITDA EUR Año - 4',\n",
       " 'Rentabilidad sobre recursos propios (%) % Año - 2',\n",
       " 'Rentabilidad sobre recursos propios (%) % Año - 3',\n",
       " 'Rentabilidad sobre recursos propios (%) % Año - 4',\n",
       " 'Rentabilidad sobre capital empleado (%) % Año - 2',\n",
       " 'Rentabilidad sobre capital empleado (%) % Año - 3',\n",
       " 'Rentabilidad sobre capital empleado (%) % Año - 4',\n",
       " 'Rentabilidad sobre el activo total (%) % Año - 2',\n",
       " 'Rentabilidad sobre el activo total (%) % Año - 3',\n",
       " 'Rentabilidad sobre el activo total (%) % Año - 4',\n",
       " 'Margen de beneficio (%) % Año - 2',\n",
       " 'Margen de beneficio (%) % Año - 3',\n",
       " 'Margen de beneficio (%) % Año - 4',\n",
       " 'Rotación de activos netos % Año - 2',\n",
       " 'Rotación de activos netos % Año - 3',\n",
       " 'Rotación de activos netos % Año - 4',\n",
       " 'Ratio de cobertura de intereses % Año - 2',\n",
       " 'Ratio de cobertura de intereses % Año - 3',\n",
       " 'Ratio de cobertura de intereses % Año - 4',\n",
       " 'Rotación de las existencias % Año - 2',\n",
       " 'Rotación de las existencias % Año - 3',\n",
       " 'Rotación de las existencias % Año - 4',\n",
       " 'Período de cobro (días) días Año - 2',\n",
       " 'Período de cobro (días) días Año - 3',\n",
       " 'Período de cobro (días) días Año - 4',\n",
       " 'Período de crédito (días) días Año - 2',\n",
       " 'Período de crédito (días) días Año - 3',\n",
       " 'Período de crédito (días) días Año - 4',\n",
       " 'Ratio de solvencia % Año - 2',\n",
       " 'Ratio de solvencia % Año - 3',\n",
       " 'Ratio de solvencia % Año - 4',\n",
       " 'Ratio de liquidez % Año - 2',\n",
       " 'Ratio de liquidez % Año - 3',\n",
       " 'Ratio de liquidez % Año - 4',\n",
       " 'Ratios de autonomía financiera a medio y largo plazo % Año - 2',\n",
       " 'Ratios de autonomía financiera a medio y largo plazo % Año - 3',\n",
       " 'Ratios de autonomía financiera a medio y largo plazo % Año - 4',\n",
       " 'Coeficiente de solvencia (%) % Año - 2',\n",
       " 'Coeficiente de solvencia (%) % Año - 3',\n",
       " 'Coeficiente de solvencia (%) % Año - 4',\n",
       " 'Apalancamiento (%) % Año - 2',\n",
       " 'Apalancamiento (%) % Año - 3',\n",
       " 'Apalancamiento (%) % Año - 4',\n",
       " 'Beneficio por empleado mil Año - 2',\n",
       " 'Beneficio por empleado mil Año - 3',\n",
       " 'Beneficio por empleado mil Año - 4',\n",
       " 'Ingresos de explotación por empleado mil Año - 2',\n",
       " 'Ingresos de explotación por empleado mil Año - 3',\n",
       " 'Ingresos de explotación por empleado mil Año - 4',\n",
       " 'Costes de los trabajadores / Ingresos de explotación (%) % Año - 2',\n",
       " 'Costes de los trabajadores / Ingresos de explotación (%) % Año - 3',\n",
       " 'Costes de los trabajadores / Ingresos de explotación (%) % Año - 4',\n",
       " 'Coste medio de los empleados mil Año - 2',\n",
       " 'Coste medio de los empleados mil Año - 3',\n",
       " 'Coste medio de los empleados mil Año - 4',\n",
       " 'Recursos propios por empleado mil Año - 2',\n",
       " 'Recursos propios por empleado mil Año - 3',\n",
       " 'Recursos propios por empleado mil Año - 4',\n",
       " 'Capital circulante por empleado mil Año - 2',\n",
       " 'Capital circulante por empleado mil Año - 3',\n",
       " 'Capital circulante por empleado mil Año - 4',\n",
       " 'Total activos por empleado mil Año - 2',\n",
       " 'Total activos por empleado mil Año - 3',\n",
       " 'Total activos por empleado mil Año - 4',\n",
       " 'Importe neto Cifra de Ventas % Año - 2',\n",
       " 'Importe neto Cifra de Ventas % Año - 3',\n",
       " 'Importe neto Cifra de Ventas % Año - 4',\n",
       " 'Resultados antes de impuestos % Año - 2',\n",
       " 'Resultados antes de impuestos % Año - 3',\n",
       " 'Resultados antes de impuestos % Año - 4',\n",
       " 'Consumos de explotación % Año - 2',\n",
       " 'Consumos de explotación % Año - 3',\n",
       " 'Consumos de explotación % Año - 4',\n",
       " 'Gastos de personal % Año - 2',\n",
       " 'Gastos de personal % Año - 3',\n",
       " 'Gastos de personal % Año - 4',\n",
       " 'Inmovilizado % Año - 2',\n",
       " 'Inmovilizado % Año - 3',\n",
       " 'Inmovilizado % Año - 4',\n",
       " 'Total activo % Año - 2',\n",
       " 'Total activo % Año - 3',\n",
       " 'Total activo % Año - 4',\n",
       " 'Fondos propios % Año - 2',\n",
       " 'Fondos propios % Año - 3',\n",
       " 'Fondos propios % Año - 4',\n",
       " 'Acreedores a largo plazo % Año - 2',\n",
       " 'Acreedores a largo plazo % Año - 3',\n",
       " 'Acreedores a largo plazo % Año - 4',\n",
       " 'Fondo maniobra % Año - 2',\n",
       " 'Fondo maniobra % Año - 3',\n",
       " 'Fondo maniobra % Año - 4',\n",
       " 'Necesidad fondo maniobra % Año - 2',\n",
       " 'Necesidad fondo maniobra % Año - 3',\n",
       " 'Necesidad fondo maniobra % Año - 4',\n",
       " 'Tesorería % Año - 2',\n",
       " 'Tesorería % Año - 3',\n",
       " 'Tesorería % Año - 4',\n",
       " 'Incidencias Judiciales']"
      ]
     },
     "execution_count": 51,
     "metadata": {},
     "output_type": "execute_result"
    }
   ],
   "source": [
    "[i for i in Concurso.columns]"
   ]
  },
  {
   "cell_type": "code",
   "execution_count": 52,
   "metadata": {},
   "outputs": [
    {
     "data": {
      "text/plain": [
       "949872000.0"
      ]
     },
     "execution_count": 52,
     "metadata": {},
     "output_type": "execute_result"
    }
   ],
   "source": [
    "9.498720e+08"
   ]
  },
  {
   "cell_type": "markdown",
   "metadata": {},
   "source": [
    "## Activo circulante"
   ]
  },
  {
   "cell_type": "code",
   "execution_count": 57,
   "metadata": {},
   "outputs": [],
   "source": [
    "act_cir = Concurso[['Activo circulante EUR Año - 2',\n",
    "                    'Activo circulante EUR Año - 3',\n",
    "                    'Activo circulante EUR Año - 4']]"
   ]
  },
  {
   "cell_type": "code",
   "execution_count": 71,
   "metadata": {},
   "outputs": [
    {
     "data": {
      "image/png": "[encoded data removed]",
      "text/plain": [
       "<Figure size 432x288 with 1 Axes>"
      ]
     },
     "metadata": {
      "needs_background": "light"
     },
     "output_type": "display_data"
    },
    {
     "data": {
      "image/png": "[encoded data removed]",
      "text/plain": [
       "<Figure size 432x288 with 1 Axes>"
      ]
     },
     "metadata": {
      "needs_background": "light"
     },
     "output_type": "display_data"
    },
    {
     "data": {
      "image/png": "[encoded data removed]",
      "text/plain": [
       "<Figure size 432x288 with 1 Axes>"
      ]
     },
     "metadata": {
      "needs_background": "light"
     },
     "output_type": "display_data"
    }
   ],
   "source": [
    "dibujar_boxplots(act_cir)"
   ]
  },
  {
   "cell_type": "code",
   "execution_count": 67,
   "metadata": {},
   "outputs": [
    {
     "name": "stderr",
     "output_type": "stream",
     "text": [
      "/usr/local/anaconda/lib/python3.7/site-packages/ipykernel_launcher.py:2: SettingWithCopyWarning: \n",
      "A value is trying to be set on a copy of a slice from a DataFrame.\n",
      "Try using .loc[row_indexer,col_indexer] = value instead\n",
      "\n",
      "See the caveats in the documentation: http://pandas.pydata.org/pandas-docs/stable/indexing.html#indexing-view-versus-copy\n",
      "  \n"
     ]
    }
   ],
   "source": [
    "for i in act_cir:\n",
    "    act_cir[i] = act_cir[i].astype(np.float32)"
   ]
  },
  {
   "cell_type": "code",
   "execution_count": 68,
   "metadata": {},
   "outputs": [
    {
     "name": "stdout",
     "output_type": "stream",
     "text": [
      "Percentil 25%:163977.0\n",
      "Percentil 75%:1995376.25\n",
      "media:4073332.5\n",
      "Bigote_1:4742475.125 Bigote_2:-2583121.875\n"
     ]
    },
    {
     "data": {
      "text/plain": [
       "(163977.0, 1995376.25, 4073332.5, 4742475.125, -2583121.875)"
      ]
     },
     "execution_count": 68,
     "metadata": {},
     "output_type": "execute_result"
    }
   ],
   "source": [
    "obtener_datos_boxplots(act_cir,0)"
   ]
  },
  {
   "cell_type": "code",
   "execution_count": 66,
   "metadata": {},
   "outputs": [
    {
     "data": {
      "text/html": [
       "<div>\n",
       "<style scoped>\n",
       "    .dataframe tbody tr th:only-of-type {\n",
       "        vertical-align: middle;\n",
       "    }\n",
       "\n",
       "    .dataframe tbody tr th {\n",
       "        vertical-align: top;\n",
       "    }\n",
       "\n",
       "    .dataframe thead th {\n",
       "        text-align: right;\n",
       "    }\n",
       "</style>\n",
       "<table border=\"1\" class=\"dataframe\">\n",
       "  <thead>\n",
       "    <tr style=\"text-align: right;\">\n",
       "      <th></th>\n",
       "      <th>Activo circulante EUR Año - 2</th>\n",
       "      <th>Activo circulante EUR Año - 3</th>\n",
       "      <th>Activo circulante EUR Año - 4</th>\n",
       "    </tr>\n",
       "  </thead>\n",
       "  <tbody>\n",
       "    <tr>\n",
       "      <th>count</th>\n",
       "      <td>4946</td>\n",
       "      <td>4628</td>\n",
       "      <td>4275</td>\n",
       "    </tr>\n",
       "    <tr>\n",
       "      <th>unique</th>\n",
       "      <td>4934</td>\n",
       "      <td>4615</td>\n",
       "      <td>4262</td>\n",
       "    </tr>\n",
       "    <tr>\n",
       "      <th>top</th>\n",
       "      <td>3005.0</td>\n",
       "      <td>3006.0</td>\n",
       "      <td>3006.0</td>\n",
       "    </tr>\n",
       "    <tr>\n",
       "      <th>freq</th>\n",
       "      <td>3</td>\n",
       "      <td>4</td>\n",
       "      <td>6</td>\n",
       "    </tr>\n",
       "  </tbody>\n",
       "</table>\n",
       "</div>"
      ],
      "text/plain": [
       "       Activo circulante EUR Año - 2 Activo circulante EUR Año - 3  \\\n",
       "count                           4946                          4628   \n",
       "unique                          4934                          4615   \n",
       "top                           3005.0                        3006.0   \n",
       "freq                               3                             4   \n",
       "\n",
       "       Activo circulante EUR Año - 4  \n",
       "count                           4275  \n",
       "unique                          4262  \n",
       "top                           3006.0  \n",
       "freq                               6  "
      ]
     },
     "execution_count": 66,
     "metadata": {},
     "output_type": "execute_result"
    }
   ],
   "source": [
    "act_cir.describe()"
   ]
  },
  {
   "cell_type": "code",
   "execution_count": 72,
   "metadata": {},
   "outputs": [],
   "source": [
    "ebit = Concurso[['EBIT EUR Año - 2',\n",
    " 'EBIT EUR Año - 3',\n",
    " 'EBIT EUR Año - 4']]"
   ]
  },
  {
   "cell_type": "code",
   "execution_count": 73,
   "metadata": {},
   "outputs": [
    {
     "name": "stderr",
     "output_type": "stream",
     "text": [
      "/usr/local/anaconda/lib/python3.7/site-packages/ipykernel_launcher.py:2: SettingWithCopyWarning: \n",
      "A value is trying to be set on a copy of a slice from a DataFrame.\n",
      "Try using .loc[row_indexer,col_indexer] = value instead\n",
      "\n",
      "See the caveats in the documentation: http://pandas.pydata.org/pandas-docs/stable/indexing.html#indexing-view-versus-copy\n",
      "  \n"
     ]
    }
   ],
   "source": [
    "for i in ebit:\n",
    "    ebit[i] = ebit[i].astype(np.float32)"
   ]
  },
  {
   "cell_type": "code",
   "execution_count": 74,
   "metadata": {},
   "outputs": [
    {
     "data": {
      "image/png": "[encoded data removed]",
      "text/plain": [
       "<Figure size 432x288 with 1 Axes>"
      ]
     },
     "metadata": {
      "needs_background": "light"
     },
     "output_type": "display_data"
    },
    {
     "data": {
      "image/png": "[encoded data removed]",
      "text/plain": [
       "<Figure size 432x288 with 1 Axes>"
      ]
     },
     "metadata": {
      "needs_background": "light"
     },
     "output_type": "display_data"
    },
    {
     "data": {
      "image/png": "[encoded data removed]",
      "text/plain": [
       "<Figure size 432x288 with 1 Axes>"
      ]
     },
     "metadata": {
      "needs_background": "light"
     },
     "output_type": "display_data"
    }
   ],
   "source": [
    "dibujar_boxplots(ebit)"
   ]
  },
  {
   "cell_type": "code",
   "execution_count": 75,
   "metadata": {},
   "outputs": [
    {
     "name": "stdout",
     "output_type": "stream",
     "text": [
      "Percentil 25%:-39776.0\n",
      "Percentil 75%:65020.0\n",
      "media:-93215.8515625\n",
      "Bigote_1:222214.0 Bigote_2:-196970.0\n"
     ]
    },
    {
     "data": {
      "text/plain": [
       "(-39776.0, 65020.0, -93215.8515625, 222214.0, -196970.0)"
      ]
     },
     "execution_count": 75,
     "metadata": {},
     "output_type": "execute_result"
    }
   ],
   "source": [
    "obtener_datos_boxplots(ebit,0)"
   ]
  },
  {
   "cell_type": "markdown",
   "metadata": {},
   "source": [
    "## EBITDA"
   ]
  },
  {
   "cell_type": "code",
   "execution_count": 77,
   "metadata": {},
   "outputs": [],
   "source": [
    "ebitda = Concurso[['EBITDA EUR Año - 2',\n",
    " 'EBITDA EUR Año - 3',\n",
    " 'EBITDA EUR Año - 4']]"
   ]
  },
  {
   "cell_type": "code",
   "execution_count": 80,
   "metadata": {},
   "outputs": [
    {
     "name": "stderr",
     "output_type": "stream",
     "text": [
      "/usr/local/anaconda/lib/python3.7/site-packages/ipykernel_launcher.py:2: SettingWithCopyWarning: \n",
      "A value is trying to be set on a copy of a slice from a DataFrame.\n",
      "Try using .loc[row_indexer,col_indexer] = value instead\n",
      "\n",
      "See the caveats in the documentation: http://pandas.pydata.org/pandas-docs/stable/indexing.html#indexing-view-versus-copy\n",
      "  \n"
     ]
    }
   ],
   "source": [
    "for i in ebitda:\n",
    "    ebitda[i] = ebitda[i].astype(np.float32)"
   ]
  },
  {
   "cell_type": "code",
   "execution_count": 81,
   "metadata": {},
   "outputs": [
    {
     "data": {
      "image/png": "[encoded data removed]",
      "text/plain": [
       "<Figure size 432x288 with 1 Axes>"
      ]
     },
     "metadata": {
      "needs_background": "light"
     },
     "output_type": "display_data"
    },
    {
     "data": {
      "image/png": "[encoded data removed]",
      "text/plain": [
       "<Figure size 432x288 with 1 Axes>"
      ]
     },
     "metadata": {
      "needs_background": "light"
     },
     "output_type": "display_data"
    },
    {
     "data": {
      "image/png": "[encoded data removed]",
      "text/plain": [
       "<Figure size 432x288 with 1 Axes>"
      ]
     },
     "metadata": {
      "needs_background": "light"
     },
     "output_type": "display_data"
    }
   ],
   "source": [
    "dibujar_boxplots(ebitda)"
   ]
  },
  {
   "cell_type": "code",
   "execution_count": 82,
   "metadata": {},
   "outputs": [
    {
     "name": "stdout",
     "output_type": "stream",
     "text": [
      "Percentil 25%:-21057.5\n",
      "Percentil 75%:102923.75\n",
      "media:-19963.275390625\n",
      "Bigote_1:288895.625 Bigote_2:-207029.375\n"
     ]
    },
    {
     "data": {
      "text/plain": [
       "(-21057.5, 102923.75, -19963.275390625, 288895.625, -207029.375)"
      ]
     },
     "execution_count": 82,
     "metadata": {},
     "output_type": "execute_result"
    }
   ],
   "source": [
    "obtener_datos_boxplots(ebitda,0)"
   ]
  },
  {
   "cell_type": "code",
   "execution_count": 87,
   "metadata": {},
   "outputs": [],
   "source": [
    " end = Concurso[['Endeudamiento (%) % Año - 2',\n",
    " 'Endeudamiento (%) % Año - 3',\n",
    " 'Endeudamiento (%) % Año - 4']]"
   ]
  },
  {
   "cell_type": "code",
   "execution_count": 89,
   "metadata": {},
   "outputs": [
    {
     "name": "stderr",
     "output_type": "stream",
     "text": [
      "/usr/local/anaconda/lib/python3.7/site-packages/ipykernel_launcher.py:2: SettingWithCopyWarning: \n",
      "A value is trying to be set on a copy of a slice from a DataFrame.\n",
      "Try using .loc[row_indexer,col_indexer] = value instead\n",
      "\n",
      "See the caveats in the documentation: http://pandas.pydata.org/pandas-docs/stable/indexing.html#indexing-view-versus-copy\n",
      "  \n"
     ]
    }
   ],
   "source": [
    "for i in end:\n",
    "    end[i] = end[i].astype(np.float32)"
   ]
  },
  {
   "cell_type": "code",
   "execution_count": 90,
   "metadata": {},
   "outputs": [
    {
     "data": {
      "image/png": "[encoded data removed]",
      "text/plain": [
       "<Figure size 432x288 with 1 Axes>"
      ]
     },
     "metadata": {
      "needs_background": "light"
     },
     "output_type": "display_data"
    },
    {
     "data": {
      "image/png": "[encoded data removed]",
      "text/plain": [
       "<Figure size 432x288 with 1 Axes>"
      ]
     },
     "metadata": {
      "needs_background": "light"
     },
     "output_type": "display_data"
    },
    {
     "data": {
      "image/png": "[encoded data removed]",
      "text/plain": [
       "<Figure size 432x288 with 1 Axes>"
      ]
     },
     "metadata": {
      "needs_background": "light"
     },
     "output_type": "display_data"
    }
   ],
   "source": [
    "dibujar_boxplots(end)"
   ]
  },
  {
   "cell_type": "code",
   "execution_count": 92,
   "metadata": {},
   "outputs": [
    {
     "name": "stdout",
     "output_type": "stream",
     "text": [
      "Percentil 25%:66.76000213623047\n",
      "Percentil 75%:98.13999938964844\n",
      "media:257.9245300292969\n",
      "Bigote_1:145.2099952697754 Bigote_2:19.690006256103516\n"
     ]
    },
    {
     "data": {
      "text/plain": [
       "(66.76000213623047,\n",
       " 98.13999938964844,\n",
       " 257.9245300292969,\n",
       " 145.2099952697754,\n",
       " 19.690006256103516)"
      ]
     },
     "execution_count": 92,
     "metadata": {},
     "output_type": "execute_result"
    }
   ],
   "source": [
    "obtener_datos_boxplots(end,0)"
   ]
  },
  {
   "cell_type": "markdown",
   "metadata": {},
   "source": [
    "## Ingresos Financieros"
   ]
  },
  {
   "cell_type": "code",
   "execution_count": 95,
   "metadata": {},
   "outputs": [],
   "source": [
    "ing_fin =Concurso[['Ingresos financieros EUR Año - 2',\n",
    " 'Ingresos financieros EUR Año - 3',\n",
    " 'Ingresos financieros EUR Año - 4']]"
   ]
  },
  {
   "cell_type": "code",
   "execution_count": 96,
   "metadata": {},
   "outputs": [
    {
     "name": "stderr",
     "output_type": "stream",
     "text": [
      "/usr/local/anaconda/lib/python3.7/site-packages/ipykernel_launcher.py:2: SettingWithCopyWarning: \n",
      "A value is trying to be set on a copy of a slice from a DataFrame.\n",
      "Try using .loc[row_indexer,col_indexer] = value instead\n",
      "\n",
      "See the caveats in the documentation: http://pandas.pydata.org/pandas-docs/stable/indexing.html#indexing-view-versus-copy\n",
      "  \n"
     ]
    }
   ],
   "source": [
    "for i in ing_fin:\n",
    "    ing_fin[i] = ing_fin[i].astype(np.float32)"
   ]
  },
  {
   "cell_type": "code",
   "execution_count": 97,
   "metadata": {},
   "outputs": [
    {
     "data": {
      "image/png": "[encoded data removed]",
      "text/plain": [
       "<Figure size 432x288 with 1 Axes>"
      ]
     },
     "metadata": {
      "needs_background": "light"
     },
     "output_type": "display_data"
    },
    {
     "data": {
      "image/png": "[encoded data removed]",
      "text/plain": [
       "<Figure size 432x288 with 1 Axes>"
      ]
     },
     "metadata": {
      "needs_background": "light"
     },
     "output_type": "display_data"
    },
    {
     "data": {
      "image/png": "[encoded data removed]",
      "text/plain": [
       "<Figure size 432x288 with 1 Axes>"
      ]
     },
     "metadata": {
      "needs_background": "light"
     },
     "output_type": "display_data"
    }
   ],
   "source": [
    "dibujar_boxplots(ing_fin)"
   ]
  },
  {
   "cell_type": "code",
   "execution_count": 98,
   "metadata": {},
   "outputs": [
    {
     "name": "stdout",
     "output_type": "stream",
     "text": [
      "Percentil 25%:0.0\n",
      "Percentil 75%:2135.5\n",
      "media:75716.2578125\n",
      "Bigote_1:5338.75 Bigote_2:-3203.25\n"
     ]
    },
    {
     "data": {
      "text/plain": [
       "(0.0, 2135.5, 75716.2578125, 5338.75, -3203.25)"
      ]
     },
     "execution_count": 98,
     "metadata": {},
     "output_type": "execute_result"
    }
   ],
   "source": [
    "obtener_datos_boxplots(ing_fin,0)"
   ]
  },
  {
   "cell_type": "markdown",
   "metadata": {},
   "source": [
    "## Fondo de maniobra"
   ]
  },
  {
   "cell_type": "code",
   "execution_count": 104,
   "metadata": {},
   "outputs": [],
   "source": [
    "fondo =  Concurso[['Fondos propios EUR Año - 2',\n",
    " 'Fondos propios EUR Año - 3',\n",
    " 'Fondos propios EUR Año - 4']]"
   ]
  },
  {
   "cell_type": "code",
   "execution_count": 105,
   "metadata": {},
   "outputs": [
    {
     "name": "stderr",
     "output_type": "stream",
     "text": [
      "/usr/local/anaconda/lib/python3.7/site-packages/ipykernel_launcher.py:2: SettingWithCopyWarning: \n",
      "A value is trying to be set on a copy of a slice from a DataFrame.\n",
      "Try using .loc[row_indexer,col_indexer] = value instead\n",
      "\n",
      "See the caveats in the documentation: http://pandas.pydata.org/pandas-docs/stable/indexing.html#indexing-view-versus-copy\n",
      "  \n"
     ]
    }
   ],
   "source": [
    "for i in fondo:\n",
    "    fondo[i] = fondo[i].astype(np.float32)"
   ]
  },
  {
   "cell_type": "code",
   "execution_count": 106,
   "metadata": {},
   "outputs": [
    {
     "data": {
      "image/png": "[encoded data removed]",
      "text/plain": [
       "<Figure size 432x288 with 1 Axes>"
      ]
     },
     "metadata": {
      "needs_background": "light"
     },
     "output_type": "display_data"
    },
    {
     "data": {
      "image/png": "[encoded data removed]",
      "text/plain": [
       "<Figure size 432x288 with 1 Axes>"
      ]
     },
     "metadata": {
      "needs_background": "light"
     },
     "output_type": "display_data"
    },
    {
     "data": {
      "image/png": "[encoded data removed]",
      "text/plain": [
       "<Figure size 432x288 with 1 Axes>"
      ]
     },
     "metadata": {
      "needs_background": "light"
     },
     "output_type": "display_data"
    }
   ],
   "source": [
    "dibujar_boxplots(fondo)"
   ]
  },
  {
   "cell_type": "code",
   "execution_count": 107,
   "metadata": {},
   "outputs": [
    {
     "name": "stdout",
     "output_type": "stream",
     "text": [
      "Percentil 25%:7619.0\n",
      "Percentil 75%:582207.0\n",
      "media:954135.9375\n",
      "Bigote_1:1444089.0 Bigote_2:-854263.0\n"
     ]
    },
    {
     "data": {
      "text/plain": [
       "(7619.0, 582207.0, 954135.9375, 1444089.0, -854263.0)"
      ]
     },
     "execution_count": 107,
     "metadata": {},
     "output_type": "execute_result"
    }
   ],
   "source": [
    "obtener_datos_boxplots(fondo,0)"
   ]
  },
  {
   "cell_type": "code",
   "execution_count": 108,
   "metadata": {},
   "outputs": [],
   "source": [
    "liq = Concurso[['Liquidez general % Año - 2',\n",
    " 'Liquidez general % Año - 3',\n",
    " 'Liquidez general % Año - 4']]"
   ]
  },
  {
   "cell_type": "code",
   "execution_count": 109,
   "metadata": {},
   "outputs": [
    {
     "name": "stderr",
     "output_type": "stream",
     "text": [
      "/usr/local/anaconda/lib/python3.7/site-packages/ipykernel_launcher.py:2: SettingWithCopyWarning: \n",
      "A value is trying to be set on a copy of a slice from a DataFrame.\n",
      "Try using .loc[row_indexer,col_indexer] = value instead\n",
      "\n",
      "See the caveats in the documentation: http://pandas.pydata.org/pandas-docs/stable/indexing.html#indexing-view-versus-copy\n",
      "  \n"
     ]
    }
   ],
   "source": [
    "for i in liq:\n",
    "    liq[i] = liq[i].astype(np.float32)"
   ]
  },
  {
   "cell_type": "code",
   "execution_count": 110,
   "metadata": {},
   "outputs": [
    {
     "name": "stdout",
     "output_type": "stream",
     "text": [
      "Percentil 25%:0.800000011920929\n",
      "Percentil 75%:1.9199999570846558\n",
      "media:9.328721046447754\n",
      "Bigote_1:3.599999874830246 Bigote_2:-0.8799999058246613\n"
     ]
    },
    {
     "data": {
      "text/plain": [
       "(0.800000011920929,\n",
       " 1.9199999570846558,\n",
       " 9.328721046447754,\n",
       " 3.599999874830246,\n",
       " -0.8799999058246613)"
      ]
     },
     "execution_count": 110,
     "metadata": {},
     "output_type": "execute_result"
    }
   ],
   "source": [
    "obtener_datos_boxplots(liq,0)"
   ]
  },
  {
   "cell_type": "code",
   "execution_count": 7,
   "metadata": {},
   "outputs": [
    {
     "data": {
      "text/plain": [
       "0       -105791000.0\n",
       "1                NaN\n",
       "2          -207015.0\n",
       "3         -5161505.0\n",
       "4        -16883000.0\n",
       "5        -15425861.0\n",
       "6                NaN\n",
       "7         -1429970.0\n",
       "8        -21290000.0\n",
       "9         -3432308.0\n",
       "10        -6958769.0\n",
       "11        -4660782.0\n",
       "12        -7900803.0\n",
       "13        -6261908.0\n",
       "14         -577020.0\n",
       "15      -214626000.0\n",
       "16        -6442780.0\n",
       "17               NaN\n",
       "18               NaN\n",
       "19         -459288.0\n",
       "20        -5273971.0\n",
       "21        -6463714.0\n",
       "22       -28531000.0\n",
       "23               NaN\n",
       "24               NaN\n",
       "25         -784321.0\n",
       "26               NaN\n",
       "27        -4354118.0\n",
       "28       -18568713.0\n",
       "29         -943162.0\n",
       "            ...     \n",
       "5476       -379332.0\n",
       "5477       -321540.0\n",
       "5478             NaN\n",
       "5479        -23994.0\n",
       "5480        -59606.0\n",
       "5481      -2147710.0\n",
       "5482       -100498.0\n",
       "5483       -103053.0\n",
       "5484        -17310.0\n",
       "5485       -106786.0\n",
       "5486             NaN\n",
       "5487        -91291.0\n",
       "5488        -37236.0\n",
       "5489       -151840.0\n",
       "5490       -215282.0\n",
       "5491             NaN\n",
       "5492             NaN\n",
       "5493        -28274.0\n",
       "5494         -9068.0\n",
       "5495       -267505.0\n",
       "5496        -92400.0\n",
       "5497             NaN\n",
       "5498       -514452.0\n",
       "5499        -68687.0\n",
       "5500             NaN\n",
       "5501       -142314.0\n",
       "5502             NaN\n",
       "5503       -304710.0\n",
       "5504         -4204.0\n",
       "5505         -6815.0\n",
       "Name: Other operating items Año - 2, Length: 5506, dtype: object"
      ]
     },
     "execution_count": 7,
     "metadata": {},
     "output_type": "execute_result"
    }
   ],
   "source": [
    "Concurso['Other operating items Año - 2']"
   ]
  },
  {
   "cell_type": "code",
   "execution_count": null,
   "metadata": {},
   "outputs": [],
   "source": []
  },
  {
   "cell_type": "code",
   "execution_count": null,
   "metadata": {},
   "outputs": [],
   "source": []
  },
  {
   "cell_type": "code",
   "execution_count": 53,
   "metadata": {},
   "outputs": [],
   "source": [
    "data = 6.946050e+06 + 5.048535e+07 * np.random.randn(50)"
   ]
  },
  {
   "cell_type": "code",
   "execution_count": 54,
   "metadata": {},
   "outputs": [
    {
     "ename": "NameError",
     "evalue": "name 'dist' is not defined",
     "output_type": "error",
     "traceback": [
      "\u001b[0;31m---------------------------------------------------------------------------\u001b[0m",
      "\u001b[0;31mNameError\u001b[0m                                 Traceback (most recent call last)",
      "\u001b[0;32m<ipython-input-54-7be9228d5ae6>\u001b[0m in \u001b[0;36m<module>\u001b[0;34m\u001b[0m\n\u001b[0;32m----> 1\u001b[0;31m \u001b[0mplt\u001b[0m\u001b[0;34m.\u001b[0m\u001b[0mhist\u001b[0m\u001b[0;34m(\u001b[0m\u001b[0mdist\u001b[0m\u001b[0;34m,\u001b[0m\u001b[0mbins\u001b[0m\u001b[0;34m=\u001b[0m\u001b[0;36m100\u001b[0m\u001b[0;34m)\u001b[0m\u001b[0;34m\u001b[0m\u001b[0;34m\u001b[0m\u001b[0m\n\u001b[0m",
      "\u001b[0;31mNameError\u001b[0m: name 'dist' is not defined"
     ]
    }
   ],
   "source": [
    "plt.hist(dist,bins=100)"
   ]
  },
  {
   "cell_type": "code",
   "execution_count": 58,
   "metadata": {},
   "outputs": [
    {
     "data": {
      "text/plain": [
       "[1725893.027972511,\n",
       " 32683922.35709536,\n",
       " 71804564.04047327,\n",
       " 95823259.48475958,\n",
       " 17419209.25150215,\n",
       " 14596476.128076278,\n",
       " 74595097.17410043,\n",
       " 6589128.333692486,\n",
       " 37271495.37872301,\n",
       " 16348373.77331095,\n",
       " 42268736.98272353,\n",
       " 31457927.54245737,\n",
       " 55627157.97501509,\n",
       " 99154665.01712883,\n",
       " 27181364.742487315,\n",
       " 50287895.67255254,\n",
       " 61332269.27668028,\n",
       " 8164652.53708189,\n",
       " 49642210.44787966,\n",
       " 43442004.49919644,\n",
       " 8824957.110564122,\n",
       " 7733725.063516103,\n",
       " 82941996.75752656,\n",
       " 51702115.96980203,\n",
       " 36172918.99702433,\n",
       " 13199462.997240385,\n",
       " 10248821.024836248,\n",
       " 67158570.21334922,\n",
       " 53565965.0723792,\n",
       " 87530357.06435423,\n",
       " 108851941.64019571,\n",
       " 27930801.85195141,\n",
       " 94448315.88733113,\n",
       " 42052137.36585668,\n",
       " 67927920.15529951,\n",
       " 37874813.22224657,\n",
       " 20157959.59237016,\n",
       " 61890986.3457647,\n",
       " 20419513.01409577,\n",
       " 30369071.515749127,\n",
       " 129198685.79842338,\n",
       " 59871541.41391428,\n",
       " 56713413.22687755,\n",
       " 13264065.187966222,\n",
       " 11206057.564686293,\n",
       " 20160842.050025955,\n",
       " 41282441.72160876,\n",
       " 17935264.928051487,\n",
       " 13382899.863491207,\n",
       " 73332894.29264316,\n",
       " 4754986.657040931]"
      ]
     },
     "execution_count": 58,
     "metadata": {},
     "output_type": "execute_result"
    }
   ],
   "source": [
    "dist=[]\n",
    "while len(dist)<=50:\n",
    "    val = 6.946050e+06 + 5.048535e+07 * np.random.randn()\n",
    "    if val > 3.700000e+01:\n",
    "        dist.append(val)\n",
    "        \n",
    "dist"
   ]
  },
  {
   "cell_type": "code",
   "execution_count": 56,
   "metadata": {},
   "outputs": [
    {
     "data": {
      "text/plain": [
       "-0.4717477342569828"
      ]
     },
     "execution_count": 56,
     "metadata": {},
     "output_type": "execute_result"
    }
   ],
   "source": [
    "plt"
   ]
  },
  {
   "cell_type": "code",
   "execution_count": 62,
   "metadata": {},
   "outputs": [
    {
     "data": {
      "text/plain": [
       "2319254000.0"
      ]
     },
     "execution_count": 62,
     "metadata": {},
     "output_type": "execute_result"
    }
   ],
   "source": [
    "2.319254e+09"
   ]
  },
  {
   "cell_type": "code",
   "execution_count": 192,
   "metadata": {},
   "outputs": [
    {
     "data": {
      "text/plain": [
       "(array([ 9.,  9.,  6.,  8.,  9.,  6.,  6.,  6., 10.,  6.,  6.,  6.,  6.,\n",
       "         7.]),\n",
       " array([1.34819295e+02, 9.90343985e+03, 1.96720604e+04, 2.94406810e+04,\n",
       "        3.92093015e+04, 4.89779221e+04, 5.87465426e+04, 6.85151632e+04,\n",
       "        7.82837838e+04, 8.80524043e+04, 9.78210249e+04, 1.07589645e+05,\n",
       "        1.17358266e+05, 1.27126887e+05, 1.36895507e+05]),\n",
       " <a list of 14 Patch objects>)"
      ]
     },
     "execution_count": 192,
     "metadata": {},
     "output_type": "execute_result"
    },
    {
     "data": {
      "image/png": "[encoded data removed]",
      "text/plain": [
       "<Figure size 432x288 with 1 Axes>"
      ]
     },
     "metadata": {
      "needs_background": "light"
     },
     "output_type": "display_data"
    }
   ],
   "source": [
    "lista = [np.random.uniform(1,138096,100)]\n",
    "plt.hist(lista,bins=14)"
   ]
  },
  {
   "cell_type": "code",
   "execution_count": 195,
   "metadata": {},
   "outputs": [
    {
     "data": {
      "text/plain": [
       "[array([1.06088626e+05, 8.43399080e+04, 1.40705835e+03, 6.89960883e+04,\n",
       "        2.26477022e+04, 1.27371058e+04, 9.73715472e+04, 2.45085414e+04,\n",
       "        3.66145666e+04, 6.89408080e+04, 1.06895224e+05, 3.61703188e+04,\n",
       "        2.73612798e+04, 6.86994955e+04, 3.73792741e+03, 4.35286253e+04,\n",
       "        1.21540505e+05, 4.15396153e+03, 9.66828434e+04, 6.38874996e+04,\n",
       "        4.04381218e+04, 5.64556670e+04, 6.12431705e+04, 8.38270783e+04,\n",
       "        1.30750385e+05, 7.32926221e+04, 1.15037766e+05, 8.80697802e+03,\n",
       "        6.80056646e+04, 4.73589639e+04, 1.07476211e+05, 7.88160711e+04,\n",
       "        1.35914100e+04, 1.27595533e+05, 4.05460482e+04, 8.45121155e+04,\n",
       "        1.18323920e+05, 1.92473832e+04, 1.12114001e+05, 6.29906642e+04,\n",
       "        9.97304949e+04, 3.26310537e+04, 4.89248564e+04, 5.41718611e+04,\n",
       "        4.56207726e+04, 3.89122008e+04, 1.76959300e+04, 1.01790365e+04,\n",
       "        9.02780445e+04, 3.01742754e+04, 1.30457156e+05, 8.62166490e+04,\n",
       "        9.23136023e+03, 9.97343063e+04, 8.74360968e+04, 1.13324008e+05,\n",
       "        3.92470431e+04, 1.52567535e+04, 9.77631936e+04, 5.57247643e+04,\n",
       "        1.31518194e+05, 1.44684474e+04, 1.34819295e+02, 1.22298405e+05,\n",
       "        6.44339944e+04, 4.23371877e+04, 8.99074288e+04, 1.32475249e+04,\n",
       "        8.20992832e+04, 1.99026017e+04, 1.11303286e+05, 6.84905777e+04,\n",
       "        1.26825571e+05, 3.02156732e+03, 3.41556173e+04, 3.95709807e+04,\n",
       "        1.34334899e+05, 1.20123187e+05, 1.47759511e+04, 6.99396219e+04,\n",
       "        2.85814759e+04, 1.36895507e+05, 2.94322249e+04, 1.19757264e+05,\n",
       "        8.04777907e+02, 3.74055457e+04, 3.19526831e+04, 8.59186109e+04,\n",
       "        1.08311850e+05, 9.93019220e+04, 1.07967881e+05, 1.33593418e+05,\n",
       "        7.80417285e+04, 8.02751798e+04, 9.53344258e+04, 5.21855442e+04,\n",
       "        8.19512232e+04, 5.08155762e+04, 5.79381100e+04, 1.84565946e+03])]"
      ]
     },
     "execution_count": 195,
     "metadata": {},
     "output_type": "execute_result"
    }
   ],
   "source": [
    "lista"
   ]
  },
  {
   "cell_type": "code",
   "execution_count": 114,
   "metadata": {},
   "outputs": [
    {
     "data": {
      "text/plain": [
       "(array([10.,  3., 10., 11.,  6.,  6.,  3.,  8.,  8.,  9.,  1.,  8.,  8.,\n",
       "         5.,  4.]),\n",
       " array([   239.18266685,   9159.41102167,  18079.63937648,  26999.8677313 ,\n",
       "         35920.09608611,  44840.32444093,  53760.55279575,  62680.78115056,\n",
       "         71601.00950538,  80521.23786019,  89441.46621501,  98361.69456983,\n",
       "        107281.92292464, 116202.15127946, 125122.37963427, 134042.60798909]),\n",
       " <a list of 15 Patch objects>)"
      ]
     },
     "execution_count": 114,
     "metadata": {},
     "output_type": "execute_result"
    },
    {
     "data": {
      "image/png": "[encoded data removed]",
      "text/plain": [
       "<Figure size 432x288 with 1 Axes>"
      ]
     },
     "metadata": {
      "needs_background": "light"
     },
     "output_type": "display_data"
    }
   ],
   "source": [
    "plt.hist([102744.30469314, 100312.57631066, 125113.28024425,  73894.2533375 ,\n",
    "         45562.52702611,    973.49365695,   5502.52418982,  67080.04522988,\n",
    "         69848.25404286,  46291.43571892, 123149.23124944,  42583.59768294,\n",
    "        129789.07644775,   2860.71255221,  84770.64081546,  86881.68632707,\n",
    "         31784.8783662 , 110553.83501338,  30970.09481119,   7612.61402561,\n",
    "         22060.34385192,  30021.36544337,  60588.06300225,  21237.44595979,\n",
    "         14093.59997579,  32072.92085513,  86970.94338992,  75320.47321194,\n",
    "         45340.65273702,  23087.8976713 , 103470.71451284,  87123.93140034,\n",
    "          3820.82381614,  80683.61047715,  79973.98152575,  51665.7343959 ,\n",
    "         80799.17560129,  39420.13724614,  71852.31753661, 116203.91943455,\n",
    "         25994.23571732, 121965.94412482,  48862.34817916,  35329.21836909,\n",
    "         66633.14298915,  28328.2998531 ,  29163.00213284,  41308.87046525,\n",
    "          5994.55886758,  69982.89904477, 130153.78667602,  32752.71663659,\n",
    "        108459.27339333,    257.65337565,  21193.70885487, 101104.77929798,\n",
    "        107516.83419902,  23378.46091475,  56796.61422501,  67676.69440828,\n",
    "          7253.40466553,  22930.1019579 , 105898.28876741, 100504.93556664,\n",
    "         80569.05962959,  70435.82753222,  30745.90778085,  73969.30718208,\n",
    "        114624.97629318,  81910.55515088,  45734.98827638,  31178.09926327,\n",
    "          9059.96666206,    239.18266685, 115096.21698825,  20703.39761191,\n",
    "         80161.68687079,  65010.09516494, 100020.60990867, 111931.69704411,\n",
    "         17126.67127355,  79447.2820353 ,  40833.77121154,  82555.55537946,\n",
    "         67056.65573987, 101826.39224909,  61167.97917285, 130286.01327032,\n",
    "        111990.32025769,  11709.6072011 ,  41854.83087419,  32102.18708301,\n",
    "         23556.27041488,  43071.84894525,  25765.43173974,  72249.17434224,\n",
    "        134042.60798909, 115106.56094353,  95622.23072146, 119360.48201703],bins=15)"
   ]
  },
  {
   "cell_type": "code",
   "execution_count": 113,
   "metadata": {},
   "outputs": [
    {
     "data": {
      "text/plain": [
       "(array([ 7.,  7.,  4.,  5.,  8.,  6.,  5.,  7.,  7., 12.,  5.,  8.,  7.,\n",
       "         7.,  5.]),\n",
       " array([   458.87330184,   9499.61591326,  18540.35852469,  27581.10113611,\n",
       "         36621.84374753,  45662.58635895,  54703.32897038,  63744.0715818 ,\n",
       "         72784.81419322,  81825.55680464,  90866.29941607,  99907.04202749,\n",
       "        108947.78463891, 117988.52725033, 127029.26986176, 136070.01247318]),\n",
       " <a list of 15 Patch objects>)"
      ]
     },
     "execution_count": 113,
     "metadata": {},
     "output_type": "execute_result"
    },
    {
     "data": {
      "image/png": "[encoded data removed]",
      "text/plain": [
       "<Figure size 432x288 with 1 Axes>"
      ]
     },
     "metadata": {
      "needs_background": "light"
     },
     "output_type": "display_data"
    }
   ],
   "source": [
    "plt.hist([  3734.98389661,   5583.57953539,  80746.25494126, 113723.42563928,\n",
    "         38681.24777634, 123726.86260976,  97330.4239143 ,  39556.3294231 ,\n",
    "        130359.9980751 ,  83330.01935296,  71852.28392475,  82287.49653176,\n",
    "         74217.68518885,  36349.04516048,  40611.35375282,  82205.94795548,\n",
    "        125023.61986886,   3575.21985623,  47141.26634757,  26073.38944567,\n",
    "         19311.22681182,  75890.10948947,  90358.22474615,  10438.9029991 ,\n",
    "        136070.01247318,  64573.18083953,   8513.97174866, 123298.21059714,\n",
    "        129574.6797784 ,  84642.24714734,  47396.51120927,  44151.06807299,\n",
    "        121838.04929111,  65791.66468871,  58712.27105296, 133888.3138684 ,\n",
    "         46722.34311988,   9383.64764713,  65866.25488748, 115236.44840087,\n",
    "         14553.51354888,  76805.72318417,  72269.80202786,  52087.65628185,\n",
    "         62645.03519008,  93765.79853876,  46641.62539977,  28717.32569597,\n",
    "        104867.08905762,  96248.96667569,  96823.49289229, 114883.22234797,\n",
    "        100886.91827285,  78070.79551535, 112821.20217013,  62341.26392187,\n",
    "        103676.39482321, 110449.44924908,  41462.17130572, 106269.35934627,\n",
    "         43826.43986981,  17199.15132137, 120561.03667458,  39593.03227725,\n",
    "         91039.02103249,  57418.13238146, 109390.01836984,  10684.10363318,\n",
    "         76166.94198398,  67941.02516355, 108714.3413448 ,  85288.60386343,\n",
    "         61570.37249633,  44247.70094012,  30882.91503995,  63877.63517118,\n",
    "         19691.45781346,  85617.06801396, 132429.09715128,   2542.15921375,\n",
    "         17398.39141076,  87719.73011225, 107396.96033374,  11412.21103566,\n",
    "        114506.92991366, 123937.75417935,  82935.63906751,  74136.56989365,\n",
    "         86030.79431672, 105251.59402193,  11522.92030877,  31434.35389594,\n",
    "         90145.45480008, 108319.73073095,    458.87330184,  35186.7192532 ,\n",
    "        126137.67393337,  90374.43067482,  27417.4639656 ,  48628.70291447],bins=15)"
   ]
  },
  {
   "cell_type": "code",
   "execution_count": 117,
   "metadata": {},
   "outputs": [
    {
     "data": {
      "text/plain": [
       "(array([ 9.,  5.,  5.,  4.,  8.,  2.,  6.,  6.,  8.,  6.,  5.,  7.,  7.,\n",
       "        13.,  9.]),\n",
       " array([   426.52269977,   9455.13056554,  18483.73843132,  27512.34629709,\n",
       "         36540.95416287,  45569.56202864,  54598.16989442,  63626.77776019,\n",
       "         72655.38562597,  81683.99349174,  90712.60135752,  99741.20922329,\n",
       "        108769.81708907, 117798.42495484, 126827.03282062, 135855.64068639]),\n",
       " <a list of 15 Patch objects>)"
      ]
     },
     "execution_count": 117,
     "metadata": {},
     "output_type": "execute_result"
    },
    {
     "data": {
      "image/png": "[encoded data removed]",
      "text/plain": [
       "<Figure size 432x288 with 1 Axes>"
      ]
     },
     "metadata": {
      "needs_background": "light"
     },
     "output_type": "display_data"
    }
   ],
   "source": [
    "plt.hist([125147.46429303,  54896.15187264, 118548.51381796,  89712.36049517,\n",
    "         90830.78092743,   4220.61501024,  68292.1275704 ,   5096.91434981,\n",
    "         85457.45680417, 123147.58806016,  14632.42998024, 111002.55554895,\n",
    "         38529.90344773,   6741.70839611,  97167.1654341 ,   1765.10368135,\n",
    "         59896.17593944, 135758.68384379,  31565.62307789,  68628.24484691,\n",
    "        129261.40649298, 135855.64068639,    426.52269977, 110396.77095739,\n",
    "         86030.33776024,  84926.15397612,  49638.57347862, 118407.71379963,\n",
    "         42828.75052254, 120107.42930682,  79682.92390419, 120727.03134328,\n",
    "         65239.70972301,  70665.18007404, 123969.82321789,  25257.64410242,\n",
    "         29224.57654234, 125350.41520759,  43784.24777108, 132486.59177888,\n",
    "         83026.23307143, 114272.67909273,  70575.92237517,  80928.12967572,\n",
    "         37558.18629695,  25123.96786   , 105216.03055729,   2586.95279856,\n",
    "         21291.4798151 ,  43723.879059  ,  79361.56528888, 100362.72697364,\n",
    "        104094.30608915,  30201.7634987 ,   3179.49187176, 130661.04609976,\n",
    "         62936.61417476, 107628.60816839,  58093.79938992,  16465.80604834,\n",
    "        104657.34063338, 129320.97151075,  95810.76400917, 123766.40188296,\n",
    "         73310.85389073, 120228.61646474,  85071.08260676, 133666.61367904,\n",
    "        116316.71343789,  71678.73620804,  92720.41703117,  22173.71321777,\n",
    "         20314.9781711 ,  44140.34109896,  34023.29120616,  14609.63383943,\n",
    "        117426.61098567,  44823.12729976,  98593.65249086, 135437.36395252,\n",
    "        118639.67546466,  80688.35578251,  15149.04459728,  11801.47448165,\n",
    "         53848.2216644 ,   4299.2393739 , 119893.51368428, 114147.1794444 ,\n",
    "         36697.84955538,   7380.99443119,  57315.1537868 , 101628.46811629,\n",
    "         75977.70920309,  81366.76952823,  61219.95247374,  80625.5183626 ,\n",
    "        130184.44134272, 110180.50419195, 119649.35680987, 106555.16996751],bins=15)"
   ]
  },
  {
   "cell_type": "code",
   "execution_count": 124,
   "metadata": {},
   "outputs": [
    {
     "data": {
      "text/plain": [
       "(array([ 5., 14.,  4.,  8.,  5.,  9.,  4.,  8.,  6.,  4.,  7.,  6.,  7.,\n",
       "         6.,  7.]),\n",
       " array([  1680.45697341,  10650.57193995,  19620.68690649,  28590.80187303,\n",
       "         37560.91683957,  46531.03180611,  55501.14677265,  64471.26173919,\n",
       "         73441.37670572,  82411.49167226,  91381.6066388 , 100351.72160534,\n",
       "        109321.83657188, 118291.95153842, 127262.06650496, 136232.1814715 ]),\n",
       " <a list of 15 Patch objects>)"
      ]
     },
     "execution_count": 124,
     "metadata": {},
     "output_type": "execute_result"
    },
    {
     "data": {
      "image/png": "[encoded data removed]",
      "text/plain": [
       "<Figure size 432x288 with 1 Axes>"
      ]
     },
     "metadata": {
      "needs_background": "light"
     },
     "output_type": "display_data"
    }
   ],
   "source": [
    "plt.hist([ 19145.29543411,  48976.18878741,  12977.06078376, 122277.90199589,\n",
    "        124527.99608526,  65312.61308302,  13839.40186841,  47953.60632883,\n",
    "         24749.31278395,  51765.21965365,  11057.77647966, 119165.52371656,\n",
    "        118289.57034875, 111490.80442227,  53358.50411959,  73404.83701026,\n",
    "        134764.01350376, 117557.43474853, 102265.58780418,  43489.17466902,\n",
    "         35998.45367419,  50495.26583965,  68505.65956623,  69250.60230736,\n",
    "         46930.09845432, 103129.66936312,  37408.88736487, 131002.58157704,\n",
    "        136232.1814715 ,  97350.02281895,   9816.2804187 ,  22072.00356263,\n",
    "         69715.03443625,  17834.27529702,  24068.01166076,   9681.08959931,\n",
    "         15561.62756489,  63696.42507711,  79787.42733048, 136172.93101778,\n",
    "        126543.53062591,  97932.29678633,   7984.38340452, 111559.42708717,\n",
    "         75135.62914773,  85531.2120346 ,  26663.78312266,  10370.87286909,\n",
    "        122546.81723193,  91995.92754256,  82854.38392293,  78911.10072534,\n",
    "         17338.96126732, 104520.93280075,  76373.43985432,  15605.44905568,\n",
    "         61731.94451879,  33487.64732083, 115982.2295646 ,  38061.30966285,\n",
    "         91903.17033462,  32871.8997773 ,  87452.29270583,  85001.5305967 ,\n",
    "         35498.85967746,  73647.28757603,  60443.05857359,  61332.49808868,\n",
    "        129510.00907745,  36807.35660001,  92492.23514459, 122122.3333775 ,\n",
    "         69345.03083508, 100855.30717253,  38185.97367153,  49168.16410804,\n",
    "         35957.45138238,  48580.67083484,  14305.53420931,  39323.85711335,\n",
    "        107983.34674111,  18187.85443623, 131305.59280208,  93963.1075993 ,\n",
    "         10804.48383731,  79709.70194951,   1680.45697341,  67384.22922057,\n",
    "         16626.07900642,  12981.22759532,  33172.14975205,  99246.87500661,\n",
    "        114022.75421419,  44058.32649607, 104586.99314367,  47738.23314183,\n",
    "        131405.26400028,  12579.37895452,  65029.66066629, 111993.05685748],bins=15)"
   ]
  },
  {
   "cell_type": "code",
   "execution_count": 139,
   "metadata": {},
   "outputs": [
    {
     "data": {
      "text/plain": [
       "[67502.72494904,\n",
       " 101609.02098768,\n",
       " 10499.76886234,\n",
       " 73241.61148355,\n",
       " 51137.21162583,\n",
       " 96553.15436183,\n",
       " 42738.24518159,\n",
       " 110490.0876585,\n",
       " 88842.25557975,\n",
       " 9584.37786381,\n",
       " 75102.77065406,\n",
       " 104028.37144816,\n",
       " 107375.74245166,\n",
       " 80810.49341119,\n",
       " 126353.10074776,\n",
       " 71322.36999162,\n",
       " 80123.16650466,\n",
       " 119155.39866931,\n",
       " 129686.50988113,\n",
       " 106485.28661712,\n",
       " 21094.65793424,\n",
       " 29583.89625046,\n",
       " 97862.1645701,\n",
       " 107798.29803741,\n",
       " 76771.27175828,\n",
       " 93621.53808299,\n",
       " 25130.5021018,\n",
       " 83004.36775829,\n",
       " 69890.28824872,\n",
       " 94989.20061555,\n",
       " 49226.11860452,\n",
       " 128280.19693205,\n",
       " 15832.7166023,\n",
       " 74779.65027603,\n",
       " 134390.28604596,\n",
       " 91141.4307385,\n",
       " 2369.47277245,\n",
       " 28767.06360558,\n",
       " 127876.8629246,\n",
       " 1171.48576122,\n",
       " 125190.168269,\n",
       " 130202.63778605,\n",
       " 115511.70012231,\n",
       " 49975.77376239,\n",
       " 2651.79049775,\n",
       " 80785.37656243,\n",
       " 128454.79110577,\n",
       " 6698.96192878,\n",
       " 44232.99154662,\n",
       " 87006.74548902,\n",
       " 2826.5389171,\n",
       " 78334.08037291,\n",
       " 112717.89991636,\n",
       " 98392.96435375,\n",
       " 112282.49592572,\n",
       " 54993.91303857,\n",
       " 137248.88580321,\n",
       " 23640.16847853,\n",
       " 124587.38928142,\n",
       " 12703.74026484,\n",
       " 131318.43117258,\n",
       " 132040.63450132,\n",
       " 26940.20547724,\n",
       " 41968.41154451,\n",
       " 91507.228002,\n",
       " 115374.41215395,\n",
       " 56780.82620705,\n",
       " 76623.60442399,\n",
       " 40504.16915205,\n",
       " 122326.04473391,\n",
       " 136746.67515724,\n",
       " 120317.98418146,\n",
       " 78431.99884458,\n",
       " 52274.78067569,\n",
       " 45178.1840304,\n",
       " 92923.58118001,\n",
       " 17950.79524972,\n",
       " 135446.83598183,\n",
       " 57457.7649104,\n",
       " 33976.65462347,\n",
       " 49424.8916448,\n",
       " 60339.1241146,\n",
       " 57023.78641592,\n",
       " 125016.74728061,\n",
       " 84965.21993477,\n",
       " 104451.45737127,\n",
       " 129554.42705015,\n",
       " 115091.65364828,\n",
       " 66590.97710432,\n",
       " 103829.22970493,\n",
       " 32142.83539884,\n",
       " 93367.29815075,\n",
       " 36693.28665958,\n",
       " 45149.59137348,\n",
       " 105155.71677137,\n",
       " 56152.29755699,\n",
       " 102810.87177711,\n",
       " 18452.55568371,\n",
       " 96742.43688903,\n",
       " 8639.0040574]"
      ]
     },
     "execution_count": 139,
     "metadata": {},
     "output_type": "execute_result"
    }
   ],
   "source": [
    "[ 67502.72494904, 101609.02098768,  10499.76886234,  73241.61148355,\n",
    "         51137.21162583,  96553.15436183,  42738.24518159, 110490.0876585 ,\n",
    "         88842.25557975,   9584.37786381,  75102.77065406, 104028.37144816,\n",
    "        107375.74245166,  80810.49341119, 126353.10074776,  71322.36999162,\n",
    "         80123.16650466, 119155.39866931, 129686.50988113, 106485.28661712,\n",
    "         21094.65793424,  29583.89625046,  97862.1645701 , 107798.29803741,\n",
    "         76771.27175828,  93621.53808299,  25130.5021018 ,  83004.36775829,\n",
    "         69890.28824872,  94989.20061555,  49226.11860452, 128280.19693205,\n",
    "         15832.7166023 ,  74779.65027603, 134390.28604596,  91141.4307385 ,\n",
    "          2369.47277245,  28767.06360558, 127876.8629246 ,   1171.48576122,\n",
    "        125190.168269  , 130202.63778605, 115511.70012231,  49975.77376239,\n",
    "          2651.79049775,  80785.37656243, 128454.79110577,   6698.96192878,\n",
    "         44232.99154662,  87006.74548902,   2826.5389171 ,  78334.08037291,\n",
    "        112717.89991636,  98392.96435375, 112282.49592572,  54993.91303857,\n",
    "        137248.88580321,  23640.16847853, 124587.38928142,  12703.74026484,\n",
    "        131318.43117258, 132040.63450132,  26940.20547724,  41968.41154451,\n",
    "         91507.228002  , 115374.41215395,  56780.82620705,  76623.60442399,\n",
    "         40504.16915205, 122326.04473391, 136746.67515724, 120317.98418146,\n",
    "         78431.99884458,  52274.78067569,  45178.1840304 ,  92923.58118001,\n",
    "         17950.79524972, 135446.83598183,  57457.7649104 ,  33976.65462347,\n",
    "         49424.8916448 ,  60339.1241146 ,  57023.78641592, 125016.74728061,\n",
    "         84965.21993477, 104451.45737127, 129554.42705015, 115091.65364828,\n",
    "         66590.97710432, 103829.22970493,  32142.83539884,  93367.29815075,\n",
    "         36693.28665958,  45149.59137348, 105155.71677137,  56152.29755699,\n",
    "        102810.87177711,  18452.55568371,  96742.43688903,   8639.0040574 ]"
   ]
  },
  {
   "cell_type": "code",
   "execution_count": null,
   "metadata": {},
   "outputs": [],
   "source": [
    "[10523.14118069,  70868.28724107,  35701.38622244,  54048.77271379,\n",
    "         89271.39629179,  41690.64863914, 118970.19260195,  22183.47212793,\n",
    "        127215.88148974,  73089.79035406, 114517.89904831,   8883.73618115,\n",
    "          8240.8738402 ,   7734.07924175,  25343.45303483,  94904.30290246,\n",
    "         52229.49296147, 133249.27306977,  85696.34426278, 109196.31160136,\n",
    "        105660.65993287, 134801.71332028, 119687.24362012, 110056.77373833,\n",
    "         90497.80430926,   7252.66275834,  14746.33028826,   9910.04474159,\n",
    "          9808.62899672, 101862.08484306,  32729.17741823,  21189.68347344,\n",
    "         98044.83795951, 116013.44694263,  58694.80116476,  80342.13764735,\n",
    "         58836.13294395,  28991.58582248,  54549.51323545,  47440.85384439,\n",
    "        137026.17990055,  90596.09956134, 125840.96911247, 101651.98384253,\n",
    "        114759.19304969,  62607.59199604,  48990.92946967,  34060.19003509,\n",
    "        102584.24720634,  87726.73884717, 111008.46349934,  75020.03593133,\n",
    "         56515.53758941,  33930.36452111,  36165.20418256,  47829.03372843,\n",
    "          4964.08650054,   2582.83033052,   9120.72937533,  95315.98026892,\n",
    "        125987.97554963,    274.99519602,  25072.88876065, 123188.5321611 ,\n",
    "         66882.48191204,  12455.2655923 ,  70432.85313717, 100262.96057046,\n",
    "         43854.50410853,  37455.67650428,  22206.87332016, 100136.6358971 ,\n",
    "         78808.44060258,  78866.77917481,  44894.74639505,  98001.97728673,\n",
    "        112237.57801134,  88530.55018909,  11662.55264893,  35447.04276692,\n",
    "         37136.11825257,   4200.05458658,  78608.57882115, 124788.78571436,\n",
    "         43348.23240735, 121239.56934325, 111723.42158186,   1816.21700398,\n",
    "        128530.99439866,  18694.60760717, 116845.31705408, 104558.91498982,\n",
    "         19279.67381368, 108802.18612305,  83758.056863  ,  12159.8624077 ,\n",
    "        130050.25059046, 126810.75166734,  66589.59397008,  76958.9692568 "
   ]
  },
  {
   "cell_type": "code",
   "execution_count": null,
   "metadata": {},
   "outputs": [],
   "source": [
    " [41998.56699266, 105622.93238574,  83048.41807033,   4408.6168574 ,\n",
    "         16665.67336642, 117863.43910135,  24606.51120114,  95733.70093141,\n",
    "         27332.68624674, 124808.28806229, 138009.83913152,   1173.18888397,\n",
    "         33338.11932515, 106855.434459  ,  76537.43371356,  73585.6823075 ,\n",
    "         70848.2077866 ,  24586.14532273,  27553.65034553,  92974.15587025,\n",
    "        136343.52633195,  79183.62646871,  12318.21835407,  79572.03645627,\n",
    "         58517.91079386,  95183.16824304, 136290.18382564,  11413.82023324,\n",
    "         84576.12607741,  29072.45016642,  97642.43952718,  20544.5912129 ,\n",
    "        133685.83819222,  72968.80924911, 128557.57727366,  19370.78043638,\n",
    "         18126.65610407,  86464.94725238,  76420.6639329 ,  13561.81355004,\n",
    "         30589.91933372,  18088.65581939, 104930.1900396 ,  89907.05497966,\n",
    "         89838.49852326, 107109.14825607, 127367.19440776,  87645.82725559,\n",
    "        125142.52123312, 127592.44160318,  49980.53167504,  82794.34297451,\n",
    "         37767.86507677, 106606.58404646,  19938.95721357,  61365.17497275,\n",
    "         48639.91609402,  22413.03575057,  85005.8153361 , 113495.27054588,\n",
    "         72092.40678147,  17755.30616985,  10145.00533375,  49657.79953154,\n",
    "         31941.7138219 , 109688.70862467, 133565.72461304,  15956.81804971,\n",
    "        110629.80964328,  20077.38229328,  14275.4319195 ,  61018.03529279,\n",
    "         72467.77161157,  68864.6912637 , 132648.00458115, 124586.08843208,\n",
    "        111790.13919348,  85148.48809517,   2646.25258769,  42035.50220592,\n",
    "          8720.89752386,  68736.53244222, 100499.84552328, 118381.44349612,\n",
    "         48074.25844269,   8557.4395603 ,  57174.94215492, 101715.76597863,\n",
    "          7901.94210734, 127050.73351982,  22849.69380898,  53817.13123578,\n",
    "        119374.31943714, 114064.75321517,  56906.09511324,  92046.99243563,\n",
    "         39397.01090458, 106695.93436263, 126503.72558441,  36387.05638492"
   ]
  },
  {
   "cell_type": "code",
   "execution_count": 196,
   "metadata": {},
   "outputs": [
    {
     "data": {
      "text/plain": [
       "[106088.626,\n",
       " 84339.908,\n",
       " 1407.05835,\n",
       " 68996.0883,\n",
       " 22647.7022,\n",
       " 12737.1058,\n",
       " 97371.5472,\n",
       " 24508.5414,\n",
       " 36614.5666,\n",
       " 68940.808,\n",
       " 106895.224,\n",
       " 36170.3188,\n",
       " 27361.2798,\n",
       " 68699.4955,\n",
       " 3737.92741,\n",
       " 43528.6253,\n",
       " 121540.505,\n",
       " 4153.96153,\n",
       " 96682.8434,\n",
       " 63887.4996,\n",
       " 40438.1218,\n",
       " 56455.667,\n",
       " 61243.1705,\n",
       " 83827.0783,\n",
       " 130750.385,\n",
       " 73292.6221,\n",
       " 115037.766,\n",
       " 8806.97802,\n",
       " 68005.6646,\n",
       " 47358.9639,\n",
       " 107476.211,\n",
       " 78816.0711,\n",
       " 13591.41,\n",
       " 127595.533,\n",
       " 40546.0482,\n",
       " 84512.1155,\n",
       " 118323.92,\n",
       " 19247.3832,\n",
       " 112114.001,\n",
       " 62990.6642,\n",
       " 99730.4949,\n",
       " 32631.0537,\n",
       " 48924.8564,\n",
       " 54171.8611,\n",
       " 45620.7726,\n",
       " 38912.2008,\n",
       " 17695.93,\n",
       " 10179.0365,\n",
       " 90278.0445,\n",
       " 30174.2754,\n",
       " 130457.156,\n",
       " 86216.649,\n",
       " 9231.36023,\n",
       " 99734.3063,\n",
       " 87436.0968,\n",
       " 113324.008,\n",
       " 39247.0431,\n",
       " 15256.7535,\n",
       " 97763.1936,\n",
       " 55724.7643,\n",
       " 131518.194,\n",
       " 14468.4474,\n",
       " 134.819295,\n",
       " 122298.405,\n",
       " 64433.9944,\n",
       " 42337.1877,\n",
       " 89907.4288,\n",
       " 13247.5249,\n",
       " 82099.2832,\n",
       " 19902.6017,\n",
       " 111303.286,\n",
       " 68490.5777,\n",
       " 126825.571,\n",
       " 3021.56732,\n",
       " 34155.6173,\n",
       " 39570.9807,\n",
       " 134334.899,\n",
       " 120123.187,\n",
       " 14775.9511,\n",
       " 69939.6219,\n",
       " 28581.4759,\n",
       " 136895.507,\n",
       " 29432.2249,\n",
       " 119757.264,\n",
       " 804.777907,\n",
       " 37405.5457,\n",
       " 31952.6831,\n",
       " 85918.6109,\n",
       " 108311.85,\n",
       " 99301.922,\n",
       " 107967.881,\n",
       " 133593.418,\n",
       " 78041.7285,\n",
       " 80275.1798,\n",
       " 95334.4258,\n",
       " 52185.5442,\n",
       " 81951.2232,\n",
       " 50815.5762,\n",
       " 57938.11,\n",
       " 1845.65946]"
      ]
     },
     "execution_count": 196,
     "metadata": {},
     "output_type": "execute_result"
    }
   ],
   "source": [
    "[1.06088626e+05, 8.43399080e+04, 1.40705835e+03, 6.89960883e+04,\n",
    "        2.26477022e+04, 1.27371058e+04, 9.73715472e+04, 2.45085414e+04,\n",
    "        3.66145666e+04, 6.89408080e+04, 1.06895224e+05, 3.61703188e+04,\n",
    "        2.73612798e+04, 6.86994955e+04, 3.73792741e+03, 4.35286253e+04,\n",
    "        1.21540505e+05, 4.15396153e+03, 9.66828434e+04, 6.38874996e+04,\n",
    "        4.04381218e+04, 5.64556670e+04, 6.12431705e+04, 8.38270783e+04,\n",
    "        1.30750385e+05, 7.32926221e+04, 1.15037766e+05, 8.80697802e+03,\n",
    "        6.80056646e+04, 4.73589639e+04, 1.07476211e+05, 7.88160711e+04,\n",
    "        1.35914100e+04, 1.27595533e+05, 4.05460482e+04, 8.45121155e+04,\n",
    "        1.18323920e+05, 1.92473832e+04, 1.12114001e+05, 6.29906642e+04,\n",
    "        9.97304949e+04, 3.26310537e+04, 4.89248564e+04, 5.41718611e+04,\n",
    "        4.56207726e+04, 3.89122008e+04, 1.76959300e+04, 1.01790365e+04,\n",
    "        9.02780445e+04, 3.01742754e+04, 1.30457156e+05, 8.62166490e+04,\n",
    "        9.23136023e+03, 9.97343063e+04, 8.74360968e+04, 1.13324008e+05,\n",
    "        3.92470431e+04, 1.52567535e+04, 9.77631936e+04, 5.57247643e+04,\n",
    "        1.31518194e+05, 1.44684474e+04, 1.34819295e+02, 1.22298405e+05,\n",
    "        6.44339944e+04, 4.23371877e+04, 8.99074288e+04, 1.32475249e+04,\n",
    "        8.20992832e+04, 1.99026017e+04, 1.11303286e+05, 6.84905777e+04,\n",
    "        1.26825571e+05, 3.02156732e+03, 3.41556173e+04, 3.95709807e+04,\n",
    "        1.34334899e+05, 1.20123187e+05, 1.47759511e+04, 6.99396219e+04,\n",
    "        2.85814759e+04, 1.36895507e+05, 2.94322249e+04, 1.19757264e+05,\n",
    "        8.04777907e+02, 3.74055457e+04, 3.19526831e+04, 8.59186109e+04,\n",
    "        1.08311850e+05, 9.93019220e+04, 1.07967881e+05, 1.33593418e+05,\n",
    "        7.80417285e+04, 8.02751798e+04, 9.53344258e+04, 5.21855442e+04,\n",
    "        8.19512232e+04, 5.08155762e+04, 5.79381100e+04, 1.84565946e+03]"
   ]
  },
  {
   "cell_type": "code",
   "execution_count": 199,
   "metadata": {},
   "outputs": [
    {
     "data": {
      "text/plain": [
       "(array([7., 6., 6., 3., 6., 8., 4., 4., 4., 5., 5., 5., 6., 3., 6., 5., 4.,\n",
       "        5., 2., 6.]),\n",
       " array([1.34819295e+02, 6.97285368e+03, 1.38108881e+04, 2.06489225e+04,\n",
       "        2.74869568e+04, 3.43249912e+04, 4.11630256e+04, 4.80010600e+04,\n",
       "        5.48390944e+04, 6.16771288e+04, 6.85151631e+04, 7.53531975e+04,\n",
       "        8.21912319e+04, 8.90292663e+04, 9.58673007e+04, 1.02705335e+05,\n",
       "        1.09543369e+05, 1.16381404e+05, 1.23219438e+05, 1.30057473e+05,\n",
       "        1.36895507e+05]),\n",
       " <a list of 20 Patch objects>)"
      ]
     },
     "execution_count": 199,
     "metadata": {},
     "output_type": "execute_result"
    },
    {
     "data": {
      "image/png": "[encoded data removed]",
      "text/plain": [
       "<Figure size 432x288 with 1 Axes>"
      ]
     },
     "metadata": {
      "needs_background": "light"
     },
     "output_type": "display_data"
    }
   ],
   "source": [
    "plt.hist([106088.626,\n",
    " 84339.908,\n",
    " 1407.05835,\n",
    " 68996.0883,\n",
    " 22647.7022,\n",
    " 12737.1058,\n",
    " 97371.5472,\n",
    " 24508.5414,\n",
    " 36614.5666,\n",
    "    68940.808,\n",
    "-------------\n",
    " 106895.224,\n",
    " 36170.3188,\n",
    " 27361.2798,\n",
    " 68699.4955,\n",
    " 3737.92741,\n",
    " 43528.6253,\n",
    " 121540.505,\n",
    " 4153.96153,\n",
    " 96682.8434,\n",
    " 63887.4996,\n",
    " 40438.1218,\n",
    " 56455.667,\n",
    " 61243.1705,\n",
    " 83827.0783,\n",
    " 130750.385,\n",
    " 73292.6221,\n",
    " 115037.766,\n",
    " 8806.97802,\n",
    " 68005.6646,\n",
    " 47358.9639,\n",
    " 107476.211,\n",
    " 78816.0711,\n",
    " 13591.41,\n",
    " 127595.533,\n",
    " 40546.0482,\n",
    " 84512.1155,\n",
    " 118323.92,\n",
    " 19247.3832,\n",
    " 112114.001,\n",
    " 62990.6642,\n",
    " 99730.4949,\n",
    " 32631.0537,\n",
    " 48924.8564,\n",
    " 54171.8611,\n",
    " 45620.7726,\n",
    " 38912.2008,\n",
    " 17695.93,\n",
    " 10179.0365,\n",
    " 90278.0445,\n",
    " 30174.2754,\n",
    " 130457.156,\n",
    " 86216.649,\n",
    " 9231.36023,\n",
    " 99734.3063,\n",
    " 87436.0968,\n",
    " 113324.008,\n",
    " 39247.0431,\n",
    " 15256.7535,\n",
    " 97763.1936,\n",
    " 55724.7643,\n",
    " 131518.194,\n",
    " 14468.4474,\n",
    " 134.819295,\n",
    " 122298.405,\n",
    " 64433.9944,\n",
    " 42337.1877,\n",
    " 89907.4288,\n",
    " 13247.5249,\n",
    " 82099.2832,\n",
    " 19902.6017,\n",
    " 111303.286,\n",
    " 68490.5777,\n",
    " 126825.571,\n",
    " 3021.56732,\n",
    " 34155.6173,\n",
    " 39570.9807,\n",
    " 134334.899,\n",
    " 120123.187,\n",
    " 14775.9511,\n",
    " 69939.6219,\n",
    " 28581.4759,\n",
    " 136895.507,\n",
    " 29432.2249,\n",
    " 119757.264,\n",
    " 804.777907,\n",
    " 37405.5457,\n",
    " 31952.6831,\n",
    " 85918.6109,\n",
    " 108311.85,\n",
    " 99301.922,\n",
    " 107967.881,\n",
    " 133593.418,\n",
    " 78041.7285,\n",
    " 80275.1798,\n",
    " 95334.4258,\n",
    " 52185.5442,\n",
    " 81951.2232,\n",
    " 50815.5762,\n",
    " 57938.11,\n",
    " 1845.65946],bins=20)"
   ]
  },
  {
   "cell_type": "code",
   "execution_count": null,
   "metadata": {},
   "outputs": [],
   "source": []
  }
 ],
 "metadata": {
  "kernelspec": {
   "display_name": "Python 3",
   "language": "python",
   "name": "python3"
  },
  "language_info": {
   "codemirror_mode": {
    "name": "ipython",
    "version": 3
   },
   "file_extension": ".py",
   "mimetype": "text/x-python",
   "name": "python",
   "nbconvert_exporter": "python",
   "pygments_lexer": "ipython3",
   "version": "3.7.3"
  }
 },
 "nbformat": 4,
 "nbformat_minor": 2
}
